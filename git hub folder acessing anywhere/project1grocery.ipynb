{
 "cells": [
  {
   "cell_type": "code",
   "execution_count": 53,
   "id": "9dbfb120-d9ea-422c-907f-a6a803d81a64",
   "metadata": {},
   "outputs": [
    {
     "name": "stdout",
     "output_type": "stream",
     "text": [
      "1.create list of grocery \n",
      "2.insert \n",
      "3.stack enquiry \n",
      "4.items presented list \n",
      "5.delete items\n"
     ]
    },
    {
     "name": "stdin",
     "output_type": "stream",
     "text": [
      "write your enquriy: 1\n",
      "enter the product name = ttttt\n",
      "enter the product name = yyyyy\n",
      "enter the product name = uuuuu\n",
      "enter the product name = 0\n",
      "enter 'ttttt' quantity =  4567\n",
      "enter 'yyyyy' quantity =  7889\n",
      "enter 'uuuuu' quantity =  9080\n",
      "enter '0' quantity =  0\n"
     ]
    },
    {
     "name": "stdout",
     "output_type": "stream",
     "text": [
      "1.create list of grocery \n",
      "2.insert \n",
      "3.stack enquiry \n",
      "4.items presented list \n",
      "5.delete items\n"
     ]
    },
    {
     "name": "stdin",
     "output_type": "stream",
     "text": [
      "write your enquriy: 4\n"
     ]
    },
    {
     "name": "stdout",
     "output_type": "stream",
     "text": [
      "  grocery name stack count\n",
      "1          NaN         NaN\n",
      "{'ttttt': 4567, 'yyyyy': 7889, 'uuuuu': 9080, '0': 0}\n",
      "1.create list of grocery \n",
      "2.insert \n",
      "3.stack enquiry \n",
      "4.items presented list \n",
      "5.delete items\n"
     ]
    },
    {
     "name": "stdin",
     "output_type": "stream",
     "text": [
      "write your enquriy: ----------\n"
     ]
    },
    {
     "name": "stdout",
     "output_type": "stream",
     "text": [
      "gomala varata\n",
      "None\n",
      "None\n",
      "None\n",
      "  grocery name stack count\n",
      "1          NaN         NaN\n"
     ]
    }
   ],
   "source": [
    "import re\n",
    "import pandas as pd\n",
    "def creating_grocerylist(data_grocery):\n",
    "    created_groceryinn=data_grocery\n",
    "    empty_value=0\n",
    "    while True:\n",
    "        a=input(\"enter the product name(end list press 0) =\")\n",
    "        #created_groceryinn[a]=empty_value\n",
    "        if a == \"0\":\n",
    "            break\n",
    "        created_groceryinn[a]=empty_value\n",
    "    for k,v in created_groceryinn.items():\n",
    "        while True:\n",
    "            try:\n",
    "                quantity=int(input(f\"enter '{k}' quantity = \"))\n",
    "            except:\n",
    "                print(\"enter again stack count number = \")\n",
    "            else:\n",
    "                d = v + quantity\n",
    "                created_groceryinn[k]=d\n",
    "                break\n",
    "    #print(created_groceryinn)\n",
    "    opeing_options()\n",
    "    #return created_groceryinn\n",
    "def inserting(data_grocery):\n",
    "    grocery_list = data_grocery \n",
    "    #print(grocery_list)\n",
    "    while True :\n",
    "        grocery_name=input(\"enter the grocery name = \")\n",
    "        if grocery_name in grocery_list :\n",
    "            print(\"**********already presented in list enter the stack to add it**********\")\n",
    "            while True:\n",
    "                try:\n",
    "                    quantity=int(input(\"enter the grocery quantity += \"))\n",
    "                except:\n",
    "                    print(\"enter again stack count number = \")\n",
    "                else:\n",
    "                    v = grocery_list[grocery_name]\n",
    "                    quantity=quantity+v\n",
    "                    grocery_list[grocery_name]=quantity\n",
    "                    break\n",
    "        else :\n",
    "            while True:\n",
    "                try:\n",
    "                    quantity=int(input(\"enter the grocery quantity += \"))\n",
    "                except:\n",
    "                    print(\"enter again stack count number = \")\n",
    "                else:\n",
    "                    grocery_list[grocery_name]=quantity\n",
    "                    break\n",
    "        #grocery_list.append(grocery_name,)\n",
    "        list_ending=input(\"enter y//n to enter anoter name = \")\n",
    "        if list_ending.casefold() == 'n':\n",
    "            #print(*grocery_list)\n",
    "            #opeing_options()\n",
    "            break\n",
    "    print(*grocery_list)\n",
    "    opeing_options()\n",
    "    #return grocery_list    \n",
    "def stack_enquiry():\n",
    "    i=input()\n",
    "    if i.casefold()==\"total\" :\n",
    "        print(df)\n",
    "    else:\n",
    "        if i in data_grocery:\n",
    "            if i in data_grocery:\n",
    "                print(f\"\\nProduct: {i}, Quantity: {created_groceryinn[i]}\")\n",
    "        else:\n",
    "            print(\"not presented\")\n",
    "    opeing_options() \n",
    "def items_views(df,data_grocery):\n",
    "    print(df)\n",
    "    print(data_grocery)\n",
    "    opeing_options()\n",
    "def delete_items(data_grocery):\n",
    "    item = input(\"Enter the item name to delete: \")\n",
    "    if item in data_grocery:\n",
    "        del data_grocery[item]\n",
    "        print(f\"Item '{item}' has been deleted.\")\n",
    "        update_dataframe()\n",
    "    else:\n",
    "        print(\"Item not found.\")\n",
    "    opeing_options()\n",
    "def opeing_options():\n",
    "    print(\"1.create list of grocery\",\"\\n2.insert\",\"\\n3.stack enquiry\",\"\\n4.items presented list\",\"\\n5.delete items\")\n",
    "    input_options=input(\"write your enquriy:\")\n",
    "    if input_options.casefold() == \"create list of grocery\" or input_options == \"1\" or input_options.casefold() == \"create\"  :\n",
    "        print(creating_grocerylist(data_grocery))\n",
    "    elif input_options.casefold() == \"insert\" or input_options == \"2\" :\n",
    "        print(inserting(data_grocery))\n",
    "    elif input_options.casefold() == \"stack\" or input_options == \"3\"  :\n",
    "        print(stack_enquiry())\n",
    "    elif  input_options.casefold() == \"items\" or input_options == \"4\" :\n",
    "        print(items_views(df,data_grocery))\n",
    "    elif  input_options.casefold() == \"delete items\" or input_options == \"5\" :\n",
    "        print(delete_items(data_grocery))\n",
    "    elif re.findall(r'\\w+',input_options) :\n",
    "        print(\"**********invalid syntax**********\")\n",
    "        opeing_options()\n",
    "    else:\n",
    "        print(\"gomala varata\")\n",
    "        \n",
    "data_grocery={}\n",
    "df = pd.DataFrame(list(data_grocery.items()), columns=['grocery name', 'stack count'],index=[1])\n",
    "print(opeing_options())    \n",
    "print(df)\n"
   ]
  },
  {
   "cell_type": "code",
   "execution_count": 56,
   "id": "036c91f4-fd17-43df-ac72-90163606f7ed",
   "metadata": {},
   "outputs": [
    {
     "name": "stdout",
     "output_type": "stream",
     "text": [
      "1.create list of grocery \n",
      "2.insert \n",
      "3.stack enquiry \n",
      "4.items presented list \n",
      "5.delete items \n",
      "To exit the function plz use this symbol(',-,\\,=,!) \n"
     ]
    },
    {
     "name": "stdin",
     "output_type": "stream",
     "text": [
      "write your enquriy: 1\n",
      "enter the product name = eee\n",
      "enter the product name = rrr\n",
      "enter the product name = yy\n",
      "enter the product name = 0\n",
      "enter 'eee' quantity =  45\n",
      "enter 'rrr' quantity =  56\n",
      "enter 'yy' quantity =  78\n",
      "enter '0' quantity =  0\n"
     ]
    },
    {
     "name": "stdout",
     "output_type": "stream",
     "text": [
      "Empty DataFrame\n",
      "Columns: [grocery name, stack count]\n",
      "Index: []\n",
      "1.create list of grocery \n",
      "2.insert \n",
      "3.stack enquiry \n",
      "4.items presented list \n",
      "5.delete items \n",
      "To exit the function plz use this symbol(',-,\\,=,!) \n"
     ]
    },
    {
     "name": "stdin",
     "output_type": "stream",
     "text": [
      "write your enquriy: -=---\n"
     ]
    },
    {
     "name": "stdout",
     "output_type": "stream",
     "text": [
      "gomala varata\n",
      "{'eee': 45, 'rrr': 56, 'yy': 78, '0': 0}\n",
      "Empty DataFrame\n",
      "Columns: [grocery name, stack count]\n",
      "Index: []\n"
     ]
    }
   ],
   "source": [
    "import re\n",
    "import pandas as pd\n",
    "def creating_grocerylist(data_grocery):\n",
    "    created_groceryinn=data_grocery\n",
    "    empty_value=0\n",
    "    while True:\n",
    "        a=input(\"enter the product name =\")\n",
    "        created_groceryinn[a]=empty_value\n",
    "        if a == \"0\":\n",
    "            break\n",
    "    for k,v in created_groceryinn.items():\n",
    "        while True:\n",
    "            try:\n",
    "                quantity=int(input(f\"enter '{k}' quantity = \"))\n",
    "            except:\n",
    "                print(\"enter again stack count number = \")\n",
    "            else:\n",
    "                d = v + quantity\n",
    "                created_groceryinn[k]=d\n",
    "                break\n",
    "    print(df)\n",
    "    opeing_options()\n",
    "    return created_groceryinn\n",
    "def inserting(data_grocery):\n",
    "    grocery_list = data_grocery \n",
    "    #print(grocery_list)\n",
    "    while True :\n",
    "        grocery_name=input(\"enter the grocery name = \")\n",
    "        if grocery_name in grocery_list :\n",
    "            print(\"**********already presented in list enter the stack to add it**********\")\n",
    "            while True:\n",
    "                try:\n",
    "                    quantity=int(input(\"enter the grocery quantity += \"))\n",
    "                except:\n",
    "                    print(\"enter again stack count number = \")\n",
    "                else:\n",
    "                    v = grocery_list[grocery_name]\n",
    "                    quantity=quantity+v\n",
    "                    grocery_list[grocery_name]=quantity\n",
    "                    break\n",
    "        else :\n",
    "            while True:\n",
    "                try:\n",
    "                    quantity=int(input(\"enter the grocery quantity += \"))\n",
    "                except:\n",
    "                    print(\"enter again stack count number = \")\n",
    "                else:\n",
    "                    grocery_list[grocery_name]=quantity\n",
    "                    break\n",
    "        list_ending=input(\"enter y//n to enter anoter name = \")\n",
    "        if list_ending.casefold() == 'n':\n",
    "            break\n",
    "    print(df)\n",
    "    return grocery_list,opeing_options()    \n",
    "def stack_enquiry(data_grocery):\n",
    "    i=input()\n",
    "    if i.casefold()==\"total\" :\n",
    "        print(df)\n",
    "    else:\n",
    "        if i in data_grocery:\n",
    "            for k,v in data_grocery.items():\n",
    "                if k in i:\n",
    "                    print( k,v)\n",
    "        else:\n",
    "            print(\"not presented\")\n",
    "    return opeing_options() \n",
    "def items_views():\n",
    "    print(df)\n",
    "    return opeing_options()\n",
    "def opeing_options():\n",
    "    print(\"1.create list of grocery\",\"\\n2.insert\",\"\\n3.stack enquiry\",\"\\n4.items presented list\",\"\\n5.delete items\",\"\\nTo exit the function plz use this symbol(',-,\\,=,!) \")\n",
    "    input_options=input(\"write your enquriy:\")\n",
    "    if input_options.casefold() == \"create list of grocery\" or input_options == \"1\" or input_options.casefold() == \"create\"  :\n",
    "        print(creating_grocerylist(data_grocery))\n",
    "    elif input_options.casefold() == \"insert\" or input_options == \"2\" :\n",
    "        print(inserting(data_grocery))\n",
    "    elif input_options.casefold() == \"stack\" or input_options == \"3\"  :\n",
    "        print(stack_enquiry(data_grocery))\n",
    "    elif  input_options.casefold() == \"items\" or input_options == \"4\" :\n",
    "        print(items_views())\n",
    "    elif  input_options.casefold() == \"delete items\" or input_options == \"5\" :\n",
    "        print(delete_items(data_grocery))\n",
    "    elif re.findall(r'\\w+',input_options) :\n",
    "        print(\"**********invalid syntax**********\")\n",
    "        opeing_options()\n",
    "    else:\n",
    "        print(\"gomala varata\")\n",
    "        \n",
    "data_grocery={}\n",
    "df = pd.DataFrame(list(data_grocery.items()), columns=['grocery name', 'stack count'])\n",
    "opeing_options()    \n",
    "print(df)\n"
   ]
  },
  {
   "cell_type": "code",
   "execution_count": null,
   "id": "1dba77a0-718c-433e-a79a-0ffedde89dbb",
   "metadata": {},
   "outputs": [],
   "source": []
  },
  {
   "cell_type": "code",
   "execution_count": 4,
   "id": "90fcbbd7-c5e3-4984-b34c-e3934abfa9e9",
   "metadata": {},
   "outputs": [
    {
     "name": "stdout",
     "output_type": "stream",
     "text": [
      "1.insert \n",
      "2.stack enquiry \n",
      "3.items\n"
     ]
    },
    {
     "name": "stdin",
     "output_type": "stream",
     "text": [
      "write your enquriy: 1\n",
      "enter the grocery name= www\n",
      "enter y//n to enter anoter name== 2\n",
      "enter the grocery name= 22\n",
      "enter y//n to enter anoter name== N\n"
     ]
    },
    {
     "name": "stdout",
     "output_type": "stream",
     "text": [
      "['www', '22']\n",
      "None\n"
     ]
    }
   ],
   "source": [
    "def opeing_options():\n",
    "    print(\"1.insert\",\"\\n2.stack enquiry\",\"\\n3.items\")\n",
    "    input_options=input(\"write your enquriy:\")\n",
    "    if input_options.casefold() == \"insert\" or input_options == \"1\" :\n",
    "        print(inserting())\n",
    "    elif input_options.casefold() == \"stack\" or input_options == \"2\"  :\n",
    "        print(stack_enquiry())\n",
    "    elif  input_options.casefold() == \"items\" or input_options == \"3\" :\n",
    "        print(items_views())\n",
    "    else :\n",
    "        print(\"invalid syntax\")\n",
    "opeing_options()\n",
    "    "
   ]
  },
  {
   "cell_type": "code",
   "execution_count": 27,
   "id": "1875968e-fec9-4e6e-ad0e-f4dd322bca21",
   "metadata": {},
   "outputs": [],
   "source": [
    "class r1():\n",
    "    def n1(self):\n",
    "        b=int(input())\n",
    "        return b\n",
    "    def n2(self):\n",
    "        a=int(input(\"enter++\"))\n",
    "        d=int(input(\"enter++\"))\n",
    "        c=a + d\n",
    "        return c\n",
    "    def n3(*self):\n",
    "        d=[]\n",
    "        for i in range(1,20):\n",
    "            i+=3\n",
    "            d.append(i)\n",
    "        return d \n",
    "class r_total(r1):\n",
    "    def n5(self):\n",
    "        print(\"working\")"
   ]
  },
  {
   "cell_type": "code",
   "execution_count": 28,
   "id": "3478b1ee-b936-4572-9443-7007132aae28",
   "metadata": {},
   "outputs": [],
   "source": [
    "obj=r_total()"
   ]
  },
  {
   "cell_type": "code",
   "execution_count": 29,
   "id": "17d45263-20db-4c6e-8bc2-fab167dd3738",
   "metadata": {},
   "outputs": [
    {
     "name": "stdin",
     "output_type": "stream",
     "text": [
      "enter++ 56\n",
      "enter++ 78\n"
     ]
    },
    {
     "data": {
      "text/plain": [
       "134"
      ]
     },
     "execution_count": 29,
     "metadata": {},
     "output_type": "execute_result"
    }
   ],
   "source": [
    "obj.n2()"
   ]
  },
  {
   "cell_type": "raw",
   "id": "196a9df4-45f4-470b-9ffd-5032b3542f50",
   "metadata": {},
   "source": [
    "creating grocery data base"
   ]
  },
  {
   "cell_type": "code",
   "execution_count": 1,
   "id": "02752a45-bf94-43a1-9ceb-a9f7348ff40d",
   "metadata": {},
   "outputs": [
    {
     "name": "stdin",
     "output_type": "stream",
     "text": [
      "enter the product name= rr\n",
      "enter the product name= 34\n",
      "enter the product name= 444yyy\n",
      "enter the product name= rrr\n",
      "enter the product name= 0\n"
     ]
    },
    {
     "ename": "ValueError",
     "evalue": "If using all scalar values, you must pass an index",
     "output_type": "error",
     "traceback": [
      "\u001b[1;31m---------------------------------------------------------------------------\u001b[0m",
      "\u001b[1;31mValueError\u001b[0m                                Traceback (most recent call last)",
      "Cell \u001b[1;32mIn[1], line 9\u001b[0m\n\u001b[0;32m      7\u001b[0m     \u001b[38;5;28;01mif\u001b[39;00m a\u001b[38;5;241m==\u001b[39m\u001b[38;5;124m\"\u001b[39m\u001b[38;5;124m0\u001b[39m\u001b[38;5;124m\"\u001b[39m:\n\u001b[0;32m      8\u001b[0m         \u001b[38;5;28;01mbreak\u001b[39;00m\n\u001b[1;32m----> 9\u001b[0m df \u001b[38;5;241m=\u001b[39m \u001b[43mpd\u001b[49m\u001b[38;5;241;43m.\u001b[39;49m\u001b[43mDataFrame\u001b[49m\u001b[43m(\u001b[49m\u001b[43mb\u001b[49m\u001b[43m)\u001b[49m\n\u001b[0;32m     10\u001b[0m \u001b[38;5;28mprint\u001b[39m(df)\n",
      "File \u001b[1;32m~\\AppData\\Local\\Programs\\Python\\Python311\\Lib\\site-packages\\pandas\\core\\frame.py:778\u001b[0m, in \u001b[0;36mDataFrame.__init__\u001b[1;34m(self, data, index, columns, dtype, copy)\u001b[0m\n\u001b[0;32m    772\u001b[0m     mgr \u001b[38;5;241m=\u001b[39m \u001b[38;5;28mself\u001b[39m\u001b[38;5;241m.\u001b[39m_init_mgr(\n\u001b[0;32m    773\u001b[0m         data, axes\u001b[38;5;241m=\u001b[39m{\u001b[38;5;124m\"\u001b[39m\u001b[38;5;124mindex\u001b[39m\u001b[38;5;124m\"\u001b[39m: index, \u001b[38;5;124m\"\u001b[39m\u001b[38;5;124mcolumns\u001b[39m\u001b[38;5;124m\"\u001b[39m: columns}, dtype\u001b[38;5;241m=\u001b[39mdtype, copy\u001b[38;5;241m=\u001b[39mcopy\n\u001b[0;32m    774\u001b[0m     )\n\u001b[0;32m    776\u001b[0m \u001b[38;5;28;01melif\u001b[39;00m \u001b[38;5;28misinstance\u001b[39m(data, \u001b[38;5;28mdict\u001b[39m):\n\u001b[0;32m    777\u001b[0m     \u001b[38;5;66;03m# GH#38939 de facto copy defaults to False only in non-dict cases\u001b[39;00m\n\u001b[1;32m--> 778\u001b[0m     mgr \u001b[38;5;241m=\u001b[39m \u001b[43mdict_to_mgr\u001b[49m\u001b[43m(\u001b[49m\u001b[43mdata\u001b[49m\u001b[43m,\u001b[49m\u001b[43m \u001b[49m\u001b[43mindex\u001b[49m\u001b[43m,\u001b[49m\u001b[43m \u001b[49m\u001b[43mcolumns\u001b[49m\u001b[43m,\u001b[49m\u001b[43m \u001b[49m\u001b[43mdtype\u001b[49m\u001b[38;5;241;43m=\u001b[39;49m\u001b[43mdtype\u001b[49m\u001b[43m,\u001b[49m\u001b[43m \u001b[49m\u001b[43mcopy\u001b[49m\u001b[38;5;241;43m=\u001b[39;49m\u001b[43mcopy\u001b[49m\u001b[43m,\u001b[49m\u001b[43m \u001b[49m\u001b[43mtyp\u001b[49m\u001b[38;5;241;43m=\u001b[39;49m\u001b[43mmanager\u001b[49m\u001b[43m)\u001b[49m\n\u001b[0;32m    779\u001b[0m \u001b[38;5;28;01melif\u001b[39;00m \u001b[38;5;28misinstance\u001b[39m(data, ma\u001b[38;5;241m.\u001b[39mMaskedArray):\n\u001b[0;32m    780\u001b[0m     \u001b[38;5;28;01mfrom\u001b[39;00m \u001b[38;5;21;01mnumpy\u001b[39;00m\u001b[38;5;21;01m.\u001b[39;00m\u001b[38;5;21;01mma\u001b[39;00m \u001b[38;5;28;01mimport\u001b[39;00m mrecords\n",
      "File \u001b[1;32m~\\AppData\\Local\\Programs\\Python\\Python311\\Lib\\site-packages\\pandas\\core\\internals\\construction.py:503\u001b[0m, in \u001b[0;36mdict_to_mgr\u001b[1;34m(data, index, columns, dtype, typ, copy)\u001b[0m\n\u001b[0;32m    499\u001b[0m     \u001b[38;5;28;01melse\u001b[39;00m:\n\u001b[0;32m    500\u001b[0m         \u001b[38;5;66;03m# dtype check to exclude e.g. range objects, scalars\u001b[39;00m\n\u001b[0;32m    501\u001b[0m         arrays \u001b[38;5;241m=\u001b[39m [x\u001b[38;5;241m.\u001b[39mcopy() \u001b[38;5;28;01mif\u001b[39;00m \u001b[38;5;28mhasattr\u001b[39m(x, \u001b[38;5;124m\"\u001b[39m\u001b[38;5;124mdtype\u001b[39m\u001b[38;5;124m\"\u001b[39m) \u001b[38;5;28;01melse\u001b[39;00m x \u001b[38;5;28;01mfor\u001b[39;00m x \u001b[38;5;129;01min\u001b[39;00m arrays]\n\u001b[1;32m--> 503\u001b[0m \u001b[38;5;28;01mreturn\u001b[39;00m \u001b[43marrays_to_mgr\u001b[49m\u001b[43m(\u001b[49m\u001b[43marrays\u001b[49m\u001b[43m,\u001b[49m\u001b[43m \u001b[49m\u001b[43mcolumns\u001b[49m\u001b[43m,\u001b[49m\u001b[43m \u001b[49m\u001b[43mindex\u001b[49m\u001b[43m,\u001b[49m\u001b[43m \u001b[49m\u001b[43mdtype\u001b[49m\u001b[38;5;241;43m=\u001b[39;49m\u001b[43mdtype\u001b[49m\u001b[43m,\u001b[49m\u001b[43m \u001b[49m\u001b[43mtyp\u001b[49m\u001b[38;5;241;43m=\u001b[39;49m\u001b[43mtyp\u001b[49m\u001b[43m,\u001b[49m\u001b[43m \u001b[49m\u001b[43mconsolidate\u001b[49m\u001b[38;5;241;43m=\u001b[39;49m\u001b[43mcopy\u001b[49m\u001b[43m)\u001b[49m\n",
      "File \u001b[1;32m~\\AppData\\Local\\Programs\\Python\\Python311\\Lib\\site-packages\\pandas\\core\\internals\\construction.py:114\u001b[0m, in \u001b[0;36marrays_to_mgr\u001b[1;34m(arrays, columns, index, dtype, verify_integrity, typ, consolidate)\u001b[0m\n\u001b[0;32m    111\u001b[0m \u001b[38;5;28;01mif\u001b[39;00m verify_integrity:\n\u001b[0;32m    112\u001b[0m     \u001b[38;5;66;03m# figure out the index, if necessary\u001b[39;00m\n\u001b[0;32m    113\u001b[0m     \u001b[38;5;28;01mif\u001b[39;00m index \u001b[38;5;129;01mis\u001b[39;00m \u001b[38;5;28;01mNone\u001b[39;00m:\n\u001b[1;32m--> 114\u001b[0m         index \u001b[38;5;241m=\u001b[39m \u001b[43m_extract_index\u001b[49m\u001b[43m(\u001b[49m\u001b[43marrays\u001b[49m\u001b[43m)\u001b[49m\n\u001b[0;32m    115\u001b[0m     \u001b[38;5;28;01melse\u001b[39;00m:\n\u001b[0;32m    116\u001b[0m         index \u001b[38;5;241m=\u001b[39m ensure_index(index)\n",
      "File \u001b[1;32m~\\AppData\\Local\\Programs\\Python\\Python311\\Lib\\site-packages\\pandas\\core\\internals\\construction.py:667\u001b[0m, in \u001b[0;36m_extract_index\u001b[1;34m(data)\u001b[0m\n\u001b[0;32m    664\u001b[0m         \u001b[38;5;28;01mraise\u001b[39;00m \u001b[38;5;167;01mValueError\u001b[39;00m(\u001b[38;5;124m\"\u001b[39m\u001b[38;5;124mPer-column arrays must each be 1-dimensional\u001b[39m\u001b[38;5;124m\"\u001b[39m)\n\u001b[0;32m    666\u001b[0m \u001b[38;5;28;01mif\u001b[39;00m \u001b[38;5;129;01mnot\u001b[39;00m indexes \u001b[38;5;129;01mand\u001b[39;00m \u001b[38;5;129;01mnot\u001b[39;00m raw_lengths:\n\u001b[1;32m--> 667\u001b[0m     \u001b[38;5;28;01mraise\u001b[39;00m \u001b[38;5;167;01mValueError\u001b[39;00m(\u001b[38;5;124m\"\u001b[39m\u001b[38;5;124mIf using all scalar values, you must pass an index\u001b[39m\u001b[38;5;124m\"\u001b[39m)\n\u001b[0;32m    669\u001b[0m \u001b[38;5;28;01mif\u001b[39;00m have_series:\n\u001b[0;32m    670\u001b[0m     index \u001b[38;5;241m=\u001b[39m union_indexes(indexes)\n",
      "\u001b[1;31mValueError\u001b[0m: If using all scalar values, you must pass an index"
     ]
    }
   ],
   "source": [
    "import pandas as pd\n",
    "b={}\n",
    "c=0\n",
    "while True:\n",
    "    a=input(\"enter the product name=\")\n",
    "    b[a]=c\n",
    "    if a==\"0\":\n",
    "        break\n",
    "df = pd.DataFrame(b)\n",
    "print(df)\n",
    "    "
   ]
  },
  {
   "cell_type": "code",
   "execution_count": 4,
   "id": "c40a56aa-4841-4507-bfa6-d5d3cb4d25cb",
   "metadata": {},
   "outputs": [
    {
     "name": "stdin",
     "output_type": "stream",
     "text": [
      "enter the product name= ee\n",
      "enter the product name= rr\n",
      "enter the product name= tt\n",
      "enter the product name= 0\n"
     ]
    },
    {
     "name": "stdout",
     "output_type": "stream",
     "text": [
      "{'ee': 1, 'rr': 1, 'tt': 1, '0': 1}\n"
     ]
    },
    {
     "name": "stdin",
     "output_type": "stream",
     "text": [
      "enter 'ee' quantity=  34\n",
      "enter 'rr' quantity=  45\n",
      "enter 'tt' quantity=  56\n",
      "enter '0' quantity=  0\n"
     ]
    },
    {
     "name": "stdout",
     "output_type": "stream",
     "text": [
      "{'ee': 35, 'rr': 46, 'tt': 57, '0': 1}\n"
     ]
    }
   ],
   "source": [
    "import pandas as pd\n",
    "b={}\n",
    "c=1\n",
    "while True:\n",
    "    a=input(\"enter the product name=\")\n",
    "    b[a]=c\n",
    "    if a == \"0\":\n",
    "        break\n",
    "print(b)\n",
    "for k,v in b.items():\n",
    "    a=int(input(f\"enter '{k}' quantity= \"))\n",
    "    d=v+a\n",
    "    b[k]=d\n",
    "#df = pd.DataFrame(b)\n",
    "print(b)\n",
    "#print(b.items)"
   ]
  },
  {
   "cell_type": "code",
   "execution_count": null,
   "id": "c6ca1476-c0e5-4a1e-a548-a3bd5c0a4db5",
   "metadata": {},
   "outputs": [],
   "source": []
  },
  {
   "cell_type": "code",
   "execution_count": 7,
   "id": "02de0449-6dd5-4402-ba9c-761a325bbd40",
   "metadata": {},
   "outputs": [
    {
     "name": "stdout",
     "output_type": "stream",
     "text": [
      "1.insert \n",
      "2.stack enquiry \n",
      "3.items \n",
      "4.create grocery database\n"
     ]
    },
    {
     "name": "stdin",
     "output_type": "stream",
     "text": [
      "write your enquriy: 4\n",
      "enter the product name= ttt\n",
      "enter the product name= yyy\n",
      "enter the product name= ooo\n",
      "enter the product name= ppp\n",
      "enter the product name= 0\n",
      "enter 'ttt' quantity=  67\n",
      "enter 'yyy' quantity=  ooo\n"
     ]
    },
    {
     "name": "stdout",
     "output_type": "stream",
     "text": [
      "enter again\n"
     ]
    },
    {
     "name": "stdin",
     "output_type": "stream",
     "text": [
      "enter 'yyy' quantity=  8989\n",
      "enter 'ooo' quantity=  0000\n",
      "enter 'ppp' quantity=  opopo\n"
     ]
    },
    {
     "name": "stdout",
     "output_type": "stream",
     "text": [
      "enter again\n"
     ]
    },
    {
     "name": "stdin",
     "output_type": "stream",
     "text": [
      "enter 'ppp' quantity=  7878\n",
      "enter '0' quantity=  0\n"
     ]
    },
    {
     "name": "stdout",
     "output_type": "stream",
     "text": [
      "{'ttt': 67, 'yyy': 8989, 'ooo': 0, 'ppp': 7878, '0': 0}\n",
      "{'ttt': 67, 'yyy': 8989, 'ooo': 0, 'ppp': 7878, '0': 0}\n"
     ]
    }
   ],
   "source": [
    "import re\n",
    "import pandas as pd\n",
    "def creating_grocerylist(b):\n",
    "    created_grocerylist=b\n",
    "    empty_value=0\n",
    "    while True:\n",
    "        a=input(\"enter the product name=\")\n",
    "        b[a]=empty_value\n",
    "        if a == \"0\":\n",
    "            break\n",
    "    #print(b)\n",
    "    for k,v in created_grocerylist.items():\n",
    "        while True:\n",
    "            try:\n",
    "                a=int(input(f\"enter '{k}' quantity= \"))\n",
    "            except:\n",
    "                print(\"enter again\")\n",
    "            else:\n",
    "                d=v+a\n",
    "                created_grocerylist[k]=d\n",
    "                break\n",
    "    return created_grocerylist\n",
    "def inserting(b):\n",
    "    grocery_list = b\n",
    "    while True :\n",
    "        grocery_name=input(\"enter the grocery name=\")\n",
    "        quantity=int(input(\"enter the grocery quantity=\"))\n",
    "        grocery_list[grocery_name]=quantity\n",
    "        #grocery_list.append(grocery_name,)\n",
    "        list_ending=input(\"enter y//n to enter anoter name==\")\n",
    "        if list_ending.casefold() == 'n':\n",
    "            opeing_options()\n",
    "            break\n",
    "    return grocery_list    \n",
    "def stack_enquiry():\n",
    "    i=input()\n",
    "    if i.casefold()==\"total\" :\n",
    "        print(df)\n",
    "    else:\n",
    "        if i in d:\n",
    "            for k,v in d.items():\n",
    "                if k in i:\n",
    "                    print( k,v)\n",
    "        else:\n",
    "            print(\"not presented\")\n",
    "\n",
    "#def items_views():\n",
    "def opeing_options():\n",
    "    print(\"1.insert\",\"\\n2.stack enquiry\",\"\\n3.items\",\"\\n4.create grocery database\")\n",
    "    input_options=input(\"write your enquriy:\")\n",
    "    if input_options.casefold() == \"insert\" or input_options == \"1\" :\n",
    "        print(inserting(b))\n",
    "    elif input_options.casefold() == \"stack\" or input_options == \"2\"  :\n",
    "        print(stack_enquiry())\n",
    "    elif  input_options.casefold() == \"items\" or input_options == \"3\" :\n",
    "        print(items_views())\n",
    "    elif  input_options.casefold() == \"create grocery database\" or input_options == \"4\" :\n",
    "        print(creating_grocerylist(b))\n",
    "    elif re.findall(r'\\w+',input_options) :\n",
    "        print(\"**********invalid syntax**********\")\n",
    "        opeing_options()\n",
    "    else:\n",
    "        print(\"gomala varata\")\n",
    "b={}\n",
    "opeing_options() \n",
    "print(b)\n"
   ]
  },
  {
   "cell_type": "code",
   "execution_count": 37,
   "id": "5e1162cf-90ea-49e0-a347-a7cf3ea8550a",
   "metadata": {},
   "outputs": [
    {
     "ename": "SyntaxError",
     "evalue": "cannot use starred expression here (3473623597.py, line 13)",
     "output_type": "error",
     "traceback": [
      "\u001b[1;36m  Cell \u001b[1;32mIn[37], line 13\u001b[1;36m\u001b[0m\n\u001b[1;33m    return (*created_groceryinn)\u001b[0m\n\u001b[1;37m            ^\u001b[0m\n\u001b[1;31mSyntaxError\u001b[0m\u001b[1;31m:\u001b[0m cannot use starred expression here\n"
     ]
    }
   ],
   "source": [
    "def creating_grocerylist(data_grocery):\n",
    "    created_groceryinn=data_grocery\n",
    "    empty_value=0\n",
    "    while True:\n",
    "        a=input(\"enter the product name=\")\n",
    "        created_groceryinn[a]=empty_value\n",
    "        if a == \"0\":\n",
    "            break\n",
    "    for k,v in created_groceryinn.items():\n",
    "        quantity=int(input(f\"enter '{k}' quantity= \"))\n",
    "        b=v+quantity\n",
    "        created_groceryinn[k]=b\n",
    "    return created_groceryinn\n",
    "def inserting(data_grocery):\n",
    "    grocery_list = data_grocery \n",
    "    #print(grocery_list)\n",
    "    while True :\n",
    "        grocery_name=input(\"enter the grocery name=\")\n",
    "        if grocery_name in grocery_list :\n",
    "            quantity=int(input(\"enter the grocery quantity=\"))\n",
    "            v = d[grocery_name]\n",
    "            quantity=quantity+v\n",
    "            d[grocery_name]=quantity\n",
    "        else :\n",
    "            quantity=int(input(\"enter the grocery quantity=\"))\n",
    "            d[grocery_name]=quantity\n",
    "        #grocery_list.append(grocery_name,)\n",
    "        list_ending=input(\"enter y//n to enter anoter name==\")\n",
    "        if list_ending.casefold() == 'n':\n",
    "            print(grocery_list)\n",
    "        #opeing_options()\n",
    "            break\n",
    "    return grocery_list\n",
    "\n",
    "a=int(input())\n",
    "data_grocery = {}\n",
    "if a == 1:\n",
    "    creating_grocerylist(d)\n",
    "    inserting(d)\n",
    "elif a == 2:\n",
    "   inserting(d)\n",
    "\n",
    "#d = {}\n"
   ]
  },
  {
   "cell_type": "code",
   "execution_count": 35,
   "id": "80095177-5ed5-4bef-827f-fa6e0a2b1f4e",
   "metadata": {},
   "outputs": [
    {
     "ename": "KeyboardInterrupt",
     "evalue": "Interrupted by user",
     "output_type": "error",
     "traceback": [
      "\u001b[1;31m---------------------------------------------------------------------------\u001b[0m",
      "\u001b[1;31mKeyboardInterrupt\u001b[0m                         Traceback (most recent call last)",
      "Cell \u001b[1;32mIn[35], line 3\u001b[0m\n\u001b[0;32m      1\u001b[0m grocery_list \u001b[38;5;241m=\u001b[39m{}\n\u001b[0;32m      2\u001b[0m \u001b[38;5;28;01mwhile\u001b[39;00m \u001b[38;5;28;01mTrue\u001b[39;00m :\n\u001b[1;32m----> 3\u001b[0m     grocery_name\u001b[38;5;241m=\u001b[39m\u001b[38;5;28;43minput\u001b[39;49m\u001b[43m(\u001b[49m\u001b[38;5;124;43m\"\u001b[39;49m\u001b[38;5;124;43menter the grocery name=\u001b[39;49m\u001b[38;5;124;43m\"\u001b[39;49m\u001b[43m)\u001b[49m\n\u001b[0;32m      4\u001b[0m     \u001b[38;5;28;01mif\u001b[39;00m grocery_name \u001b[38;5;129;01min\u001b[39;00m grocery_list:\n\u001b[0;32m      5\u001b[0m         quantity\u001b[38;5;241m=\u001b[39m\u001b[38;5;28mint\u001b[39m(\u001b[38;5;28minput\u001b[39m(\u001b[38;5;124m\"\u001b[39m\u001b[38;5;124menter the grocery quantity=\u001b[39m\u001b[38;5;124m\"\u001b[39m))\n",
      "File \u001b[1;32m~\\AppData\\Local\\Programs\\Python\\Python311\\Lib\\site-packages\\ipykernel\\kernelbase.py:1282\u001b[0m, in \u001b[0;36mKernel.raw_input\u001b[1;34m(self, prompt)\u001b[0m\n\u001b[0;32m   1280\u001b[0m     msg \u001b[38;5;241m=\u001b[39m \u001b[38;5;124m\"\u001b[39m\u001b[38;5;124mraw_input was called, but this frontend does not support input requests.\u001b[39m\u001b[38;5;124m\"\u001b[39m\n\u001b[0;32m   1281\u001b[0m     \u001b[38;5;28;01mraise\u001b[39;00m StdinNotImplementedError(msg)\n\u001b[1;32m-> 1282\u001b[0m \u001b[38;5;28;01mreturn\u001b[39;00m \u001b[38;5;28;43mself\u001b[39;49m\u001b[38;5;241;43m.\u001b[39;49m\u001b[43m_input_request\u001b[49m\u001b[43m(\u001b[49m\n\u001b[0;32m   1283\u001b[0m \u001b[43m    \u001b[49m\u001b[38;5;28;43mstr\u001b[39;49m\u001b[43m(\u001b[49m\u001b[43mprompt\u001b[49m\u001b[43m)\u001b[49m\u001b[43m,\u001b[49m\n\u001b[0;32m   1284\u001b[0m \u001b[43m    \u001b[49m\u001b[38;5;28;43mself\u001b[39;49m\u001b[38;5;241;43m.\u001b[39;49m\u001b[43m_parent_ident\u001b[49m\u001b[43m[\u001b[49m\u001b[38;5;124;43m\"\u001b[39;49m\u001b[38;5;124;43mshell\u001b[39;49m\u001b[38;5;124;43m\"\u001b[39;49m\u001b[43m]\u001b[49m\u001b[43m,\u001b[49m\n\u001b[0;32m   1285\u001b[0m \u001b[43m    \u001b[49m\u001b[38;5;28;43mself\u001b[39;49m\u001b[38;5;241;43m.\u001b[39;49m\u001b[43mget_parent\u001b[49m\u001b[43m(\u001b[49m\u001b[38;5;124;43m\"\u001b[39;49m\u001b[38;5;124;43mshell\u001b[39;49m\u001b[38;5;124;43m\"\u001b[39;49m\u001b[43m)\u001b[49m\u001b[43m,\u001b[49m\n\u001b[0;32m   1286\u001b[0m \u001b[43m    \u001b[49m\u001b[43mpassword\u001b[49m\u001b[38;5;241;43m=\u001b[39;49m\u001b[38;5;28;43;01mFalse\u001b[39;49;00m\u001b[43m,\u001b[49m\n\u001b[0;32m   1287\u001b[0m \u001b[43m\u001b[49m\u001b[43m)\u001b[49m\n",
      "File \u001b[1;32m~\\AppData\\Local\\Programs\\Python\\Python311\\Lib\\site-packages\\ipykernel\\kernelbase.py:1325\u001b[0m, in \u001b[0;36mKernel._input_request\u001b[1;34m(self, prompt, ident, parent, password)\u001b[0m\n\u001b[0;32m   1322\u001b[0m \u001b[38;5;28;01mexcept\u001b[39;00m \u001b[38;5;167;01mKeyboardInterrupt\u001b[39;00m:\n\u001b[0;32m   1323\u001b[0m     \u001b[38;5;66;03m# re-raise KeyboardInterrupt, to truncate traceback\u001b[39;00m\n\u001b[0;32m   1324\u001b[0m     msg \u001b[38;5;241m=\u001b[39m \u001b[38;5;124m\"\u001b[39m\u001b[38;5;124mInterrupted by user\u001b[39m\u001b[38;5;124m\"\u001b[39m\n\u001b[1;32m-> 1325\u001b[0m     \u001b[38;5;28;01mraise\u001b[39;00m \u001b[38;5;167;01mKeyboardInterrupt\u001b[39;00m(msg) \u001b[38;5;28;01mfrom\u001b[39;00m \u001b[38;5;28;01mNone\u001b[39;00m\n\u001b[0;32m   1326\u001b[0m \u001b[38;5;28;01mexcept\u001b[39;00m \u001b[38;5;167;01mException\u001b[39;00m:\n\u001b[0;32m   1327\u001b[0m     \u001b[38;5;28mself\u001b[39m\u001b[38;5;241m.\u001b[39mlog\u001b[38;5;241m.\u001b[39mwarning(\u001b[38;5;124m\"\u001b[39m\u001b[38;5;124mInvalid Message:\u001b[39m\u001b[38;5;124m\"\u001b[39m, exc_info\u001b[38;5;241m=\u001b[39m\u001b[38;5;28;01mTrue\u001b[39;00m)\n",
      "\u001b[1;31mKeyboardInterrupt\u001b[0m: Interrupted by user"
     ]
    },
    {
     "name": "stdin",
     "output_type": "stream",
     "text": [
      "enter the grocery name= n\n"
     ]
    }
   ],
   "source": [
    "grocery_list ={}\n",
    "while True :\n",
    "    grocery_name=input(\"enter the grocery name=\")\n",
    "    if grocery_name in grocery_list:\n",
    "        quantity=int(input(\"enter the grocery quantity=\"))\n",
    "        v = grocery_list[grocery_name]\n",
    "        quantity=quantity+v\n",
    "        grocery_lis[grocery_name]=quantity\n",
    "    else :\n",
    "        quantity=int(input(\"enter the grocery quantity=\"))\n",
    "        grocery_list[grocery_name]=quantity\n",
    "        #grocery_list.append(grocery_name,)\n",
    "    list_ending=input(\"enter y//n to enter anoter name==\")\n",
    "    if list_ending.casefold() == 'n':\n",
    "        #opeing_options()\n",
    "        break\n",
    "print( grocery_list)"
   ]
  },
  {
   "cell_type": "code",
   "execution_count": 66,
   "id": "3cb425b4-c98c-4c93-8b5a-edae1f66b30a",
   "metadata": {},
   "outputs": [
    {
     "name": "stdin",
     "output_type": "stream",
     "text": [
      "enter the product name= ww\n",
      "enter the product name= ee\n",
      "enter the product name= rr\n",
      "enter the product name= yy\n",
      "enter the product name= 00\n",
      "enter the product name= 0\n",
      "enter 'ww' quantity=  ww\n"
     ]
    },
    {
     "ename": "ValueError",
     "evalue": "invalid literal for int() with base 10: 'ww'",
     "output_type": "error",
     "traceback": [
      "\u001b[1;31m---------------------------------------------------------------------------\u001b[0m",
      "\u001b[1;31mValueError\u001b[0m                                Traceback (most recent call last)",
      "Cell \u001b[1;32mIn[66], line 28\u001b[0m\n\u001b[0;32m     26\u001b[0m df \u001b[38;5;241m=\u001b[39m pd\u001b[38;5;241m.\u001b[39mDataFrame(\u001b[38;5;28mlist\u001b[39m(created_groceryinn\u001b[38;5;241m.\u001b[39mitems()), columns\u001b[38;5;241m=\u001b[39m[\u001b[38;5;124m'\u001b[39m\u001b[38;5;124mProduct\u001b[39m\u001b[38;5;124m'\u001b[39m, \u001b[38;5;124m'\u001b[39m\u001b[38;5;124mQuantity\u001b[39m\u001b[38;5;124m'\u001b[39m])\n\u001b[0;32m     27\u001b[0m df\u001b[38;5;241m.\u001b[39mindex \u001b[38;5;241m=\u001b[39m \u001b[38;5;28mrange\u001b[39m(\u001b[38;5;28mlen\u001b[39m(df))\n\u001b[1;32m---> 28\u001b[0m \u001b[43mhh\u001b[49m\u001b[43m(\u001b[49m\u001b[43mcreated_groceryinn\u001b[49m\u001b[43m,\u001b[49m\u001b[43mdf\u001b[49m\u001b[43m)\u001b[49m\n\u001b[0;32m     29\u001b[0m \u001b[38;5;28mprint\u001b[39m(df)\n\u001b[0;32m     30\u001b[0m \u001b[38;5;28mprint\u001b[39m(created_groceryinn)\n",
      "Cell \u001b[1;32mIn[66], line 10\u001b[0m, in \u001b[0;36mhh\u001b[1;34m(created_groceryinn, df)\u001b[0m\n\u001b[0;32m      8\u001b[0m         \u001b[38;5;28;01mbreak\u001b[39;00m\n\u001b[0;32m      9\u001b[0m \u001b[38;5;28;01mfor\u001b[39;00m k,v \u001b[38;5;129;01min\u001b[39;00m created_groceryinn\u001b[38;5;241m.\u001b[39mitems():\n\u001b[1;32m---> 10\u001b[0m     quantity\u001b[38;5;241m=\u001b[39m\u001b[38;5;28;43mint\u001b[39;49m\u001b[43m(\u001b[49m\u001b[38;5;28;43minput\u001b[39;49m\u001b[43m(\u001b[49m\u001b[38;5;124;43mf\u001b[39;49m\u001b[38;5;124;43m\"\u001b[39;49m\u001b[38;5;124;43menter \u001b[39;49m\u001b[38;5;124;43m'\u001b[39;49m\u001b[38;5;132;43;01m{\u001b[39;49;00m\u001b[43mk\u001b[49m\u001b[38;5;132;43;01m}\u001b[39;49;00m\u001b[38;5;124;43m'\u001b[39;49m\u001b[38;5;124;43m quantity= \u001b[39;49m\u001b[38;5;124;43m\"\u001b[39;49m\u001b[43m)\u001b[49m\u001b[43m)\u001b[49m\n\u001b[0;32m     11\u001b[0m     b\u001b[38;5;241m=\u001b[39mv\u001b[38;5;241m+\u001b[39mquantity\n\u001b[0;32m     12\u001b[0m     created_groceryinn[k]\u001b[38;5;241m=\u001b[39mb\n",
      "\u001b[1;31mValueError\u001b[0m: invalid literal for int() with base 10: 'ww'"
     ]
    }
   ],
   "source": [
    "import pandas as pd\n",
    "def hh(created_groceryinn,df):\n",
    "    empty_value=0\n",
    "    while True:\n",
    "        a=input(\"enter the product name=\")\n",
    "        created_groceryinn[a]=empty_value\n",
    "        if a == \"0\":\n",
    "            break\n",
    "    for k,v in created_groceryinn.items():\n",
    "        quantity=int(input(f\"enter '{k}' quantity= \"))\n",
    "        b=v+quantity\n",
    "        created_groceryinn[k]=b\n",
    "    print(created_groceryinn)\n",
    "    i=input()\n",
    "    \n",
    "    if i.casefold()==\"total\" :\n",
    "        print(df)\n",
    "    else:\n",
    "        if i in created_groceryinn:\n",
    "            for k,v in created_groceryinn.items():\n",
    "                if k in i:\n",
    "                    print( k,v)\n",
    "        else:\n",
    "            print(\"not presented\")\n",
    "created_groceryinn={}\n",
    "df = pd.DataFrame(list(created_groceryinn.items()), columns=['Product', 'Quantity'])\n",
    "df.index = range(len(df))\n",
    "hh(created_groceryinn,df)\n",
    "print(df)\n",
    "print(created_groceryinn)"
   ]
  },
  {
   "cell_type": "code",
   "execution_count": 40,
   "id": "27a18f99-0445-4510-be01-d3d659fd0c38",
   "metadata": {},
   "outputs": [],
   "source": [
    "b=hh()"
   ]
  },
  {
   "cell_type": "code",
   "execution_count": null,
   "id": "bceeeb63-157b-4e97-a621-1f636acc0d5b",
   "metadata": {},
   "outputs": [],
   "source": []
  },
  {
   "cell_type": "code",
   "execution_count": 49,
   "id": "5b963952-e55a-4563-a5f2-d48aea027b10",
   "metadata": {},
   "outputs": [
    {
     "ename": "SyntaxError",
     "evalue": "invalid syntax (2523655279.py, line 3)",
     "output_type": "error",
     "traceback": [
      "\u001b[1;36m  Cell \u001b[1;32mIn[49], line 3\u001b[1;36m\u001b[0m\n\u001b[1;33m    y=lambda(x:x in range(1,10,2))\u001b[0m\n\u001b[1;37m            ^\u001b[0m\n\u001b[1;31mSyntaxError\u001b[0m\u001b[1;31m:\u001b[0m invalid syntax\n"
     ]
    }
   ],
   "source": [
    "def ff():\n",
    "    for k,i in b.items():\n",
    "        y=lambda(x:x in range(1,10,2))\n",
    "        b[k]=y\n",
    "    return b"
   ]
  },
  {
   "cell_type": "code",
   "execution_count": null,
   "id": "d14a9dc5-388a-41ad-a4d3-686a83768bf2",
   "metadata": {},
   "outputs": [],
   "source": []
  },
  {
   "cell_type": "code",
   "execution_count": 48,
   "id": "0e3e241a-11c6-453d-ab7f-bd88be2d650b",
   "metadata": {},
   "outputs": [
    {
     "data": {
      "text/plain": [
       "{1: 0, 2: 0, 3: 0, 4: 0, 5: 0, 6: 0, 7: 0, 8: 0, 9: 0}"
      ]
     },
     "execution_count": 48,
     "metadata": {},
     "output_type": "execute_result"
    }
   ],
   "source": [
    "ff()"
   ]
  },
  {
   "cell_type": "code",
   "execution_count": 2,
   "id": "90a0a863-cc59-4375-af91-cda7ac59d49c",
   "metadata": {},
   "outputs": [
    {
     "name": "stdin",
     "output_type": "stream",
     "text": [
      " ww\n"
     ]
    },
    {
     "name": "stdout",
     "output_type": "stream",
     "text": [
      "enter again\n"
     ]
    },
    {
     "name": "stdin",
     "output_type": "stream",
     "text": [
      " rr\n"
     ]
    },
    {
     "name": "stdout",
     "output_type": "stream",
     "text": [
      "enter again\n"
     ]
    },
    {
     "name": "stdin",
     "output_type": "stream",
     "text": [
      " yy\n"
     ]
    },
    {
     "name": "stdout",
     "output_type": "stream",
     "text": [
      "enter again\n"
     ]
    },
    {
     "name": "stdin",
     "output_type": "stream",
     "text": [
      " 67\n"
     ]
    },
    {
     "name": "stdout",
     "output_type": "stream",
     "text": [
      "[67]\n"
     ]
    }
   ],
   "source": [
    "b=[]\n",
    "while True:\n",
    "    try:\n",
    "        a=int(input())\n",
    "    except:\n",
    "        print(\"enter again\")\n",
    "        #a=int(input())\n",
    "        #b.append(a)\n",
    "    else:\n",
    "        b.append(a)\n",
    "        break\n",
    "print(b)"
   ]
  },
  {
   "cell_type": "code",
   "execution_count": 61,
   "id": "dc1a5282-9969-47f9-a5f0-1720ecd83b88",
   "metadata": {},
   "outputs": [
    {
     "name": "stdout",
     "output_type": "stream",
     "text": [
      "  Key  Value\n",
      "0  rr     56\n",
      "1  oo    110\n",
      "2   0      0\n",
      "3  bb     78\n"
     ]
    }
   ],
   "source": [
    "import pandas as pd\n",
    "\n",
    "# Input dictionary\n",
    "data = {'rr': 56, 'oo': 110, '0': 0, 'bb': 78}\n",
    "\n",
    "# Convert the dictionary to a pandas DataFrame\n",
    "df = pd.DataFrame(list(data.items()), columns=['Key', 'Value'])\n",
    "\n",
    "# Automatically assign indexing\n",
    "df.index = range(len(df))\n",
    "\n",
    "# Print the DataFrame\n",
    "print(df)\n"
   ]
  },
  {
   "cell_type": "code",
   "execution_count": 74,
   "id": "a98beaa8-4fc6-446e-ad7d-b210c379a510",
   "metadata": {},
   "outputs": [
    {
     "name": "stdin",
     "output_type": "stream",
     "text": [
      "Enter the product name (or 0 to stop):  ggg\n",
      "Enter the product name (or 0 to stop):  kkk\n",
      "Enter the product name (or 0 to stop):  iii\n",
      "Enter the product name (or 0 to stop):  0\n"
     ]
    },
    {
     "ename": "ValueError",
     "evalue": "too many values to unpack (expected 2)",
     "output_type": "error",
     "traceback": [
      "\u001b[1;31m---------------------------------------------------------------------------\u001b[0m",
      "\u001b[1;31mValueError\u001b[0m                                Traceback (most recent call last)",
      "Cell \u001b[1;32mIn[74], line 44\u001b[0m\n\u001b[0;32m     41\u001b[0m df\u001b[38;5;241m.\u001b[39mindex \u001b[38;5;241m=\u001b[39m \u001b[38;5;28mrange\u001b[39m(\u001b[38;5;28mlen\u001b[39m(df))\n\u001b[0;32m     43\u001b[0m \u001b[38;5;66;03m# Run the function\u001b[39;00m\n\u001b[1;32m---> 44\u001b[0m \u001b[43mhh\u001b[49m\u001b[43m(\u001b[49m\u001b[43mcreated_groceryinn\u001b[49m\u001b[43m,\u001b[49m\u001b[43m \u001b[49m\u001b[43mdf\u001b[49m\u001b[43m)\u001b[49m\n\u001b[0;32m     45\u001b[0m \u001b[38;5;28mprint\u001b[39m(df)\n",
      "Cell \u001b[1;32mIn[74], line 13\u001b[0m, in \u001b[0;36mhh\u001b[1;34m(created_groceryinn, df)\u001b[0m\n\u001b[0;32m     10\u001b[0m     created_groceryinn[a] \u001b[38;5;241m=\u001b[39m empty_value\n\u001b[0;32m     12\u001b[0m \u001b[38;5;66;03m# Input quantities for each product\u001b[39;00m\n\u001b[1;32m---> 13\u001b[0m \u001b[38;5;28;01mfor\u001b[39;00m k,v \u001b[38;5;129;01min\u001b[39;00m created_groceryinn:\n\u001b[0;32m     14\u001b[0m     quantity \u001b[38;5;241m=\u001b[39m \u001b[38;5;28mint\u001b[39m(\u001b[38;5;28minput\u001b[39m(\u001b[38;5;124mf\u001b[39m\u001b[38;5;124m\"\u001b[39m\u001b[38;5;124mEnter \u001b[39m\u001b[38;5;124m'\u001b[39m\u001b[38;5;132;01m{\u001b[39;00mk\u001b[38;5;132;01m}\u001b[39;00m\u001b[38;5;124m'\u001b[39m\u001b[38;5;124m quantity: \u001b[39m\u001b[38;5;124m\"\u001b[39m))\n\u001b[0;32m     15\u001b[0m     b \u001b[38;5;241m=\u001b[39m v \u001b[38;5;241m+\u001b[39m quantity\n",
      "\u001b[1;31mValueError\u001b[0m: too many values to unpack (expected 2)"
     ]
    }
   ],
   "source": [
    "import pandas as pd\n",
    "\n",
    "def hh(created_groceryinn, df):\n",
    "    empty_value = 0\n",
    "    # Input product names and assign initial value of 0\n",
    "    while True:\n",
    "        a = input(\"Enter the product name (or 0 to stop): \")\n",
    "        if a == \"0\":\n",
    "            break\n",
    "        created_groceryinn[a] = empty_value\n",
    "\n",
    "    # Input quantities for each product\n",
    "    for k,v in created_groceryinn:\n",
    "        quantity = int(input(f\"Enter '{k}' quantity: \"))\n",
    "        b = v + quantity\n",
    "        created_groceryinn[k] = b\n",
    "\n",
    "    # Update the DataFrame with the new grocery data\n",
    "    df = pd.DataFrame(list(created_groceryinn.items()), columns=['Product', 'Quantity'])\n",
    "    df.index = range(len(df))  # Auto-assign indexing\n",
    "\n",
    "    # Print the updated grocery list\n",
    "    print(\"\\nUpdated Grocery List:\")\n",
    "    print(df)  # Print the DataFrame in table format\n",
    "\n",
    "    # Allow user to query the table or print the total\n",
    "    i = input(\"\\nEnter 'total' to see the full table or a product name to check its quantity: \")\n",
    "    \n",
    "    if i.casefold() == \"total\":\n",
    "        print(\"\\nFull Grocery List:\")\n",
    "        print(df)\n",
    "    else:\n",
    "        if i in created_groceryinn:\n",
    "            print(f\"\\nProduct: {i}, Quantity: {created_groceryinn.items()[i]}\")\n",
    "        else:\n",
    "            print(\"Product not found in the list.\")\n",
    "\n",
    "# Initialize the dictionary and DataFrame\n",
    "created_groceryinn = {}\n",
    "df = pd.DataFrame(list(created_groceryinn.items()), columns=['Product', 'Quantity'])\n",
    "df.index = range(len(df))\n",
    "\n",
    "# Run the function\n",
    "hh(created_groceryinn, df)\n",
    "print(df)\n"
   ]
  },
  {
   "cell_type": "code",
   "execution_count": 1,
   "id": "01384721-ba4a-46c3-aff8-0380992fa52a",
   "metadata": {},
   "outputs": [
    {
     "name": "stdout",
     "output_type": "stream",
     "text": [
      "1. Create list of grocery\n",
      "2. Insert\n",
      "3. Stack enquiry\n",
      "4. View items list\n",
      "5. Delete items\n"
     ]
    },
    {
     "name": "stdin",
     "output_type": "stream",
     "text": [
      "Choose an option:  1\n",
      "Enter the product name (end list by pressing 0):  www\n",
      "Enter the product name (end list by pressing 0):  wwww\n",
      "Enter the product name (end list by pressing 0):  eeee\n",
      "Enter the product name (end list by pressing 0):  rrr\n",
      "Enter the product name (end list by pressing 0):  0\n",
      "Enter 'www' quantity:  34\n",
      "Enter 'www' price:  56\n",
      "Enter 'wwww' quantity:  78\n",
      "Enter 'wwww' price:  2.00\n",
      "Enter 'eeee' quantity:  56\n",
      "Enter 'eeee' price:  7.89\n",
      "Enter 'rrr' quantity:  56\n",
      "Enter 'rrr' price:  9.0\n"
     ]
    },
    {
     "name": "stdout",
     "output_type": "stream",
     "text": [
      "1. Create list of grocery\n",
      "2. Insert\n",
      "3. Stack enquiry\n",
      "4. View items list\n",
      "5. Delete items\n"
     ]
    },
    {
     "name": "stdin",
     "output_type": "stream",
     "text": [
      "Choose an option:  4\n"
     ]
    },
    {
     "name": "stdout",
     "output_type": "stream",
     "text": [
      "  grocery name  stack count  price\n",
      "1          www           34  56.00\n",
      "2         wwww           78   2.00\n",
      "3         eeee           56   7.89\n",
      "4          rrr           56   9.00\n",
      "{'www': {'quantity': 34, 'price': 56.0}, 'wwww': {'quantity': 78, 'price': 2.0}, 'eeee': {'quantity': 56, 'price': 7.89}, 'rrr': {'quantity': 56, 'price': 9.0}}\n",
      "1. Create list of grocery\n",
      "2. Insert\n",
      "3. Stack enquiry\n",
      "4. View items list\n",
      "5. Delete items\n"
     ]
    },
    {
     "name": "stdin",
     "output_type": "stream",
     "text": [
      "Choose an option:  -----\n"
     ]
    },
    {
     "name": "stdout",
     "output_type": "stream",
     "text": [
      "Invalid option.\n",
      "1. Create list of grocery\n",
      "2. Insert\n",
      "3. Stack enquiry\n",
      "4. View items list\n",
      "5. Delete items\n"
     ]
    },
    {
     "name": "stdin",
     "output_type": "stream",
     "text": [
      "Choose an option:  jjjjjjjjjjjjjjjjjjjjjjjjjjjjjjjjjjjjjjjjjjjjjjjjjjjjjjjjjjjjjj\n"
     ]
    },
    {
     "name": "stdout",
     "output_type": "stream",
     "text": [
      "Invalid option.\n",
      "1. Create list of grocery\n",
      "2. Insert\n",
      "3. Stack enquiry\n",
      "4. View items list\n",
      "5. Delete items\n"
     ]
    },
    {
     "ename": "KeyboardInterrupt",
     "evalue": "Interrupted by user",
     "output_type": "error",
     "traceback": [
      "\u001b[1;31m---------------------------------------------------------------------------\u001b[0m",
      "\u001b[1;31mKeyboardInterrupt\u001b[0m                         Traceback (most recent call last)",
      "Cell \u001b[1;32mIn[1], line 109\u001b[0m\n\u001b[0;32m    103\u001b[0m     df \u001b[38;5;241m=\u001b[39m pd\u001b[38;5;241m.\u001b[39mDataFrame(\n\u001b[0;32m    104\u001b[0m         [(name, info[\u001b[38;5;124m'\u001b[39m\u001b[38;5;124mquantity\u001b[39m\u001b[38;5;124m'\u001b[39m], info[\u001b[38;5;124m'\u001b[39m\u001b[38;5;124mprice\u001b[39m\u001b[38;5;124m'\u001b[39m]) \u001b[38;5;28;01mfor\u001b[39;00m name, info \u001b[38;5;129;01min\u001b[39;00m data_grocery\u001b[38;5;241m.\u001b[39mitems()],\n\u001b[0;32m    105\u001b[0m         columns\u001b[38;5;241m=\u001b[39m[\u001b[38;5;124m'\u001b[39m\u001b[38;5;124mgrocery name\u001b[39m\u001b[38;5;124m'\u001b[39m, \u001b[38;5;124m'\u001b[39m\u001b[38;5;124mstack count\u001b[39m\u001b[38;5;124m'\u001b[39m, \u001b[38;5;124m'\u001b[39m\u001b[38;5;124mprice\u001b[39m\u001b[38;5;124m'\u001b[39m]\n\u001b[0;32m    106\u001b[0m     )\n\u001b[0;32m    107\u001b[0m     df\u001b[38;5;241m.\u001b[39mindex \u001b[38;5;241m+\u001b[39m\u001b[38;5;241m=\u001b[39m \u001b[38;5;241m1\u001b[39m\n\u001b[1;32m--> 109\u001b[0m \u001b[38;5;28mprint\u001b[39m(\u001b[43mopeing_options\u001b[49m\u001b[43m(\u001b[49m\u001b[43m)\u001b[49m)\n\u001b[0;32m    110\u001b[0m \u001b[38;5;28mprint\u001b[39m(df)\n",
      "Cell \u001b[1;32mIn[1], line 88\u001b[0m, in \u001b[0;36mopeing_options\u001b[1;34m()\u001b[0m\n\u001b[0;32m     86\u001b[0m input_options \u001b[38;5;241m=\u001b[39m \u001b[38;5;28minput\u001b[39m(\u001b[38;5;124m\"\u001b[39m\u001b[38;5;124mChoose an option: \u001b[39m\u001b[38;5;124m\"\u001b[39m)\n\u001b[0;32m     87\u001b[0m \u001b[38;5;28;01mif\u001b[39;00m input_options \u001b[38;5;129;01min\u001b[39;00m [\u001b[38;5;124m\"\u001b[39m\u001b[38;5;124m1\u001b[39m\u001b[38;5;124m\"\u001b[39m, \u001b[38;5;124m\"\u001b[39m\u001b[38;5;124mcreate\u001b[39m\u001b[38;5;124m\"\u001b[39m, \u001b[38;5;124m\"\u001b[39m\u001b[38;5;124mcreate list of grocery\u001b[39m\u001b[38;5;124m\"\u001b[39m]:\n\u001b[1;32m---> 88\u001b[0m     \u001b[43mcreating_grocerylist\u001b[49m\u001b[43m(\u001b[49m\u001b[43mdata_grocery\u001b[49m\u001b[43m)\u001b[49m\n\u001b[0;32m     89\u001b[0m \u001b[38;5;28;01melif\u001b[39;00m input_options \u001b[38;5;129;01min\u001b[39;00m [\u001b[38;5;124m\"\u001b[39m\u001b[38;5;124m2\u001b[39m\u001b[38;5;124m\"\u001b[39m, \u001b[38;5;124m\"\u001b[39m\u001b[38;5;124minsert\u001b[39m\u001b[38;5;124m\"\u001b[39m]:\n\u001b[0;32m     90\u001b[0m     inserting(data_grocery)\n",
      "Cell \u001b[1;32mIn[1], line 28\u001b[0m, in \u001b[0;36mcreating_grocerylist\u001b[1;34m(data_grocery)\u001b[0m\n\u001b[0;32m     26\u001b[0m             \u001b[38;5;28;01mbreak\u001b[39;00m\n\u001b[0;32m     27\u001b[0m update_dataframe()\n\u001b[1;32m---> 28\u001b[0m \u001b[43mopeing_options\u001b[49m\u001b[43m(\u001b[49m\u001b[43m)\u001b[49m\n",
      "Cell \u001b[1;32mIn[1], line 94\u001b[0m, in \u001b[0;36mopeing_options\u001b[1;34m()\u001b[0m\n\u001b[0;32m     92\u001b[0m     stack_enquiry()\n\u001b[0;32m     93\u001b[0m \u001b[38;5;28;01melif\u001b[39;00m input_options \u001b[38;5;129;01min\u001b[39;00m [\u001b[38;5;124m\"\u001b[39m\u001b[38;5;124m4\u001b[39m\u001b[38;5;124m\"\u001b[39m, \u001b[38;5;124m\"\u001b[39m\u001b[38;5;124mitems\u001b[39m\u001b[38;5;124m\"\u001b[39m]:\n\u001b[1;32m---> 94\u001b[0m     \u001b[43mitems_views\u001b[49m\u001b[43m(\u001b[49m\u001b[43m)\u001b[49m\n\u001b[0;32m     95\u001b[0m \u001b[38;5;28;01melif\u001b[39;00m input_options \u001b[38;5;129;01min\u001b[39;00m [\u001b[38;5;124m\"\u001b[39m\u001b[38;5;124m5\u001b[39m\u001b[38;5;124m\"\u001b[39m, \u001b[38;5;124m\"\u001b[39m\u001b[38;5;124mdelete items\u001b[39m\u001b[38;5;124m\"\u001b[39m]:\n\u001b[0;32m     96\u001b[0m     delete_items(data_grocery)\n",
      "Cell \u001b[1;32mIn[1], line 72\u001b[0m, in \u001b[0;36mitems_views\u001b[1;34m()\u001b[0m\n\u001b[0;32m     70\u001b[0m \u001b[38;5;28mprint\u001b[39m(df)\n\u001b[0;32m     71\u001b[0m \u001b[38;5;28mprint\u001b[39m(data_grocery)\n\u001b[1;32m---> 72\u001b[0m \u001b[43mopeing_options\u001b[49m\u001b[43m(\u001b[49m\u001b[43m)\u001b[49m\n",
      "Cell \u001b[1;32mIn[1], line 99\u001b[0m, in \u001b[0;36mopeing_options\u001b[1;34m()\u001b[0m\n\u001b[0;32m     97\u001b[0m \u001b[38;5;28;01melse\u001b[39;00m:\n\u001b[0;32m     98\u001b[0m     \u001b[38;5;28mprint\u001b[39m(\u001b[38;5;124m\"\u001b[39m\u001b[38;5;124mInvalid option.\u001b[39m\u001b[38;5;124m\"\u001b[39m)\n\u001b[1;32m---> 99\u001b[0m     \u001b[43mopeing_options\u001b[49m\u001b[43m(\u001b[49m\u001b[43m)\u001b[49m\n",
      "Cell \u001b[1;32mIn[1], line 99\u001b[0m, in \u001b[0;36mopeing_options\u001b[1;34m()\u001b[0m\n\u001b[0;32m     97\u001b[0m \u001b[38;5;28;01melse\u001b[39;00m:\n\u001b[0;32m     98\u001b[0m     \u001b[38;5;28mprint\u001b[39m(\u001b[38;5;124m\"\u001b[39m\u001b[38;5;124mInvalid option.\u001b[39m\u001b[38;5;124m\"\u001b[39m)\n\u001b[1;32m---> 99\u001b[0m     \u001b[43mopeing_options\u001b[49m\u001b[43m(\u001b[49m\u001b[43m)\u001b[49m\n",
      "Cell \u001b[1;32mIn[1], line 86\u001b[0m, in \u001b[0;36mopeing_options\u001b[1;34m()\u001b[0m\n\u001b[0;32m     84\u001b[0m \u001b[38;5;28;01mdef\u001b[39;00m \u001b[38;5;21mopeing_options\u001b[39m():\n\u001b[0;32m     85\u001b[0m     \u001b[38;5;28mprint\u001b[39m(\u001b[38;5;124m\"\u001b[39m\u001b[38;5;124m1. Create list of grocery\u001b[39m\u001b[38;5;130;01m\\n\u001b[39;00m\u001b[38;5;124m2. Insert\u001b[39m\u001b[38;5;130;01m\\n\u001b[39;00m\u001b[38;5;124m3. Stack enquiry\u001b[39m\u001b[38;5;130;01m\\n\u001b[39;00m\u001b[38;5;124m4. View items list\u001b[39m\u001b[38;5;130;01m\\n\u001b[39;00m\u001b[38;5;124m5. Delete items\u001b[39m\u001b[38;5;124m\"\u001b[39m)\n\u001b[1;32m---> 86\u001b[0m     input_options \u001b[38;5;241m=\u001b[39m \u001b[38;5;28;43minput\u001b[39;49m\u001b[43m(\u001b[49m\u001b[38;5;124;43m\"\u001b[39;49m\u001b[38;5;124;43mChoose an option: \u001b[39;49m\u001b[38;5;124;43m\"\u001b[39;49m\u001b[43m)\u001b[49m\n\u001b[0;32m     87\u001b[0m     \u001b[38;5;28;01mif\u001b[39;00m input_options \u001b[38;5;129;01min\u001b[39;00m [\u001b[38;5;124m\"\u001b[39m\u001b[38;5;124m1\u001b[39m\u001b[38;5;124m\"\u001b[39m, \u001b[38;5;124m\"\u001b[39m\u001b[38;5;124mcreate\u001b[39m\u001b[38;5;124m\"\u001b[39m, \u001b[38;5;124m\"\u001b[39m\u001b[38;5;124mcreate list of grocery\u001b[39m\u001b[38;5;124m\"\u001b[39m]:\n\u001b[0;32m     88\u001b[0m         creating_grocerylist(data_grocery)\n",
      "File \u001b[1;32m~\\AppData\\Local\\Programs\\Python\\Python311\\Lib\\site-packages\\ipykernel\\kernelbase.py:1282\u001b[0m, in \u001b[0;36mKernel.raw_input\u001b[1;34m(self, prompt)\u001b[0m\n\u001b[0;32m   1280\u001b[0m     msg \u001b[38;5;241m=\u001b[39m \u001b[38;5;124m\"\u001b[39m\u001b[38;5;124mraw_input was called, but this frontend does not support input requests.\u001b[39m\u001b[38;5;124m\"\u001b[39m\n\u001b[0;32m   1281\u001b[0m     \u001b[38;5;28;01mraise\u001b[39;00m StdinNotImplementedError(msg)\n\u001b[1;32m-> 1282\u001b[0m \u001b[38;5;28;01mreturn\u001b[39;00m \u001b[38;5;28;43mself\u001b[39;49m\u001b[38;5;241;43m.\u001b[39;49m\u001b[43m_input_request\u001b[49m\u001b[43m(\u001b[49m\n\u001b[0;32m   1283\u001b[0m \u001b[43m    \u001b[49m\u001b[38;5;28;43mstr\u001b[39;49m\u001b[43m(\u001b[49m\u001b[43mprompt\u001b[49m\u001b[43m)\u001b[49m\u001b[43m,\u001b[49m\n\u001b[0;32m   1284\u001b[0m \u001b[43m    \u001b[49m\u001b[38;5;28;43mself\u001b[39;49m\u001b[38;5;241;43m.\u001b[39;49m\u001b[43m_parent_ident\u001b[49m\u001b[43m[\u001b[49m\u001b[38;5;124;43m\"\u001b[39;49m\u001b[38;5;124;43mshell\u001b[39;49m\u001b[38;5;124;43m\"\u001b[39;49m\u001b[43m]\u001b[49m\u001b[43m,\u001b[49m\n\u001b[0;32m   1285\u001b[0m \u001b[43m    \u001b[49m\u001b[38;5;28;43mself\u001b[39;49m\u001b[38;5;241;43m.\u001b[39;49m\u001b[43mget_parent\u001b[49m\u001b[43m(\u001b[49m\u001b[38;5;124;43m\"\u001b[39;49m\u001b[38;5;124;43mshell\u001b[39;49m\u001b[38;5;124;43m\"\u001b[39;49m\u001b[43m)\u001b[49m\u001b[43m,\u001b[49m\n\u001b[0;32m   1286\u001b[0m \u001b[43m    \u001b[49m\u001b[43mpassword\u001b[49m\u001b[38;5;241;43m=\u001b[39;49m\u001b[38;5;28;43;01mFalse\u001b[39;49;00m\u001b[43m,\u001b[49m\n\u001b[0;32m   1287\u001b[0m \u001b[43m\u001b[49m\u001b[43m)\u001b[49m\n",
      "File \u001b[1;32m~\\AppData\\Local\\Programs\\Python\\Python311\\Lib\\site-packages\\ipykernel\\kernelbase.py:1325\u001b[0m, in \u001b[0;36mKernel._input_request\u001b[1;34m(self, prompt, ident, parent, password)\u001b[0m\n\u001b[0;32m   1322\u001b[0m \u001b[38;5;28;01mexcept\u001b[39;00m \u001b[38;5;167;01mKeyboardInterrupt\u001b[39;00m:\n\u001b[0;32m   1323\u001b[0m     \u001b[38;5;66;03m# re-raise KeyboardInterrupt, to truncate traceback\u001b[39;00m\n\u001b[0;32m   1324\u001b[0m     msg \u001b[38;5;241m=\u001b[39m \u001b[38;5;124m\"\u001b[39m\u001b[38;5;124mInterrupted by user\u001b[39m\u001b[38;5;124m\"\u001b[39m\n\u001b[1;32m-> 1325\u001b[0m     \u001b[38;5;28;01mraise\u001b[39;00m \u001b[38;5;167;01mKeyboardInterrupt\u001b[39;00m(msg) \u001b[38;5;28;01mfrom\u001b[39;00m \u001b[38;5;28;01mNone\u001b[39;00m\n\u001b[0;32m   1326\u001b[0m \u001b[38;5;28;01mexcept\u001b[39;00m \u001b[38;5;167;01mException\u001b[39;00m:\n\u001b[0;32m   1327\u001b[0m     \u001b[38;5;28mself\u001b[39m\u001b[38;5;241m.\u001b[39mlog\u001b[38;5;241m.\u001b[39mwarning(\u001b[38;5;124m\"\u001b[39m\u001b[38;5;124mInvalid Message:\u001b[39m\u001b[38;5;124m\"\u001b[39m, exc_info\u001b[38;5;241m=\u001b[39m\u001b[38;5;28;01mTrue\u001b[39;00m)\n",
      "\u001b[1;31mKeyboardInterrupt\u001b[0m: Interrupted by user"
     ]
    },
    {
     "name": "stdin",
     "output_type": "stream",
     "text": [
      "Choose an option:  gg\n"
     ]
    }
   ],
   "source": [
    "import re\n",
    "import pandas as pd\n",
    "\n",
    "# Initialize data structures\n",
    "data_grocery = {}\n",
    "df = pd.DataFrame(columns=['grocery name', 'stack count', 'price'])\n",
    "\n",
    "def creating_grocerylist(data_grocery):\n",
    "    created_groceryinn = data_grocery\n",
    "    empty_value = 0\n",
    "    while True:\n",
    "        a = input(\"Enter the product name (end list by pressing 0): \")\n",
    "        if a == \"0\":\n",
    "            break\n",
    "        created_groceryinn[a] = {'quantity': empty_value, 'price': 0}\n",
    "    for k, v in created_groceryinn.items():\n",
    "        while True:\n",
    "            try:\n",
    "                quantity = int(input(f\"Enter '{k}' quantity: \"))\n",
    "                price = float(input(f\"Enter '{k}' price: \"))\n",
    "            except ValueError:\n",
    "                print(\"Please enter valid numbers for quantity and price.\")\n",
    "            else:\n",
    "                created_groceryinn[k]['quantity'] += quantity\n",
    "                created_groceryinn[k]['price'] = price\n",
    "                break\n",
    "    update_dataframe()\n",
    "    opeing_options()\n",
    "\n",
    "def inserting(data_grocery):\n",
    "    grocery_list = data_grocery\n",
    "    while True:\n",
    "        grocery_name = input(\"Enter the grocery name: \")\n",
    "        if grocery_name in grocery_list:\n",
    "            print(\"Item already in list. Enter quantity to add.\")\n",
    "            while True:\n",
    "                try:\n",
    "                    quantity = int(input(\"Enter the grocery quantity to add: \"))\n",
    "                except ValueError:\n",
    "                    print(\"Please enter a valid quantity.\")\n",
    "                else:\n",
    "                    grocery_list[grocery_name]['quantity'] += quantity\n",
    "                    break\n",
    "        else:\n",
    "            while True:\n",
    "                try:\n",
    "                    quantity = int(input(\"Enter the grocery quantity: \"))\n",
    "                    price = float(input(\"Enter the grocery price: \"))\n",
    "                except ValueError:\n",
    "                    print(\"Please enter valid numbers for quantity and price.\")\n",
    "                else:\n",
    "                    grocery_list[grocery_name] = {'quantity': quantity, 'price': price}\n",
    "                    break\n",
    "        if input(\"Enter 'y' to add another item, or 'n' to stop: \").lower() == 'n':\n",
    "            break\n",
    "    update_dataframe()\n",
    "    opeing_options()\n",
    "\n",
    "def stack_enquiry():\n",
    "    item = input(\"Enter item name or type 'total' to see all items: \")\n",
    "    if item.lower() == \"total\":\n",
    "        print(df)\n",
    "    elif item in data_grocery:\n",
    "        print(f\"Product: {item}, Quantity: {data_grocery[item]['quantity']}, Price: {data_grocery[item]['price']}\")\n",
    "    else:\n",
    "        print(\"Item not found.\")\n",
    "    opeing_options()\n",
    "\n",
    "def items_views():\n",
    "    print(df)\n",
    "    #print(data_grocery)\n",
    "    opeing_options()\n",
    "\n",
    "def delete_items(data_grocery):\n",
    "    item = input(\"Enter the item name to delete: \")\n",
    "    if item in data_grocery:\n",
    "        del data_grocery[item]\n",
    "        print(f\"Item '{item}' has been deleted.\")\n",
    "        update_dataframe()\n",
    "    else:\n",
    "        print(\"Item not found.\")\n",
    "    opeing_options()\n",
    "\n",
    "def opeing_options():\n",
    "    print(\"1. Create list of grocery\\n2. Insert\\n3. Stack enquiry\\n4. View items list\\n5. Delete items\")\n",
    "    input_options = input(\"Choose an option: \")\n",
    "    if input_options in [\"1\", \"create\", \"create list of grocery\"]:\n",
    "        creating_grocerylist(data_grocery)\n",
    "    elif input_options in [\"2\", \"insert\"]:\n",
    "        inserting(data_grocery)\n",
    "    elif input_options in [\"3\", \"stack\"]:\n",
    "        stack_enquiry()\n",
    "    elif input_options in [\"4\", \"items\"]:\n",
    "        items_views()\n",
    "    elif input_options in [\"5\", \"delete items\"]:\n",
    "        delete_items(data_grocery)\n",
    "    else:\n",
    "        print(\"Invalid option.\")\n",
    "        opeing_options()\n",
    "\n",
    "def update_dataframe():\n",
    "    global df\n",
    "    df = pd.DataFrame(\n",
    "        [(name, info['quantity'], info['price']) for name, info in data_grocery.items()],\n",
    "        columns=['grocery name', 'stack count', 'price']\n",
    "    )\n",
    "    df.index += 1\n",
    "\n",
    "print(opeing_options())\n",
    "print(df)\n"
   ]
  },
  {
   "cell_type": "code",
   "execution_count": null,
   "id": "cfff0992-419d-41ae-9492-a0a1bade0e2b",
   "metadata": {},
   "outputs": [],
   "source": []
  }
 ],
 "metadata": {
  "kernelspec": {
   "display_name": "Python 3 (ipykernel)",
   "language": "python",
   "name": "python3"
  },
  "language_info": {
   "codemirror_mode": {
    "name": "ipython",
    "version": 3
   },
   "file_extension": ".py",
   "mimetype": "text/x-python",
   "name": "python",
   "nbconvert_exporter": "python",
   "pygments_lexer": "ipython3",
   "version": "3.11.7"
  }
 },
 "nbformat": 4,
 "nbformat_minor": 5
}
