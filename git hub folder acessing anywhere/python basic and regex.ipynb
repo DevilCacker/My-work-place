{
 "cells": [
  {
   "cell_type": "code",
   "execution_count": 2,
   "id": "a918a9ea-db50-4ad2-85f4-3ae0fed4a4be",
   "metadata": {},
   "outputs": [
    {
     "data": {
      "text/plain": [
       "'34'"
      ]
     },
     "execution_count": 2,
     "metadata": {},
     "output_type": "execute_result"
    }
   ],
   "source": [
    "t1=(\"23\",\"34\",\"45\")\n",
    "t1[-2]"
   ]
  },
  {
   "cell_type": "code",
   "execution_count": 4,
   "id": "4ee547c2-2180-4f62-a7cc-1d69af58f80a",
   "metadata": {},
   "outputs": [
    {
     "data": {
      "text/plain": [
       "{'name': ['sk', 'bk', 'hk', 'hk', '34', '45'], 'age': [23, 34, 35, 35, 36, 37]}"
      ]
     },
     "execution_count": 4,
     "metadata": {},
     "output_type": "execute_result"
    }
   ],
   "source": [
    "t1={\"name\":[\"sk\",\"bk\",\"hk\",\"hk\",\"34\",\"45\"],\"age\":[23,34,35,35,36,37]}\n",
    "t1"
   ]
  },
  {
   "cell_type": "code",
   "execution_count": 5,
   "id": "d31afa01-b7f4-4fe5-bb54-cf2f8ea805b2",
   "metadata": {},
   "outputs": [
    {
     "data": {
      "text/plain": [
       "['sk', 'bk', 'hk', 'hk', '34', '45']"
      ]
     },
     "execution_count": 5,
     "metadata": {},
     "output_type": "execute_result"
    }
   ],
   "source": [
    "t1.pop(\"name\")"
   ]
  },
  {
   "cell_type": "code",
   "execution_count": 6,
   "id": "78096199-019c-44df-8ce7-b07dc4259220",
   "metadata": {},
   "outputs": [
    {
     "data": {
      "text/plain": [
       "{'age': [23, 34, 35, 35, 36, 37]}"
      ]
     },
     "execution_count": 6,
     "metadata": {},
     "output_type": "execute_result"
    }
   ],
   "source": [
    "t1\n"
   ]
  },
  {
   "cell_type": "code",
   "execution_count": 10,
   "id": "8d46cada-fe93-4012-ad21-9aebd6efb866",
   "metadata": {},
   "outputs": [
    {
     "data": {
      "text/plain": [
       "{'age': [23, 34, 35, 35, 36, 37], 'name': ['sk', 'bk', 'hk', 'hk', '34', '45']}"
      ]
     },
     "execution_count": 10,
     "metadata": {},
     "output_type": "execute_result"
    }
   ],
   "source": [
    "t1.update({\"name\":[\"sk\",\"bk\",\"hk\",\"hk\",\"34\",\"45\"]})\n",
    "t1"
   ]
  },
  {
   "cell_type": "code",
   "execution_count": 11,
   "id": "d14b7351-a7d3-4ffe-aaea-49feba05396e",
   "metadata": {},
   "outputs": [
    {
     "data": {
      "text/plain": [
       "'hk'"
      ]
     },
     "execution_count": 11,
     "metadata": {},
     "output_type": "execute_result"
    }
   ],
   "source": [
    "t1[\"name\"][2]"
   ]
  },
  {
   "cell_type": "code",
   "execution_count": 28,
   "id": "6920ff41-d2c0-4a4a-963e-9fe168c4317d",
   "metadata": {},
   "outputs": [
    {
     "data": {
      "text/plain": [
       "{23, 24, 'dk', 'hk'}"
      ]
     },
     "execution_count": 28,
     "metadata": {},
     "output_type": "execute_result"
    }
   ],
   "source": [
    "t1={23,23,24,'hk','dk'}\n",
    "t1\n"
   ]
  },
  {
   "cell_type": "markdown",
   "id": "eb4f12ec-28c2-40c2-b5bb-5b8750b22a79",
   "metadata": {},
   "source": []
  },
  {
   "cell_type": "code",
   "execution_count": 29,
   "id": "01bf5a7e-b9a6-4758-9854-f3caa99e14b6",
   "metadata": {},
   "outputs": [],
   "source": [
    "t1.add(25)"
   ]
  },
  {
   "cell_type": "markdown",
   "id": "6087a29b-67a9-444b-911e-9d447635c1a7",
   "metadata": {},
   "source": [
    "t1"
   ]
  },
  {
   "cell_type": "code",
   "execution_count": 30,
   "id": "e6ec55b4-5f0d-40f2-8e7b-fc480850857f",
   "metadata": {},
   "outputs": [
    {
     "data": {
      "text/plain": [
       "{23, 24, 25, 'dk', 'hk'}"
      ]
     },
     "execution_count": 30,
     "metadata": {},
     "output_type": "execute_result"
    }
   ],
   "source": [
    "t1"
   ]
  },
  {
   "cell_type": "code",
   "execution_count": 31,
   "id": "5cf038c4-8d47-4f04-98f6-4fe0acfcbdaf",
   "metadata": {},
   "outputs": [
    {
     "data": {
      "text/plain": [
       "{23, 24, 25, 'dk', 'hk'}"
      ]
     },
     "execution_count": 31,
     "metadata": {},
     "output_type": "execute_result"
    }
   ],
   "source": [
    "t1"
   ]
  },
  {
   "cell_type": "code",
   "execution_count": 25,
   "id": "9e30eea3-c33a-44a5-a99f-824ebeac4789",
   "metadata": {},
   "outputs": [
    {
     "name": "stdout",
     "output_type": "stream",
     "text": [
      "5\n"
     ]
    }
   ],
   "source": [
    "print(11//2)"
   ]
  },
  {
   "cell_type": "code",
   "execution_count": 41,
   "id": "dccb6fb8-cfaa-4b82-a762-7845b1b1595b",
   "metadata": {},
   "outputs": [
    {
     "name": "stdin",
     "output_type": "stream",
     "text": [
      " 66\n"
     ]
    },
    {
     "name": "stdout",
     "output_type": "stream",
     "text": [
      "66 is not a prime number\n"
     ]
    }
   ],
   "source": [
    "num=int(input())\n",
    "for i in range(1,num+1):\n",
    "    if (num % i) == 0:\n",
    "        print(num, \"is not a prime number\")\n",
    "    else:\n",
    "        print(\"prime number\", num)"
   ]
  },
  {
   "cell_type": "code",
   "execution_count": 37,
   "id": "94b7d172-6e1a-4159-b95d-fa86c040d1d5",
   "metadata": {},
   "outputs": [
    {
     "ename": "NameError",
     "evalue": "name 't2' is not defined",
     "output_type": "error",
     "traceback": [
      "\u001b[1;31m---------------------------------------------------------------------------\u001b[0m",
      "\u001b[1;31mNameError\u001b[0m                                 Traceback (most recent call last)",
      "Cell \u001b[1;32mIn[37], line 1\u001b[0m\n\u001b[1;32m----> 1\u001b[0m \u001b[43mt2\u001b[49m\n",
      "\u001b[1;31mNameError\u001b[0m: name 't2' is not defined"
     ]
    }
   ],
   "source": [
    "t2"
   ]
  },
  {
   "cell_type": "code",
   "execution_count": 43,
   "id": "2d071f56-7bb2-4272-9edb-1c6a5723c3e8",
   "metadata": {},
   "outputs": [
    {
     "ename": "AttributeError",
     "evalue": "'tuple' object has no attribute 'pop'",
     "output_type": "error",
     "traceback": [
      "\u001b[1;31m---------------------------------------------------------------------------\u001b[0m",
      "\u001b[1;31mAttributeError\u001b[0m                            Traceback (most recent call last)",
      "Cell \u001b[1;32mIn[43], line 1\u001b[0m\n\u001b[1;32m----> 1\u001b[0m \u001b[43mt2\u001b[49m\u001b[38;5;241;43m.\u001b[39;49m\u001b[43mpop\u001b[49m(\u001b[38;5;241m3\u001b[39m)\n\u001b[0;32m      2\u001b[0m t2\n",
      "\u001b[1;31mAttributeError\u001b[0m: 'tuple' object has no attribute 'pop'"
     ]
    }
   ],
   "source": [
    "t2.pop(3)\n",
    "t2"
   ]
  },
  {
   "cell_type": "code",
   "execution_count": 44,
   "id": "af2f6323-cb7b-4e41-bd22-c0d15d8a4ad5",
   "metadata": {},
   "outputs": [],
   "source": [
    "t3=tuple(t2)"
   ]
  },
  {
   "cell_type": "code",
   "execution_count": 45,
   "id": "26eb3602-1f77-4d00-b7d2-496f766b1a6f",
   "metadata": {},
   "outputs": [
    {
     "data": {
      "text/plain": [
       "(23, 'dk', 24, 'hk', 25)"
      ]
     },
     "execution_count": 45,
     "metadata": {},
     "output_type": "execute_result"
    }
   ],
   "source": [
    "t3"
   ]
  },
  {
   "cell_type": "code",
   "execution_count": 4,
   "id": "c355975e-fcd4-40ef-ac7e-5145b4c61079",
   "metadata": {},
   "outputs": [
    {
     "name": "stdout",
     "output_type": "stream",
     "text": [
      "1 2 s\n",
      "3 4 5 6 7 8 9 "
     ]
    }
   ],
   "source": [
    "i=0\n",
    "while (i:=i+1) < 10:\n",
    "    if i == 3:\n",
    "        print(\"s\")\n",
    "    print(i,end=\" \")\n",
    "    \n",
    "    "
   ]
  },
  {
   "cell_type": "code",
   "execution_count": 2,
   "id": "4f67c9c5-181a-4cb7-a672-f409c9003d54",
   "metadata": {},
   "outputs": [
    {
     "name": "stdin",
     "output_type": "stream",
     "text": [
      "enter the value= 2\n",
      "enter number 23\n"
     ]
    },
    {
     "name": "stdout",
     "output_type": "stream",
     "text": [
      "odd\n"
     ]
    },
    {
     "name": "stdin",
     "output_type": "stream",
     "text": [
      "enter number 34\n"
     ]
    },
    {
     "name": "stdout",
     "output_type": "stream",
     "text": [
      "even\n",
      "34\n"
     ]
    }
   ],
   "source": [
    "a=int(input(\"enter the value=\"))\n",
    "for i in range(a):\n",
    "    c=int(input(\"enter number\"))\n",
    "    if c %2== 0 :\n",
    "     print(\"even\")\n",
    "    else:\n",
    "     print(\"odd\")\n",
    "print(c)"
   ]
  },
  {
   "cell_type": "markdown",
   "id": "412b745b-08c4-48b8-99cf-32f60a86a2d5",
   "metadata": {},
   "source": [
    "a=int(input())\n",
    "n=0\n",
    "for i in range(1,a):\n",
    "    n+=i\n",
    "    print(i)"
   ]
  },
  {
   "cell_type": "code",
   "execution_count": 56,
   "id": "84c781b5-5433-46bb-bea1-096161ca65d6",
   "metadata": {},
   "outputs": [
    {
     "name": "stdin",
     "output_type": "stream",
     "text": [
      " 3\n",
      "enter value= 12\n",
      "enter value= 34\n",
      "enter value= 45\n"
     ]
    },
    {
     "name": "stdout",
     "output_type": "stream",
     "text": [
      "[12, 34, 45]\n",
      "[12, 46, 91]\n"
     ]
    }
   ],
   "source": [
    "a=int(input())\n",
    "b=[]\n",
    "c=[]\n",
    "for i in range(a):\n",
    "    z=int(input(\"enter value=\"))\n",
    "    c.append(z)\n",
    "print(c)\n",
    "y=0\n",
    "n=[]\n",
    "for i in range(0 ,len(c)):\n",
    "    y+=c[i]\n",
    "    n.append(y)\n",
    "    \n",
    "print(n)"
   ]
  },
  {
   "cell_type": "code",
   "execution_count": 11,
   "id": "f12b3acd-5769-4180-b0fd-c182c3b1c25c",
   "metadata": {},
   "outputs": [
    {
     "name": "stdin",
     "output_type": "stream",
     "text": [
      " 2\n",
      "enter value= 22\n",
      "enter value= 22\n"
     ]
    },
    {
     "name": "stdout",
     "output_type": "stream",
     "text": [
      "[22, 22]\n",
      "[0, 0, 0]\n"
     ]
    }
   ],
   "source": [
    "a=int(input())\n",
    "b=[]\n",
    "c=[]\n",
    "for i in range(a):\n",
    "    z=int(input(\"enter value=\"))\n",
    "    b.append(z)\n",
    "for i in b:\n",
    "    y=sum(c)\n",
    "    c.append(y)\n",
    "print(b)\n",
    "print(c)\n",
    "    "
   ]
  },
  {
   "cell_type": "code",
   "execution_count": 24,
   "id": "369783c5-0033-46d7-b576-283972e1becd",
   "metadata": {},
   "outputs": [
    {
     "name": "stdin",
     "output_type": "stream",
     "text": [
      " 5\n"
     ]
    },
    {
     "name": "stdout",
     "output_type": "stream",
     "text": [
      "1\n",
      "2\n",
      "3\n",
      "4\n",
      "5\n",
      "15\n"
     ]
    }
   ],
   "source": [
    "a=int(input())\n",
    "n=0 \n",
    "for i in range(1,a+1):\n",
    "    print(i)\n",
    "    n +=i\n",
    "print(n)\n",
    "    "
   ]
  },
  {
   "cell_type": "code",
   "execution_count": null,
   "id": "61b6c062-7a6f-4e96-8e5f-52bc413c8aa4",
   "metadata": {},
   "outputs": [],
   "source": []
  },
  {
   "cell_type": "code",
   "execution_count": 61,
   "id": "cc7c45c9-ca56-4eab-8b31-fda5d549b753",
   "metadata": {},
   "outputs": [
    {
     "name": "stdout",
     "output_type": "stream",
     "text": [
      "0\n",
      "1\n",
      "2\n"
     ]
    }
   ],
   "source": [
    "a=[10,12,23]\n",
    "for  i in range(0,len(a)):\n",
    "    print (i)"
   ]
  },
  {
   "cell_type": "code",
   "execution_count": 4,
   "id": "8d79009a-7934-45eb-88e2-4d36571c65e0",
   "metadata": {},
   "outputs": [
    {
     "name": "stdin",
     "output_type": "stream",
     "text": [
      " 99\n",
      " 90\n",
      " 09\n",
      " 89\n",
      " 09\n",
      " 0\n"
     ]
    },
    {
     "name": "stdout",
     "output_type": "stream",
     "text": [
      "296\n"
     ]
    }
   ],
   "source": [
    "i=()\n",
    "m=0\n",
    "while  i!=0:\n",
    "    i=int(input())\n",
    "    m+=i\n",
    "print(m)\n"
   ]
  },
  {
   "cell_type": "code",
   "execution_count": 1,
   "id": "72dd9b61-5f09-41d4-b260-0b025d16304e",
   "metadata": {},
   "outputs": [
    {
     "name": "stdout",
     "output_type": "stream",
     "text": [
      "[1, 2, 3]\n",
      "3\n",
      "3\n",
      "1\n"
     ]
    },
    {
     "ename": "TypeError",
     "evalue": "'str' object cannot be interpreted as an integer",
     "output_type": "error",
     "traceback": [
      "\u001b[1;31m---------------------------------------------------------------------------\u001b[0m",
      "\u001b[1;31mTypeError\u001b[0m                                 Traceback (most recent call last)",
      "Cell \u001b[1;32mIn[1], line 12\u001b[0m\n\u001b[0;32m     10\u001b[0m l\u001b[38;5;241m.\u001b[39mpop(\u001b[38;5;241m4\u001b[39m)\n\u001b[0;32m     11\u001b[0m l\u001b[38;5;241m.\u001b[39msort()\n\u001b[1;32m---> 12\u001b[0m t\u001b[38;5;241m=\u001b[39m\u001b[43ml\u001b[49m\u001b[38;5;241;43m.\u001b[39;49m\u001b[43msort\u001b[49m\u001b[43m(\u001b[49m\u001b[43mreverse\u001b[49m\u001b[38;5;241;43m=\u001b[39;49m\u001b[38;5;124;43m\"\u001b[39;49m\u001b[38;5;124;43mtrue\u001b[39;49m\u001b[38;5;124;43m\"\u001b[39;49m\u001b[43m)\u001b[49m\n\u001b[0;32m     13\u001b[0m \u001b[38;5;66;03m#t=list(\"toll gate\") \u001b[39;00m\n\u001b[0;32m     14\u001b[0m \u001b[38;5;28mprint\u001b[39m(t)\n",
      "\u001b[1;31mTypeError\u001b[0m: 'str' object cannot be interpreted as an integer"
     ]
    }
   ],
   "source": [
    "l=[1,2,3]\n",
    "print(l)\n",
    "print(len(l))\n",
    "print(max(l))\n",
    "print(min(l))\n",
    "l.insert(-2,6)\n",
    "l.extend([4,5,6])\n",
    "l.append(0)\n",
    "l.remove(6)\n",
    "l.pop(4)\n",
    "l.sort()\n",
    "t=l.sort(reverse=\"true\")\n",
    "#t=list(\"toll gate\") \n",
    "print(t)\n",
    "print(l)\n"
   ]
  },
  {
   "cell_type": "code",
   "execution_count": 1,
   "id": "a439a682-d752-4efb-957e-586809b4ff76",
   "metadata": {},
   "outputs": [
    {
     "name": "stdin",
     "output_type": "stream",
     "text": [
      " 1\n",
      " 12\n"
     ]
    },
    {
     "name": "stdout",
     "output_type": "stream",
     "text": [
      "2\n",
      "3\n",
      "5\n",
      "7\n",
      "11\n"
     ]
    }
   ],
   "source": [
    "a=int(input())\n",
    "b=int(input())\n",
    "for i in range (a,b+1):\n",
    "    if i == 0 or i == 1 : \n",
    "        continue\n",
    "    for j in range(2,i):\n",
    "        if i%j==0 :\n",
    "            break\n",
    "    else:\n",
    "        print(i)"
   ]
  },
  {
   "cell_type": "code",
   "execution_count": 34,
   "id": "8de70ffd-4d22-400f-bad6-444181e9719a",
   "metadata": {},
   "outputs": [
    {
     "name": "stdin",
     "output_type": "stream",
     "text": [
      " 2\n",
      " 7\n"
     ]
    },
    {
     "name": "stdout",
     "output_type": "stream",
     "text": [
      "even number [2, 4, 6]\n",
      "even number [3, 5, 7]\n",
      "3\n",
      "3\n"
     ]
    }
   ],
   "source": [
    "a,b=int(input()),int(input())\n",
    "c=[]\n",
    "d=[]\n",
    "for i in range(a,b+1):\n",
    "    if(i %2 == 0):\n",
    "        c.append(i)\n",
    "    else:\n",
    "        d.append(i)\n",
    "print(\"even number\",c)\n",
    "print(\"even number\",d)\n",
    "print(len(c))\n",
    "print(len(d))"
   ]
  },
  {
   "cell_type": "markdown",
   "id": "4ce439d6-4fb1-433b-9201-c91ff24dbd1f",
   "metadata": {},
   "source": [
    "list comprehension"
   ]
  },
  {
   "cell_type": "code",
   "execution_count": 4,
   "id": "fb7d6c5d-dd2f-4df2-8185-6bdb012a46e5",
   "metadata": {},
   "outputs": [
    {
     "name": "stdout",
     "output_type": "stream",
     "text": [
      "[0, 2, 4, 6, 8, 10, 12, 14, 16, 18]\n"
     ]
    }
   ],
   "source": [
    "k=[i for i in range(0,20) if(i%2==0)]\n",
    "print(k)"
   ]
  },
  {
   "cell_type": "code",
   "execution_count": 3,
   "id": "d0bbc0b2-12b5-46a2-8336-be55d9eb1dbe",
   "metadata": {},
   "outputs": [
    {
     "name": "stdout",
     "output_type": "stream",
     "text": [
      "factorial\n"
     ]
    },
    {
     "name": "stdin",
     "output_type": "stream",
     "text": [
      "enter limit= 8\n"
     ]
    },
    {
     "name": "stdout",
     "output_type": "stream",
     "text": [
      "1 1\n",
      "2 2\n",
      "3 6\n",
      "4 24\n",
      "5 120\n",
      "6 720\n",
      "7 5040\n",
      "[1, 2, 6, 24, 120, 720, 5040]\n",
      "5040\n"
     ]
    }
   ],
   "source": [
    "print(\"factorial\")\n",
    "b=int(input(\"enter limit=\"))\n",
    "j=[]\n",
    "c=1\n",
    "for i in range(1,b):\n",
    "    print(i,c*i)\n",
    "    c=c*i\n",
    "    j.append(c)\n",
    "print(j)\n",
    "print(c)\n",
    "    "
   ]
  },
  {
   "cell_type": "code",
   "execution_count": 30,
   "id": "46bd0098-a17f-48ee-93b0-49d9b7bb41c0",
   "metadata": {},
   "outputs": [
    {
     "name": "stdout",
     "output_type": "stream",
     "text": [
      "tables\n"
     ]
    },
    {
     "name": "stdin",
     "output_type": "stream",
     "text": [
      "enter the table number= 3\n",
      "enter the multiple ends= 5\n"
     ]
    },
    {
     "name": "stdout",
     "output_type": "stream",
     "text": [
      "3\n",
      "6\n",
      "9\n",
      "12\n",
      "15\n"
     ]
    }
   ],
   "source": [
    "print(\"tables\")\n",
    "x,y=int(input(\"enter the table number=\")) , int(input(\"enter the multiple ends=\"))\n",
    "i=1\n",
    "b=0\n",
    "while i <= y :\n",
    "    b=i*x\n",
    "    i+=1\n",
    "    print(b)\n",
    "    \n",
    "    "
   ]
  },
  {
   "cell_type": "code",
   "execution_count": 3,
   "id": "e77bae39-6cb8-4495-b8c6-6c533206e61c",
   "metadata": {},
   "outputs": [
    {
     "name": "stdin",
     "output_type": "stream",
     "text": [
      " 3\n",
      " 4\n"
     ]
    },
    {
     "name": "stdout",
     "output_type": "stream",
     "text": [
      "7\n"
     ]
    }
   ],
   "source": [
    "def add ():\n",
    "    c=int(input())\n",
    "    d=int(input())\n",
    "    return c+d\n",
    "print(add())"
   ]
  },
  {
   "cell_type": "code",
   "execution_count": 5,
   "id": "6c0cf54b-9619-4ac3-ac83-5c2585fcfeb0",
   "metadata": {},
   "outputs": [
    {
     "name": "stdin",
     "output_type": "stream",
     "text": [
      "enter limit= 6\n"
     ]
    },
    {
     "name": "stdout",
     "output_type": "stream",
     "text": [
      "0\n",
      "squared 0 1\n",
      "squared 1 2\n",
      "squared 4 3\n",
      "squared 9 4\n",
      "squared 16 5\n",
      "squared 25 5\n"
     ]
    }
   ],
   "source": [
    "def sk():\n",
    "    a=int(input(\"enter limit=\"))\n",
    "    c=1\n",
    "    for i in range(a) :\n",
    "        c=i**2\n",
    "        print(i)\n",
    "        print(\"squared\",c,end=\" \")\n",
    "    return i \n",
    "    return c\n",
    "    #print(c)\n",
    "print(sk())\n"
   ]
  },
  {
   "cell_type": "code",
   "execution_count": 5,
   "id": "3c896889-ebad-4923-8163-cebd186882f4",
   "metadata": {},
   "outputs": [
    {
     "name": "stdin",
     "output_type": "stream",
     "text": [
      "enter the limits =  5\n",
      "enter into list= 1\n",
      "enter into list= 2\n",
      "enter into list= 3\n",
      "enter into list= 4\n",
      "enter into list= 5\n"
     ]
    },
    {
     "name": "stdout",
     "output_type": "stream",
     "text": [
      "[1, 2, 3, 4, 5]\n"
     ]
    }
   ],
   "source": [
    "def uu(a):\n",
    "    d=[]\n",
    "    for i in range (a):\n",
    "        c=int(input(\"enter into list=\"))\n",
    "        d.append(c) \n",
    "    print(d)\n",
    "a=int(input(\"enter the limits = \"))\n",
    "uu(a)"
   ]
  },
  {
   "cell_type": "code",
   "execution_count": 12,
   "id": "85e9b64b-c79d-44a9-bbef-55ccb078849e",
   "metadata": {},
   "outputs": [
    {
     "name": "stdout",
     "output_type": "stream",
     "text": [
      "6\n"
     ]
    }
   ],
   "source": [
    "def uu(x,y,z):\n",
    "    print(x+y+z)\n",
    "x,y,z=1,2,3\n",
    "uu(x,y,z)"
   ]
  },
  {
   "cell_type": "code",
   "execution_count": 11,
   "id": "50df8573-5ee8-4ffa-8492-d5d8bdddb500",
   "metadata": {},
   "outputs": [
    {
     "name": "stdout",
     "output_type": "stream",
     "text": [
      "happy birthday adhi\n",
      "you are 21 old \n",
      "happy birthday to you \n"
     ]
    }
   ],
   "source": [
    "def uu(name,age):\n",
    "    print(f\"happy birthday {name}\") \n",
    "    print(f\"you are {age} old \")\n",
    "    print(\"happy birthday to you \") \n",
    "\n",
    "uu(\"adhi\",21)"
   ]
  },
  {
   "cell_type": "code",
   "execution_count": 26,
   "id": "14124d28-bd60-4be9-ad4c-41014fc90aee",
   "metadata": {},
   "outputs": [
    {
     "name": "stdin",
     "output_type": "stream",
     "text": [
      "enter the end natural number= 2\n"
     ]
    },
    {
     "name": "stdout",
     "output_type": "stream",
     "text": [
      "0\n",
      "1\n",
      "2\n"
     ]
    }
   ],
   "source": [
    "a=int(input(\"enter the end natural number=\"))\n",
    "for i in range (a+1):\n",
    "    print(i)"
   ]
  },
  {
   "cell_type": "code",
   "execution_count": 27,
   "id": "1afc92f1-f0a5-4d2f-89de-2717b1b49337",
   "metadata": {},
   "outputs": [
    {
     "name": "stdin",
     "output_type": "stream",
     "text": [
      "enter the range of even number = 1\n"
     ]
    }
   ],
   "source": [
    "a=int(input(\"enter the range of even number =\"))\n",
    "for i in range (1,a+1):\n",
    "    if (i%2==0):\n",
    "        print(i)\n",
    "    else:\n",
    "        continue"
   ]
  },
  {
   "cell_type": "code",
   "execution_count": 3,
   "id": "1844822b-cf02-4af7-9882-fff5f7ae769a",
   "metadata": {},
   "outputs": [
    {
     "name": "stdin",
     "output_type": "stream",
     "text": [
      "enter the range of even number = 34\n"
     ]
    },
    {
     "name": "stdout",
     "output_type": "stream",
     "text": [
      "595\n"
     ]
    }
   ],
   "source": [
    "a=int(input(\"enter the range of even number =\"))\n",
    "b=0\n",
    "for i in range (1,a+1):\n",
    "    b=b+i\n",
    "print(b)"
   ]
  },
  {
   "cell_type": "code",
   "execution_count": 6,
   "id": "1f05db1a-eddb-4569-98a4-160b75407333",
   "metadata": {},
   "outputs": [
    {
     "name": "stdin",
     "output_type": "stream",
     "text": [
      "enter the range of odd number = 6\n"
     ]
    },
    {
     "name": "stdout",
     "output_type": "stream",
     "text": [
      "1\n",
      "3\n",
      "5\n",
      "sum of odd number= 9\n"
     ]
    }
   ],
   "source": [
    "a=int(input(\"enter the range of odd number =\"))\n",
    "b=0\n",
    "for i in range (1,a+1):\n",
    "    if (i%2!=0):\n",
    "        b=b+i\n",
    "        print(i)\n",
    "    else:\n",
    "        continue\n",
    "print(\"sum of odd number=\",b)"
   ]
  },
  {
   "cell_type": "code",
   "execution_count": 8,
   "id": "b4d24f0b-bf23-4275-ae28-4a7fd0ddd459",
   "metadata": {},
   "outputs": [
    {
     "name": "stdin",
     "output_type": "stream",
     "text": [
      " 78\n"
     ]
    },
    {
     "name": "stdout",
     "output_type": "stream",
     "text": [
      "Number of digits: 2\n"
     ]
    }
   ],
   "source": [
    "num =int(input())\n",
    "count = 0\n",
    "while num != 0:\n",
    "    num //= 10\n",
    "    count += 1\n",
    "\n",
    "print(\"Number of digits: \" + str(count))"
   ]
  },
  {
   "cell_type": "code",
   "execution_count": 9,
   "id": "d5d1d0aa-04d3-4a6a-922f-df238815f63c",
   "metadata": {},
   "outputs": [
    {
     "name": "stdin",
     "output_type": "stream",
     "text": [
      "enter the digits= 34567890\n"
     ]
    },
    {
     "name": "stdout",
     "output_type": "stream",
     "text": [
      "8\n"
     ]
    }
   ],
   "source": [
    "num =int(input(\"enter the digits=\"))\n",
    "print(len(str(num)))"
   ]
  },
  {
   "cell_type": "code",
   "execution_count": 10,
   "id": "d488c6eb-a73f-479e-889b-672f7b481fdb",
   "metadata": {},
   "outputs": [
    {
     "name": "stdout",
     "output_type": "stream",
     "text": [
      "dlroW olleH\n"
     ]
    }
   ],
   "source": [
    "a=\"Hello World\"\n",
    "b=a[::-1]\n",
    "print(b)"
   ]
  },
  {
   "cell_type": "code",
   "execution_count": 11,
   "id": "ab1e7913-be28-4839-9788-8a40cbd7d761",
   "metadata": {},
   "outputs": [
    {
     "name": "stdin",
     "output_type": "stream",
     "text": [
      "enter rtr\n"
     ]
    },
    {
     "name": "stdout",
     "output_type": "stream",
     "text": [
      "True\n",
      "Yes\n"
     ]
    }
   ],
   "source": [
    "def isPalindrome(s):\n",
    "    return s == s[::-1]\n",
    "s =input(\"enter\")\n",
    "ans = isPalindrome(s)\n",
    "if ans:\n",
    "    print(ans)\n",
    "    print(\"Yes\")\n",
    "else:\n",
    "    print(ans)\n",
    "    print(\"No\")"
   ]
  },
  {
   "cell_type": "code",
   "execution_count": 13,
   "id": "b8728d32-55c0-4e40-97b2-5278261df498",
   "metadata": {},
   "outputs": [
    {
     "name": "stdin",
     "output_type": "stream",
     "text": [
      " 123\n"
     ]
    },
    {
     "name": "stdout",
     "output_type": "stream",
     "text": [
      "no\n"
     ]
    },
    {
     "data": {
      "text/plain": [
       "'321'"
      ]
     },
     "execution_count": 13,
     "metadata": {},
     "output_type": "execute_result"
    }
   ],
   "source": [
    "def uu(a):\n",
    "    d=a[::-1]\n",
    "    if a == d: \n",
    "        print (\"yes\")\n",
    "    else:\n",
    "        print(\"no\")\n",
    "    return d\n",
    "a=input()\n",
    "uu(a)"
   ]
  },
  {
   "cell_type": "code",
   "execution_count": 14,
   "id": "d2f20dbf-11c0-42c5-afe4-e8a7ea6db8e5",
   "metadata": {},
   "outputs": [
    {
     "name": "stdout",
     "output_type": "stream",
     "text": [
      "1\n",
      "2\n",
      "4\n",
      "5\n",
      "7\n",
      "8\n",
      "10\n",
      "7\n"
     ]
    }
   ],
   "source": [
    "count=0\n",
    "for i in range(1,10+1):\n",
    "    if i%3==0:\n",
    "        continue\n",
    "    else:\n",
    "        print(i)\n",
    "        count+=1\n",
    "print(count)"
   ]
  },
  {
   "cell_type": "code",
   "execution_count": 2,
   "id": "9fd0d7cc-21b5-40b9-a8ba-f601459c90d1",
   "metadata": {},
   "outputs": [
    {
     "name": "stdout",
     "output_type": "stream",
     "text": [
      "15\n",
      "30\n",
      "45\n",
      "60\n",
      "75\n",
      "90\n",
      "6\n"
     ]
    }
   ],
   "source": [
    "count=0\n",
    "for i in range(1,100+1):\n",
    "    if i%3==0 and i%5==0:\n",
    "        print(i)\n",
    "        count+=1\n",
    "    else:\n",
    "        continue\n",
    "print(count)"
   ]
  },
  {
   "cell_type": "code",
   "execution_count": 33,
   "id": "90a9cbe0-6cb5-4e10-8150-c3b036830217",
   "metadata": {},
   "outputs": [
    {
     "name": "stdin",
     "output_type": "stream",
     "text": [
      "enter the value tyt\n"
     ]
    },
    {
     "name": "stdout",
     "output_type": "stream",
     "text": [
      "yes\n"
     ]
    }
   ],
   "source": [
    "s=input(\"enter the value\")\n",
    "a=str(s)\n",
    "b = str(s[::-1])\n",
    "if a == b:\n",
    "    print(\"yes\")\n",
    "else:\n",
    "    print(\"no\")"
   ]
  },
  {
   "cell_type": "code",
   "execution_count": 11,
   "id": "74b8b1b6-36c4-428d-b87c-ddefe083387f",
   "metadata": {},
   "outputs": [
    {
     "name": "stdin",
     "output_type": "stream",
     "text": [
      "enter the value sks\n"
     ]
    },
    {
     "name": "stdout",
     "output_type": "stream",
     "text": [
      "yes\n"
     ]
    }
   ],
   "source": [
    "s=input(\"enter the value\")\n",
    "a=s\n",
    "b = s[::-1]\n",
    "if a == b:\n",
    "    print(\"yes\")\n",
    "else:\n",
    "    print(\"no\")"
   ]
  },
  {
   "cell_type": "code",
   "execution_count": 13,
   "id": "ccbda876-90a4-4f8d-be8d-7737eae1d93a",
   "metadata": {},
   "outputs": [
    {
     "name": "stdout",
     "output_type": "stream",
     "text": [
      "30\n"
     ]
    }
   ],
   "source": [
    "def sum(a,b):\n",
    "    c=a+b\n",
    "    return c\n",
    "print(sum(10,20))"
   ]
  },
  {
   "cell_type": "code",
   "execution_count": 25,
   "id": "0797bffe-5530-47e4-b096-c15c985a63ed",
   "metadata": {},
   "outputs": [
    {
     "name": "stdin",
     "output_type": "stream",
     "text": [
      "enter the number 45\n"
     ]
    },
    {
     "name": "stdout",
     "output_type": "stream",
     "text": [
      "odd\n"
     ]
    },
    {
     "data": {
      "text/plain": [
       "45"
      ]
     },
     "execution_count": 25,
     "metadata": {},
     "output_type": "execute_result"
    }
   ],
   "source": [
    "def sum(a):\n",
    "    if(a%2==0):\n",
    "        print(\"even\",a)\n",
    "    else:\n",
    "        print(\"odd\") \n",
    "        return a\n",
    "a=int(input(\"enter the number\"))\n",
    "sum(a)"
   ]
  },
  {
   "cell_type": "code",
   "execution_count": 6,
   "id": "d2bfedf6-11a2-46cf-ae6c-da8190873698",
   "metadata": {},
   "outputs": [
    {
     "name": "stdin",
     "output_type": "stream",
     "text": [
      " 1\n",
      " 34\n"
     ]
    },
    {
     "name": "stdout",
     "output_type": "stream",
     "text": [
      "2\n",
      "3\n",
      "5\n",
      "7\n",
      "11\n",
      "13\n",
      "17\n",
      "19\n",
      "23\n",
      "29\n",
      "31\n"
     ]
    }
   ],
   "source": [
    "def primw(a,b):\n",
    "    for i in range (a,b+1):\n",
    "        if i == 0 or i == 1 : \n",
    "            continue\n",
    "        for j in range(2,i):\n",
    "            if i%j==0 :\n",
    "                break\n",
    "        else:\n",
    "            print(i)\n",
    "a=int(input())\n",
    "b=int(input())\n",
    "primw(a,b)"
   ]
  },
  {
   "cell_type": "code",
   "execution_count": null,
   "id": "eb77c0b5-a26f-4f75-8c8f-2e5d140c83e5",
   "metadata": {},
   "outputs": [],
   "source": [
    "def marks(a):\n",
    "    for i in range(a):\n",
    "        b=int(input(\"enter ur marks=\"))\n",
    "        if b >= 80 :\n",
    "            print(\"v.good\")\n",
    "        elif b >= 60 :\n",
    "            print(\"good\")\n",
    "        elif b >= 45:\n",
    "            print(\"average\")\n",
    "        else:\n",
    "            print(\"u need to improve\")\n",
    "a=int(input())\n",
    "marks(a)"
   ]
  },
  {
   "cell_type": "code",
   "execution_count": 1,
   "id": "9d03d15a-b6e0-4a53-8187-45e3d80f76da",
   "metadata": {},
   "outputs": [
    {
     "name": "stdin",
     "output_type": "stream",
     "text": [
      "enter limits of marks=  3\n",
      "enter ur marks=  23\n"
     ]
    },
    {
     "name": "stdout",
     "output_type": "stream",
     "text": [
      "u need to improve\n"
     ]
    },
    {
     "name": "stdin",
     "output_type": "stream",
     "text": [
      "enter ur marks=  56\n"
     ]
    },
    {
     "name": "stdout",
     "output_type": "stream",
     "text": [
      "average\n"
     ]
    },
    {
     "name": "stdin",
     "output_type": "stream",
     "text": [
      "enter ur marks=  78\n"
     ]
    },
    {
     "name": "stdout",
     "output_type": "stream",
     "text": [
      "good\n"
     ]
    }
   ],
   "source": [
    "def marks(*args):\n",
    "    for i in range(a):\n",
    "        b=int(input(\"enter ur marks= \"))\n",
    "        if b >= 80 :\n",
    "            print(\"v.good\")\n",
    "        elif b >= 60 :\n",
    "            print(\"good\")\n",
    "        elif b >= 45:\n",
    "            print(\"average\")\n",
    "        else:\n",
    "            print(\"u need to improve\")\n",
    "a=int(input(\"enter limits of marks= \"))\n",
    "marks(a)"
   ]
  },
  {
   "cell_type": "code",
   "execution_count": 14,
   "id": "e741b9ca-ae27-453e-a223-4f37060ef76a",
   "metadata": {},
   "outputs": [],
   "source": [
    "def uu(**k):\n",
    "    res=''\n",
    "    for i in k:\n",
    "        res += i\n",
    "    return res\n"
   ]
  },
  {
   "cell_type": "code",
   "execution_count": 17,
   "id": "290ee0a3-4daf-49a7-8043-765a0fb4f428",
   "metadata": {},
   "outputs": [
    {
     "data": {
      "text/plain": [
       "'pythinisgood'"
      ]
     },
     "execution_count": 17,
     "metadata": {},
     "output_type": "execute_result"
    }
   ],
   "source": [
    "uu(a ='pythin',b ='is',c ='good')"
   ]
  },
  {
   "cell_type": "code",
   "execution_count": 16,
   "id": "44e1bc01-00e4-437b-8558-02e0317661a1",
   "metadata": {},
   "outputs": [],
   "source": [
    "def uu(**k):\n",
    "    res=''\n",
    "    for i in k.values():\n",
    "        res += i\n",
    "    return res\n"
   ]
  },
  {
   "cell_type": "code",
   "execution_count": 15,
   "id": "77dd9010-6c82-43be-b75a-f0d4086aaea9",
   "metadata": {},
   "outputs": [],
   "source": [
    "test=lambda a: a**2"
   ]
  },
  {
   "cell_type": "code",
   "execution_count": 17,
   "id": "727a30f5-ed80-4b02-aa11-9ce53e546a1d",
   "metadata": {},
   "outputs": [
    {
     "data": {
      "text/plain": [
       "9801"
      ]
     },
     "execution_count": 17,
     "metadata": {},
     "output_type": "execute_result"
    }
   ],
   "source": [
    "test(99)"
   ]
  },
  {
   "cell_type": "code",
   "execution_count": 21,
   "id": "c3fa1235-f052-4cbd-aeda-83623a2c05dd",
   "metadata": {},
   "outputs": [],
   "source": [
    "test=lambda a,b: a**b"
   ]
  },
  {
   "cell_type": "code",
   "execution_count": 26,
   "id": "d9bddff0-b6ba-448d-b678-a8c1aa5ea42d",
   "metadata": {},
   "outputs": [
    {
     "data": {
      "text/plain": [
       "[1000, 8000, 27000, 64000]"
      ]
     },
     "execution_count": 26,
     "metadata": {},
     "output_type": "execute_result"
    }
   ],
   "source": [
    "list2=[10,20,30,40]\n",
    "list(map(lambda x:x**3 ,list2))"
   ]
  },
  {
   "cell_type": "code",
   "execution_count": 29,
   "id": "5ae54164-ad39-4209-bd64-bc604365a218",
   "metadata": {},
   "outputs": [
    {
     "data": {
      "text/plain": [
       "[2, 4, 6, 8, 10, 12, 14, 16, 18, 20, 22, 24, 26, 28]"
      ]
     },
     "execution_count": 29,
     "metadata": {},
     "output_type": "execute_result"
    }
   ],
   "source": [
    "list(filter(lambda x:x%2==0 ,range(1,30)))"
   ]
  },
  {
   "cell_type": "code",
   "execution_count": 2,
   "id": "2e7931de-7e44-4eaf-9819-4d10e8bb8b77",
   "metadata": {},
   "outputs": [
    {
     "data": {
      "text/plain": [
       "[2, 4, 6, 8, 10, 12, 14, 16, 18, 20, 22, 24, 26, 28]"
      ]
     },
     "execution_count": 2,
     "metadata": {},
     "output_type": "execute_result"
    }
   ],
   "source": [
    "list(filter(lambda x:x%2==0 ,range(1,30)))"
   ]
  },
  {
   "cell_type": "code",
   "execution_count": null,
   "id": "c0e8c30b-bbd8-4625-9de6-d0875155c4f4",
   "metadata": {},
   "outputs": [],
   "source": []
  },
  {
   "cell_type": "code",
   "execution_count": 18,
   "id": "36cacd28-64f2-4218-ac9b-37ca842c7b6d",
   "metadata": {},
   "outputs": [
    {
     "name": "stdin",
     "output_type": "stream",
     "text": [
      "enter starting value 1\n",
      "enter ending value 8\n"
     ]
    },
    {
     "data": {
      "text/plain": [
       "[3, 6]"
      ]
     },
     "execution_count": 18,
     "metadata": {},
     "output_type": "execute_result"
    }
   ],
   "source": [
    "def uu(a,b):\n",
    "    y=list(filter(lambda x: x%3==0,range(a,b+1)))\n",
    "    return y\n",
    "a=int(input(\"enter starting value\"))\n",
    "b=int(input(\"enter ending value\"))\n",
    "uu(a,b)\n",
    "    "
   ]
  },
  {
   "cell_type": "code",
   "execution_count": 21,
   "id": "7f22941b-31a4-477e-b87d-8752b337fcfe",
   "metadata": {},
   "outputs": [
    {
     "name": "stdin",
     "output_type": "stream",
     "text": [
      "enter length=  3\n",
      "enter the marks=  56\n",
      "enter the marks=  35\n",
      "enter the marks=  99\n"
     ]
    },
    {
     "name": "stdout",
     "output_type": "stream",
     "text": [
      "average 56\n",
      "u need to improve 35\n",
      "good 99\n",
      "[56, 35, 99]\n"
     ]
    }
   ],
   "source": [
    "def uu(b):\n",
    "    z=[]\n",
    "    for i in range(b):\n",
    "        a=int(input(\"enter the marks= \"))\n",
    "        z.append(a)\n",
    "    for j in z:\n",
    "        if j >=80 and j>=100 :\n",
    "             print(\"v.v.good\",j)\n",
    "        elif j >= 60:\n",
    "             print(\"good\",j)\n",
    "        elif j >= 45:\n",
    "             print(\"average\",j)\n",
    "        elif j < 45:\n",
    "             print(\"u need to improve\",j)\n",
    "        else:\n",
    "             print(\"enter valid marks\",j)\n",
    "    return z\n",
    "b=int(input(\"enter length= \"))\n",
    "print(uu(b))"
   ]
  },
  {
   "cell_type": "code",
   "execution_count": 1,
   "id": "37a4104c-b683-4c25-9d85-11cb81694d17",
   "metadata": {},
   "outputs": [
    {
     "name": "stdout",
     "output_type": "stream",
     "text": [
      "****\n",
      "****\n",
      "****\n",
      "****\n",
      "****\n"
     ]
    }
   ],
   "source": [
    "for i in range (5):\n",
    "    for j in range(4):\n",
    "        print(\"*\",end=\"\")\n",
    "    print()"
   ]
  },
  {
   "cell_type": "code",
   "execution_count": 2,
   "id": "7cb0496d-1fb2-48da-a9d4-11419f2c3622",
   "metadata": {},
   "outputs": [
    {
     "name": "stdout",
     "output_type": "stream",
     "text": [
      "****\n",
      "****\n",
      "****\n",
      "****\n"
     ]
    }
   ],
   "source": [
    "n=4\n",
    "for i in range(n):\n",
    "    print(\"*\"*n)"
   ]
  },
  {
   "cell_type": "code",
   "execution_count": 3,
   "id": "97a63d71-6bb5-49ef-a926-d0bcf42444e9",
   "metadata": {},
   "outputs": [
    {
     "name": "stdout",
     "output_type": "stream",
     "text": [
      "\n",
      "#\n",
      "##\n",
      "###\n",
      "####\n"
     ]
    }
   ],
   "source": [
    "for i in range (5):\n",
    "     print(\"#\"*i)"
   ]
  },
  {
   "cell_type": "code",
   "execution_count": 12,
   "id": "9783d5dc-63a2-4efc-91b5-0fb462a28336",
   "metadata": {},
   "outputs": [
    {
     "name": "stdout",
     "output_type": "stream",
     "text": [
      "1234\n",
      "123\n",
      "12\n",
      "1\n",
      "\n"
     ]
    }
   ],
   "source": [
    "for i in range (5,0,-1):\n",
    "    for j in range(1,i):\n",
    "        print(j,end=\"\")\n",
    "    print()"
   ]
  },
  {
   "cell_type": "code",
   "execution_count": 17,
   "id": "2f771905-3d24-4756-aa2a-500d76a8ad18",
   "metadata": {},
   "outputs": [
    {
     "name": "stdout",
     "output_type": "stream",
     "text": [
      "1234\n",
      "1234\n",
      "1234\n",
      "1234\n"
     ]
    }
   ],
   "source": [
    "j=1\n",
    "for i in range (4,0,-1):\n",
    "    for a in range(j,5):\n",
    "        print(a,end=\"\")\n",
    "    print()"
   ]
  },
  {
   "cell_type": "code",
   "execution_count": 23,
   "id": "d16f0de6-d565-4b22-87ff-5aaa1a065781",
   "metadata": {},
   "outputs": [
    {
     "name": "stdout",
     "output_type": "stream",
     "text": [
      "55555\n",
      "4444\n",
      "333\n",
      "22\n",
      "1\n"
     ]
    }
   ],
   "source": [
    "for i in range (5,0,-1):\n",
    "    print(str(i)*i)\n",
    "    "
   ]
  },
  {
   "cell_type": "code",
   "execution_count": 1,
   "id": "38b44a24-f920-499d-b548-7d6aa65bd75c",
   "metadata": {},
   "outputs": [
    {
     "name": "stdin",
     "output_type": "stream",
     "text": [
      "enter the radius=  3\n",
      "enter the height=  6\n"
     ]
    },
    {
     "name": "stdout",
     "output_type": "stream",
     "text": [
      "56.54\n"
     ]
    }
   ],
   "source": [
    "r=int(input(\"enter the radius= \"))\n",
    "h=int(input(\"enter the height= \"))\n",
    "z=0.3333* 3.14159 *r**2 *h\n",
    "y=round(z,2)\n",
    "print(y)\n"
   ]
  },
  {
   "cell_type": "code",
   "execution_count": 1,
   "id": "af576d22-f663-46fe-a204-f4e00ccabbb1",
   "metadata": {},
   "outputs": [
    {
     "name": "stdout",
     "output_type": "stream",
     "text": [
      "min function by using for loop\n",
      "5\n"
     ]
    }
   ],
   "source": [
    "print(\"min function by using for loop\")\n",
    "b=[111,23,34,45,5,6,7,83,45]\n",
    "a=b[0]\n",
    "for i in b:\n",
    "    if i < a:\n",
    "        a=i\n",
    "print(a)\n",
    "    "
   ]
  },
  {
   "cell_type": "code",
   "execution_count": 2,
   "id": "f0795675-aca2-42b6-aae8-286a0d788b55",
   "metadata": {},
   "outputs": [
    {
     "name": "stdout",
     "output_type": "stream",
     "text": [
      "111\n"
     ]
    }
   ],
   "source": [
    "def min_1(b):\n",
    "    \n",
    "    a=b[0]\n",
    "    for i in b:\n",
    "        if i > a:\n",
    "            a=i\n",
    "    return a\n",
    "b=[111,23,34,45,5,6,7,83,45]\n",
    "print(min_1(b))"
   ]
  },
  {
   "cell_type": "code",
   "execution_count": 12,
   "id": "49556e50-c1ba-477c-ac1c-f5d4d6243d7d",
   "metadata": {},
   "outputs": [
    {
     "name": "stdin",
     "output_type": "stream",
     "text": [
      "enter the value=  101111001110101010\n"
     ]
    },
    {
     "name": "stdout",
     "output_type": "stream",
     "text": [
      "binary\n"
     ]
    }
   ],
   "source": [
    "a=input(\"enter the value= \")\n",
    "count=0\n",
    "for i in a:\n",
    "    if i == \"0\" or i == \"1\" :\n",
    "        count+=1\n",
    "c=len(a)\n",
    "if count==c:\n",
    "    print(\"binary\")\n",
    "else:\n",
    "   print(\"not binary\") \n",
    "    \n"
   ]
  },
  {
   "cell_type": "code",
   "execution_count": 6,
   "id": "9fbee71f-bf36-4585-8711-e7cf07693984",
   "metadata": {},
   "outputs": [
    {
     "name": "stdout",
     "output_type": "stream",
     "text": [
      "1\n",
      "[]\n"
     ]
    }
   ],
   "source": [
    "a=[1,2,3,4,5,6,7,8,9,0]\n",
    "b=[1,2,4,6,7,8,0]\n",
    "c=[]\n",
    "for i in a:\n",
    "    for j in b:\n",
    "        if i == j:\n",
    "            print(i)\n",
    "            break\n",
    "        else:\n",
    "            c.append(i)\n",
    "            break\n",
    "print(c)"
   ]
  },
  {
   "cell_type": "code",
   "execution_count": 9,
   "id": "c3143c71-92c4-4952-a32e-e44122fb64f9",
   "metadata": {},
   "outputs": [
    {
     "ename": "TypeError",
     "evalue": "filter expected 2 arguments, got 3",
     "output_type": "error",
     "traceback": [
      "\u001b[1;31m---------------------------------------------------------------------------\u001b[0m",
      "\u001b[1;31mTypeError\u001b[0m                                 Traceback (most recent call last)",
      "Cell \u001b[1;32mIn[9], line 1\u001b[0m\n\u001b[1;32m----> 1\u001b[0m k\u001b[38;5;241m=\u001b[39m\u001b[38;5;28mlist\u001b[39m(\u001b[38;5;28;43mfilter\u001b[39;49m\u001b[43m(\u001b[49m\u001b[38;5;28;43;01mlambda\u001b[39;49;00m\u001b[43m \u001b[49m\u001b[43ma\u001b[49m\u001b[43m,\u001b[49m\u001b[43mb\u001b[49m\u001b[43m:\u001b[49m\u001b[43m \u001b[49m\u001b[43ma\u001b[49m\u001b[38;5;241;43m==\u001b[39;49m\u001b[43m \u001b[49m\u001b[43mb\u001b[49m\u001b[43m \u001b[49m\u001b[43m,\u001b[49m\u001b[43m \u001b[49m\u001b[43ma\u001b[49m\u001b[43m,\u001b[49m\u001b[43mb\u001b[49m\u001b[43m)\u001b[49m)\n",
      "\u001b[1;31mTypeError\u001b[0m: filter expected 2 arguments, got 3"
     ]
    }
   ],
   "source": [
    "k=list(filter(lambda a,b: a== b , a,b))"
   ]
  },
  {
   "cell_type": "markdown",
   "id": "59f87838-0a0b-4211-be88-c296febae091",
   "metadata": {},
   "source": [
    "regex"
   ]
  },
  {
   "cell_type": "code",
   "execution_count": 5,
   "id": "60703033-25f3-4f4e-9c23-a791484943ae",
   "metadata": {},
   "outputs": [],
   "source": [
    "import re\n",
    "a=\"them are 123 and 345 orange\"\n",
    "pattern=\"are\"\n",
    "matches=re.findall(pattern,a)"
   ]
  },
  {
   "cell_type": "code",
   "execution_count": 18,
   "id": "16a99838-82e8-4d96-87e6-22690480b42e",
   "metadata": {},
   "outputs": [
    {
     "data": {
      "text/plain": [
       "[]"
      ]
     },
     "execution_count": 18,
     "metadata": {},
     "output_type": "execute_result"
    }
   ],
   "source": [
    "matches"
   ]
  },
  {
   "cell_type": "code",
   "execution_count": 28,
   "id": "c1da6c62-8432-444d-a5f4-2398084d9627",
   "metadata": {},
   "outputs": [],
   "source": [
    "import re\n",
    "a=\"them are 123 and 345 orange\"\n",
    "pattern=r'\\b[a-z]{3}\\b'\n",
    "matches=re.findall(pattern,a)"
   ]
  },
  {
   "cell_type": "code",
   "execution_count": 29,
   "id": "d32318be-70dd-48af-ad38-2e646c1e3b07",
   "metadata": {},
   "outputs": [
    {
     "data": {
      "text/plain": [
       "['are', 'and']"
      ]
     },
     "execution_count": 29,
     "metadata": {},
     "output_type": "execute_result"
    }
   ],
   "source": [
    "matches"
   ]
  },
  {
   "cell_type": "code",
   "execution_count": 30,
   "id": "8b107d57-b19e-49c2-9f9b-05268291eba6",
   "metadata": {},
   "outputs": [],
   "source": [
    "import re\n",
    "a=\"them are 123 and 345 orange\"\n",
    "pattern=r'\\b\\w[a-z]{2}\\b'\n",
    "matches=re.findall(pattern,a)"
   ]
  },
  {
   "cell_type": "code",
   "execution_count": 31,
   "id": "cae68add-04ae-48e0-b48f-6cbebadcb2ab",
   "metadata": {},
   "outputs": [
    {
     "data": {
      "text/plain": [
       "['are', 'and']"
      ]
     },
     "execution_count": 31,
     "metadata": {},
     "output_type": "execute_result"
    }
   ],
   "source": [
    "matches"
   ]
  },
  {
   "cell_type": "code",
   "execution_count": 43,
   "id": "fac47b7f-5870-4406-bb67-65726aacd5db",
   "metadata": {},
   "outputs": [],
   "source": [
    "import re\n",
    "a=\"them are 123 and 345 orange\"\n",
    "pattern=r'are|orange'\n",
    "#matches=re.sub(pattern,\"\",a)\n",
    "matches=re.findall(pattern,a)"
   ]
  },
  {
   "cell_type": "code",
   "execution_count": 44,
   "id": "8d4d4db8-ef7c-4cc4-83d1-a825048e13bb",
   "metadata": {},
   "outputs": [
    {
     "data": {
      "text/plain": [
       "['are', 'orange']"
      ]
     },
     "execution_count": 44,
     "metadata": {},
     "output_type": "execute_result"
    }
   ],
   "source": [
    "matches"
   ]
  },
  {
   "cell_type": "code",
   "execution_count": 45,
   "id": "6be7a0e9-901d-44fb-be6a-456a52d29bab",
   "metadata": {},
   "outputs": [
    {
     "name": "stdout",
     "output_type": "stream",
     "text": [
      "['123', '345']\n",
      "['2455']\n",
      "['8900']\n"
     ]
    }
   ],
   "source": [
    "import re\n",
    "a=[\"them are 123 and 345 orange\",\"words  2455\",\"fhfgujheh 8900\"]\n",
    "for i in a:\n",
    "    patten=r'\\d+'\n",
    "    matche=re.findall(patten,i)\n",
    "    print(matche)"
   ]
  },
  {
   "cell_type": "code",
   "execution_count": 46,
   "id": "cc031ebc-3c49-43f4-859b-dfb839eb852f",
   "metadata": {},
   "outputs": [],
   "source": [
    "import re\n",
    "z=[\"them are 123 and 345 orange\",\"words  2455\",\"fhfgujheh 8900\"]"
   ]
  },
  {
   "cell_type": "code",
   "execution_count": 47,
   "id": "dbc19995-e531-4e36-9afe-d536d4e1bfdd",
   "metadata": {},
   "outputs": [
    {
     "name": "stdout",
     "output_type": "stream",
     "text": [
      "['123', '345']\n",
      "['2455']\n",
      "['8900']\n"
     ]
    }
   ],
   "source": [
    "for i in z:\n",
    "    patten=r'\\d+'\n",
    "    matche=re.findall(patten,i)\n",
    "    print(matche)"
   ]
  },
  {
   "cell_type": "code",
   "execution_count": 48,
   "id": "241adee4-84d2-4bc5-85d0-06fe6a8b1120",
   "metadata": {},
   "outputs": [
    {
     "name": "stdout",
     "output_type": "stream",
     "text": [
      "them # 123 and 345 orange\n"
     ]
    }
   ],
   "source": [
    "z=\"them are 123 and 345 orange\"\n",
    "pattern=r'are'\n",
    "matches=re.sub(pattern, \"#\",z)\n",
    "print(matches)"
   ]
  },
  {
   "cell_type": "code",
   "execution_count": 49,
   "id": "9fa14a1d-c52a-4bfd-9950-3991732775e6",
   "metadata": {},
   "outputs": [
    {
     "name": "stdout",
     "output_type": "stream",
     "text": [
      "<re.Match object; span=(5, 8), match='are'>\n"
     ]
    }
   ],
   "source": [
    "z=\"them are 123 and 345 orange\"\n",
    "pattern=r'are'\n",
    "matches=re.search(pattern,z)\n",
    "print(matches)"
   ]
  },
  {
   "cell_type": "code",
   "execution_count": 58,
   "id": "8310b012-c922-469f-a94c-b20218674b33",
   "metadata": {},
   "outputs": [
    {
     "name": "stdout",
     "output_type": "stream",
     "text": [
      "['are', 'oragh']\n"
     ]
    }
   ],
   "source": [
    "import re\n",
    "z=\"them are 123 and 345 oraghuhfjhjjrnjnghrjngjhrngjrnjrntgjrnjngjtrnjgnjtrnjrtgnjrtgnjrtgnjnjnjngjrtgnjrtntrjnnge\"\n",
    "aa=r'a.e|o...h'\n",
    "bb=re.findall(aa,z)\n",
    "print(bb)"
   ]
  },
  {
   "cell_type": "code",
   "execution_count": 77,
   "id": "99ac5691-f8a4-4114-b688-dc56f328fd05",
   "metadata": {},
   "outputs": [
    {
     "name": "stdout",
     "output_type": "stream",
     "text": [
      "['them', 'are', 'and', 'orange']\n"
     ]
    }
   ],
   "source": [
    "z=\"them are 123 and 345 orange\"\n",
    "aa=r'\\w[a-z]+'\n",
    "bb=re.findall(aa,z)\n",
    "print(bb)"
   ]
  },
  {
   "cell_type": "code",
   "execution_count": 61,
   "id": "4592d296-9052-470b-b8cf-4a4d3d2b3440",
   "metadata": {},
   "outputs": [
    {
     "name": "stdout",
     "output_type": "stream",
     "text": [
      "['them @ are @ 123 @ and @ 345 @ orange']\n"
     ]
    }
   ],
   "source": [
    "z=\"them are 123 and 345 orange\"\n",
    "yy=[]\n",
    "pp=r' '\n",
    "#for i in z:\n",
    "   # if i == \" \":\n",
    "zz=re.sub(pp,\" @ \",z)\n",
    "yy.append(zz)\n",
    "   # else:\n",
    "print(yy)"
   ]
  },
  {
   "cell_type": "code",
   "execution_count": 89,
   "id": "4d2cce19-396b-4ad3-bf9c-8da91848c28b",
   "metadata": {},
   "outputs": [
    {
     "name": "stdout",
     "output_type": "stream",
     "text": [
      "fhfgujheh 8900\n"
     ]
    }
   ],
   "source": []
  },
  {
   "cell_type": "code",
   "execution_count": 64,
   "id": "1ceab68b-b491-417d-894c-fcc1f8b379af",
   "metadata": {},
   "outputs": [
    {
     "name": "stdout",
     "output_type": "stream",
     "text": [
      "5\n"
     ]
    }
   ],
   "source": [
    "a=\"apple is banna\"\n",
    "count=0\n",
    "for i in a :\n",
    "    if i == \"a\" or i == \"e\" or i == \"i\" or i == \"o\" or i == \"u\" :\n",
    "        count+=1\n",
    "    else:\n",
    "        continue\n",
    "print(count)"
   ]
  },
  {
   "cell_type": "code",
   "execution_count": 2,
   "id": "ad68358e-bcac-417e-b889-8363f76ade95",
   "metadata": {},
   "outputs": [
    {
     "name": "stdout",
     "output_type": "stream",
     "text": [
      "[10, 20, 30, 40]\n"
     ]
    },
    {
     "name": "stdin",
     "output_type": "stream",
     "text": [
      "normal int values= 25\n"
     ]
    },
    {
     "name": "stdout",
     "output_type": "stream",
     "text": [
      "[10, 20, 30]\n",
      "[10, 20, 30, 25]\n"
     ]
    }
   ],
   "source": [
    "def sample(*args):\n",
    "    b=[]\n",
    "    m=b\n",
    "    for i in args:\n",
    "       b.append(i) \n",
    "    print(b)\n",
    "    c=int(input(\"normal int values=\"))\n",
    "    z=b.pop(3)\n",
    "    print(b)\n",
    "    y=m.append(c)\n",
    "    return b\n",
    "    return m\n",
    "output=sample(10,20,30,40)\n",
    "print(output)"
   ]
  },
  {
   "cell_type": "code",
   "execution_count": 3,
   "id": "2bc1b3c5-44f7-4355-a41f-900b2a51c6b4",
   "metadata": {},
   "outputs": [
    {
     "name": "stdout",
     "output_type": "stream",
     "text": [
      "['hello', 'boys', 'sing', 'songs']\n"
     ]
    },
    {
     "data": {
      "text/plain": [
       "'songs'"
      ]
     },
     "execution_count": 3,
     "metadata": {},
     "output_type": "execute_result"
    }
   ],
   "source": [
    "def mm(*args):\n",
    "    b=[]\n",
    "    for i in args:\n",
    "        b.append(i)\n",
    "    z=max(b)\n",
    "    print(b)\n",
    "    return z\n",
    "mm('hello','boys','sing','songs')"
   ]
  },
  {
   "cell_type": "code",
   "execution_count": 103,
   "id": "1b0fc98d-c472-47d9-8c28-f928387e6fa6",
   "metadata": {},
   "outputs": [
    {
     "name": "stdout",
     "output_type": "stream",
     "text": [
      "['Importance', 'Of', 'Regular', 'Expressions', 'In', 'Python']\n"
     ]
    }
   ],
   "source": [
    "import re\n",
    "a='ImportanceOfRegularExpressionsInPython'\n",
    "p=r'[A-Z][a-z]+'\n",
    "d=re.findall(p,a)\n",
    "print(d)"
   ]
  },
  {
   "cell_type": "code",
   "execution_count": 8,
   "id": "dcfadecc-df62-4a7b-87ce-8e83caf7e9b2",
   "metadata": {},
   "outputs": [
    {
     "name": "stdout",
     "output_type": "stream",
     "text": [
      "[1, 1, 1, 1, 1, 1, 1, 1, 1, 2, 2, 2, 2, 2, 2, 2, 2, 2, 4, 4, 4, 4, 4, 4, 4, 4, 4, 5, 5, 5, 5, 5, 5, 5, 5, 5, 6, 6, 6, 6, 6, 6, 6, 6, 6, 7, 7, 7, 7, 7, 7, 7, 7, 7, 9, 9, 9, 9, 9, 9, 9, 9, 9, 0, 0, 0, 0, 0, 0, 0, 0, 0, 0]\n"
     ]
    }
   ],
   "source": [
    "a=[1,2,4,5,6,7,9,0]\n",
    "b=[]\n",
    "for i in a:\n",
    "    for j in range(1,11):\n",
    "        if i==j:\n",
    "            continue\n",
    "        else:\n",
    "            b.append(i)\n",
    "print(b)"
   ]
  },
  {
   "cell_type": "code",
   "execution_count": 17,
   "id": "595c89eb-55df-4945-b2a4-0d95b2f3381f",
   "metadata": {},
   "outputs": [
    {
     "name": "stdout",
     "output_type": "stream",
     "text": [
      "['APJ', 'Abdul']\n"
     ]
    }
   ],
   "source": [
    "import re \n",
    "z=\"APJ Abdul Kalam was an Indian Aerospace acientist.\"\n",
    "pp=r'[A-Z]{3}|\\b[A-Z]{1}[a-z]{3}[l]{1}\\b'\n",
    "matches=re.findall(pp,z)\n",
    "print(matches)"
   ]
  },
  {
   "cell_type": "code",
   "execution_count": 18,
   "id": "a74110a5-3e79-49ba-abe9-b78963cecd8a",
   "metadata": {},
   "outputs": [
    {
     "name": "stdout",
     "output_type": "stream",
     "text": [
      "['APJ', 'Abdul']\n"
     ]
    }
   ],
   "source": [
    "import re \n",
    "z=\"APJ Abdul Kalam was an Indian Aerospace acientist.\"\n",
    "pp=r'[A-Z]{3}|\\bA[a-z]+l'\n",
    "matches=re.findall(pp,z)\n",
    "print(matches)"
   ]
  },
  {
   "cell_type": "code",
   "execution_count": 5,
   "id": "d469972e-556c-4fd9-a82c-c0d87966f5f9",
   "metadata": {},
   "outputs": [],
   "source": [
    "class employee:\n",
    "    ere=45\n",
    "    __count=0\n",
    "    def __init__(self):\n",
    "        employee.__count+=1\n",
    "    def add():\n",
    "        return employee.__count"
   ]
  },
  {
   "cell_type": "code",
   "execution_count": 6,
   "id": "a7d3773f-a2fc-4a5d-a141-c524eb15695b",
   "metadata": {},
   "outputs": [],
   "source": [
    "imp=employee()"
   ]
  },
  {
   "cell_type": "code",
   "execution_count": 7,
   "id": "588850b3-793f-405b-89c7-e7bd90e5fafc",
   "metadata": {},
   "outputs": [
    {
     "ename": "TypeError",
     "evalue": "employee.add() takes 0 positional arguments but 1 was given",
     "output_type": "error",
     "traceback": [
      "\u001b[1;31m---------------------------------------------------------------------------\u001b[0m",
      "\u001b[1;31mTypeError\u001b[0m                                 Traceback (most recent call last)",
      "Cell \u001b[1;32mIn[7], line 1\u001b[0m\n\u001b[1;32m----> 1\u001b[0m \u001b[43mimp\u001b[49m\u001b[38;5;241;43m.\u001b[39;49m\u001b[43madd\u001b[49m\u001b[43m(\u001b[49m\u001b[43m)\u001b[49m\n",
      "\u001b[1;31mTypeError\u001b[0m: employee.add() takes 0 positional arguments but 1 was given"
     ]
    }
   ],
   "source": [
    "imp.add()"
   ]
  },
  {
   "cell_type": "code",
   "execution_count": 8,
   "id": "883e7196-1b08-4103-a0af-853e4f43f9e6",
   "metadata": {},
   "outputs": [],
   "source": [
    "class a:#overrideing\n",
    "    def add():\n",
    "        print(\"a\")\n",
    "class b(a):\n",
    "    def add():\n",
    "        print(\"ok\")"
   ]
  },
  {
   "cell_type": "code",
   "execution_count": 9,
   "id": "910121c5-b8a4-4c21-8b05-083ddd10764b",
   "metadata": {},
   "outputs": [
    {
     "data": {
      "text/plain": [
       "<__main__.b at 0x29993362d90>"
      ]
     },
     "execution_count": 9,
     "metadata": {},
     "output_type": "execute_result"
    }
   ],
   "source": [
    "b()"
   ]
  },
  {
   "cell_type": "code",
   "execution_count": 25,
   "id": "9638668f-e097-4e8e-81f8-c6cded417c1a",
   "metadata": {},
   "outputs": [
    {
     "name": "stdout",
     "output_type": "stream",
     "text": [
      "okokokokok\n",
      "endendendend\n"
     ]
    }
   ],
   "source": [
    "#decator it modify the function\n",
    "def dun1(func):\n",
    "    def wrapp():\n",
    "        print(\"okokokokok\")\n",
    "        print(\"endendendend\")\n",
    "    return wrapp\n",
    "@dun1\n",
    "def myiii():\n",
    "    print(\"hello world\")\n",
    "\n",
    "\n",
    "myiii()"
   ]
  },
  {
   "cell_type": "markdown",
   "id": "8a3a6a0c-df52-467c-9238-4dda7ad9da44",
   "metadata": {},
   "source": [
    "In python decorators are a powerful and flexible way to modify or extend the behavior of function or mrthod without changeing their actual code they are essentially higher order function that take another function (or method) as input and return a new function with additional \n",
    "'@'symbol denotes the decorators in python "
   ]
  },
  {
   "cell_type": "code",
   "execution_count": 34,
   "id": "84744a55-19fc-418e-88ed-71347dff370e",
   "metadata": {},
   "outputs": [
    {
     "name": "stdout",
     "output_type": "stream",
     "text": [
      "ok\n",
      "okokokokok\n",
      "endendendend\n",
      "hello world\n",
      "endd\n"
     ]
    }
   ],
   "source": [
    "def dun1(func):\n",
    "    def wrapp():\n",
    "        print(\"okokokokok\")\n",
    "        #return func()\n",
    "        print(\"endendendend\")\n",
    "        return func()\n",
    "    return wrapp\n",
    "def dum2(func):\n",
    "    def wrapp():\n",
    "        print(\"ok\")\n",
    "        func()\n",
    "        print(\"endd\")\n",
    "    return wrapp\n",
    "@dum2#absortact method\n",
    "@dun1#absortact method\n",
    "def myiii():\n",
    "    print(\"hello world\")\n",
    "\n",
    "\n",
    "myiii()"
   ]
  },
  {
   "cell_type": "markdown",
   "id": "24e2d7bb-7fd1-429f-ad12-776e92c09015",
   "metadata": {},
   "source": [
    "abstractmethod"
   ]
  },
  {
   "cell_type": "markdown",
   "id": "20924316-6c87-429f-a5ef-91ac5c61b41b",
   "metadata": {},
   "source": [
    "from abc import ABC,abstractmethod basic syntax"
   ]
  },
  {
   "cell_type": "code",
   "execution_count": 53,
   "id": "46a9446c-3574-4500-81cb-74721af1726c",
   "metadata": {},
   "outputs": [
    {
     "name": "stdout",
     "output_type": "stream",
     "text": [
      "Brand: Maruti\n",
      "Model: Alto\n",
      "Year: 2022\n",
      "Speed up ...\n",
      "Not having this feature\n"
     ]
    }
   ],
   "source": [
    "# Import required modules\n",
    "from abc import ABC, abstractmethod#abc is library, (ABC) is abract class,(abstractmethod ) method\n",
    "\n",
    "# Create Abstract base class\n",
    "class Car(ABC):#changeing into abstract class because of (ABC)\n",
    "    def __init__(self, brand, model, year):\n",
    "        self.brand = brand\n",
    "        self.model = model\n",
    "        self.year = year\n",
    "    \n",
    "    # Create abstract method      \n",
    "    @abstractmethod # method\n",
    "    def printDetails(self):\n",
    "        pass\n",
    "  \n",
    "    # Create concrete method\n",
    "    def accelerate(self):\n",
    "        print(\"Speed up ...\")\n",
    "  \n",
    "    def break_applied(self):\n",
    "        print(\"Car stopped\")\n",
    "\n",
    "# Create a child class\n",
    "class Hatchback(Car):\n",
    "    def printDetails(self):\n",
    "        print(\"Brand:\", self.brand)\n",
    "        print(\"Model:\", self.model)\n",
    "        print(\"Year:\", self.year)\n",
    "  \n",
    "    def sunroof(self):\n",
    "        print(\"Not having this feature\")\n",
    "\n",
    "# Create a child class\n",
    "class Suv(Car):\n",
    "    def printDetails(self):\n",
    "        print(\"Brand:\", self.brand)\n",
    "        print(\"Model:\", self.model)\n",
    "        print(\"Year:\", self.year)\n",
    "  \n",
    "    def sunroof(self):\n",
    "        print(\"Available\")\n",
    "\n",
    "# Create an instance of the Hatchback class\n",
    "car1 = Hatchback(\"Maruti\", \"Alto\", \"2022\")\n",
    "\n",
    "# Call methods\n",
    "car1.printDetails()\n",
    "car1.accelerate()\n",
    "car1.sunroof()\n"
   ]
  },
  {
   "cell_type": "markdown",
   "id": "381c9fc1-22dd-42c0-b33a-ed16ab3f550b",
   "metadata": {},
   "source": [
    "Use @classmethod & @staticmethod"
   ]
  },
  {
   "cell_type": "code",
   "execution_count": 3,
   "id": "b636da19-f3a5-47b2-97a9-7e02a3a9195f",
   "metadata": {},
   "outputs": [
    {
     "name": "stdout",
     "output_type": "stream",
     "text": [
      "0 1 1 2 3 5 8 13 "
     ]
    }
   ],
   "source": [
    "#fibnocci series\n",
    "a,b=0,1\n",
    "n=8\n",
    "for i in range(n):\n",
    "    print(a,end=' ')\n",
    "    a,b=b,a+b\n",
    "    "
   ]
  },
  {
   "cell_type": "code",
   "execution_count": 2,
   "id": "c74fa4a0-845e-4b35-bc1c-35f6b898e129",
   "metadata": {},
   "outputs": [
    {
     "name": "stdout",
     "output_type": "stream",
     "text": [
      "2001 is not a leap year\n"
     ]
    }
   ],
   "source": [
    "# Python program to check if year is a leap year or not\n",
    "\n",
    "year = 2001\n",
    "\n",
    "# To get year (integer input) from the user\n",
    "# year = int(input(\"Enter a year: \"))\n",
    "\n",
    "# divided by 100 means century year (ending with 00)\n",
    "# century year divided by 400 is leap year\n",
    "if (year % 400 == 0) and (year % 100 == 0):\n",
    "    print(\"{0} is a leap year\".format(year))\n",
    "\n",
    "# not divided by 100 means not a century year\n",
    "# year divided by 4 is a leap year\n",
    "elif (year % 4 ==0) and (year % 100 != 0):\n",
    "    print(\"{0} is a leap year\".format(year))\n",
    "\n",
    "# if not divided by both 400 (century year) and 4 (not century year)\n",
    "# year is not leap year\n",
    "else:\n",
    "    print(\"{0} is not a leap year\".format(year))"
   ]
  },
  {
   "cell_type": "code",
   "execution_count": 5,
   "id": "8624206b-20f8-49ff-9a0d-940c946a7550",
   "metadata": {},
   "outputs": [],
   "source": [
    "def is_leap_year(year=2000):\n",
    "    \"\"\"\n",
    "    Returns True if the year is a leap year, False otherwise.\n",
    "    \"\"\"\n",
    "    return year % 4 == 0 and (year % 100 != 0 or year % 400 == 0)"
   ]
  },
  {
   "cell_type": "markdown",
   "id": "a7e1ebbb-4255-4e55-9566-d20a3c697c88",
   "metadata": {},
   "source": [
    "LEAP YEAR OR NOT"
   ]
  },
  {
   "cell_type": "code",
   "execution_count": 8,
   "id": "bcc981f0-168e-42c3-b4a9-3e5e2a5efe80",
   "metadata": {},
   "outputs": [],
   "source": [
    "year =2001\n",
    "if year % 4 == 0 and year % 100 != 0 or year % 400 == 0:\n",
    "    print(\"yyyy\")\n"
   ]
  },
  {
   "cell_type": "code",
   "execution_count": 3,
   "id": "fc2ec706-f784-43eb-a93b-d933e92f707c",
   "metadata": {},
   "outputs": [
    {
     "name": "stdin",
     "output_type": "stream",
     "text": [
      "enter 2004\n"
     ]
    },
    {
     "name": "stdout",
     "output_type": "stream",
     "text": [
      "leap year\n"
     ]
    }
   ],
   "source": [
    "a=int(input(\"enter\"))\n",
    "if a%4==0 and (a%400==0 or a%100 != 0):\n",
    "    print(\"leap year\")\n",
    "else:\n",
    "    print(\"not leap year\")"
   ]
  },
  {
   "cell_type": "code",
   "execution_count": null,
   "id": "40231ccf-8ea5-4703-84eb-e0e6baa95e23",
   "metadata": {},
   "outputs": [],
   "source": [
    "a%4 == 0 and (a%400==0 or a%100!=0)\n"
   ]
  },
  {
   "cell_type": "code",
   "execution_count": 6,
   "id": "d761b774-4fbe-49ac-b68d-ca74f885767a",
   "metadata": {},
   "outputs": [
    {
     "name": "stdin",
     "output_type": "stream",
     "text": [
      " 10\n"
     ]
    },
    {
     "name": "stdout",
     "output_type": "stream",
     "text": [
      "0 1 1 2 3 5 8 13 21 34 "
     ]
    }
   ],
   "source": [
    "n=int(input())\n",
    "a=0\n",
    "b=1\n",
    "for i in range(n):\n",
    "    print(a,end=\" \")\n",
    "    a,b=b,a+b"
   ]
  },
  {
   "cell_type": "code",
   "execution_count": 17,
   "id": "a04918c8-fa14-4130-bc82-efe84f11bd29",
   "metadata": {},
   "outputs": [
    {
     "name": "stdout",
     "output_type": "stream",
     "text": [
      "['python']\n",
      "['programming']\n"
     ]
    }
   ],
   "source": [
    "import re\n",
    "a=[ \"python is good\", \"programming is fun\" ]\n",
    "for i in a:\n",
    "    if re.findall(r'p',i):\n",
    "        print(re.findall(r'p[a-z]+',i))"
   ]
  },
  {
   "cell_type": "code",
   "execution_count": 46,
   "id": "0ab8b0cb-7bb1-4c4a-9356-4953ea7d2103",
   "metadata": {},
   "outputs": [
    {
     "name": "stdout",
     "output_type": "stream",
     "text": [
      "a products of 6\n",
      "b products of 120\n",
      "c products of 504\n"
     ]
    }
   ],
   "source": [
    "import math \n",
    "a1={\"a\":[1,2,3],\"b\":[4,5,6],\"c\":[7,8,9]}\n",
    "for i,j in a1.items():\n",
    "    c=math.prod(j)\n",
    "    print(f\"{i} products of {c}\")"
   ]
  },
  {
   "cell_type": "code",
   "execution_count": null,
   "id": "52166105-9232-47da-b372-6d223f73a799",
   "metadata": {},
   "outputs": [],
   "source": []
  }
 ],
 "metadata": {
  "kernelspec": {
   "display_name": "Python 3 (ipykernel)",
   "language": "python",
   "name": "python3"
  },
  "language_info": {
   "codemirror_mode": {
    "name": "ipython",
    "version": 3
   },
   "file_extension": ".py",
   "mimetype": "text/x-python",
   "name": "python",
   "nbconvert_exporter": "python",
   "pygments_lexer": "ipython3",
   "version": "3.11.7"
  }
 },
 "nbformat": 4,
 "nbformat_minor": 5
}
