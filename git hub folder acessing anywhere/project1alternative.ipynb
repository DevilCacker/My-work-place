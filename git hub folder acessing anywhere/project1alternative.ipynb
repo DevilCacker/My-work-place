{
 "cells": [
  {
   "cell_type": "code",
   "execution_count": null,
   "id": "9b6f4755-a3cf-4060-8949-f711a88168b5",
   "metadata": {},
   "outputs": [],
   "source": [
    "def creating_grocerylist(data_grocery):\n",
    "    created_groceryinn=data_grocery\n",
    "    while True:\n",
    "        a=input(\"enter the product name(end list press 0) =\")\n",
    "        #created_groceryinn[a]=empty_value\n",
    "        if a == \"0\":\n",
    "            break\n",
    "        b=int(input(\"enter the product quantity =\"))\n",
    "        c=int(input(\"enter the product price =\"))\n",
    "        created_groceryinn= {a=\n",
    "    for k,v in created_groceryinn.items():\n",
    "        while True:\n",
    "            try:\n",
    "                quantity=int(input(f\"enter '{k}' quantity = \"))\n",
    "            except:\n",
    "                print(\"enter again stack count number = \")\n",
    "            else:\n",
    "                d = v + quantity\n",
    "                created_groceryinn[k]=d\n",
    "                break\n",
    "    #print(created_groceryinn)\n",
    "    opeing_options()"
   ]
  },
  {
   "cell_type": "code",
   "execution_count": 12,
   "id": "3b80ebdf-3bde-43ac-855f-55e30c3181b5",
   "metadata": {},
   "outputs": [
    {
     "name": "stdin",
     "output_type": "stream",
     "text": [
      " tt\n",
      " 57\n",
      " tt\n",
      " 57\n",
      " 0\n"
     ]
    },
    {
     "ename": "TypeError",
     "evalue": "unhashable type: 'list'",
     "output_type": "error",
     "traceback": [
      "\u001b[1;31m---------------------------------------------------------------------------\u001b[0m",
      "\u001b[1;31mTypeError\u001b[0m                                 Traceback (most recent call last)",
      "Cell \u001b[1;32mIn[12], line 15\u001b[0m\n\u001b[0;32m     11\u001b[0m     \u001b[38;5;66;03m#e=int(input())\u001b[39;00m\n\u001b[0;32m     12\u001b[0m \n\u001b[0;32m     13\u001b[0m \u001b[38;5;66;03m# Merging lists into a list of dictionaries\u001b[39;00m\n\u001b[0;32m     14\u001b[0m merged_list \u001b[38;5;241m=\u001b[39m [{\u001b[38;5;124m'\u001b[39m\u001b[38;5;124mname\u001b[39m\u001b[38;5;124m'\u001b[39m: name, \u001b[38;5;124m'\u001b[39m\u001b[38;5;124mweight\u001b[39m\u001b[38;5;124m'\u001b[39m: weight} \u001b[38;5;28;01mfor\u001b[39;00m name, weight \u001b[38;5;129;01min\u001b[39;00m \u001b[38;5;28mzip\u001b[39m(names, weights)]\n\u001b[1;32m---> 15\u001b[0m \u001b[38;5;28mprint\u001b[39m({merged_list})\n\u001b[0;32m     16\u001b[0m \u001b[38;5;28mprint\u001b[39m(pd\u001b[38;5;241m.\u001b[39mDataFrame(merged_list))\n",
      "\u001b[1;31mTypeError\u001b[0m: unhashable type: 'list'"
     ]
    }
   ],
   "source": [
    "import pandas as pd #a={}\n",
    "names = []\n",
    "weights = []\n",
    "while True:\n",
    "    n=input()\n",
    "    if n == '0':\n",
    "        break\n",
    "    names.append(n)\n",
    "    m=int(input())\n",
    "    weights.append(m)\n",
    "    #e=int(input())\n",
    "\n",
    "# Merging lists into a list of dictionaries\n",
    "merged_list = [{'name': name, 'weight': weight} for name, weight in zip(names, weights)]\n",
    "print({merged_list})\n",
    "print(pd.DataFrame(merged_list))"
   ]
  },
  {
   "cell_type": "code",
   "execution_count": 20,
   "id": "c6312dd2-2bd2-4bb1-a022-57559bd13c4b",
   "metadata": {},
   "outputs": [
    {
     "name": "stdout",
     "output_type": "stream",
     "text": [
      "3\n"
     ]
    }
   ],
   "source": [
    "n=[1,2,4,5,6]\n",
    "b=[1,2,3,4,5,6]\n",
    "for i in b:\n",
    "    if i in n :\n",
    "        continue\n",
    "    else:\n",
    "       print(i)\n",
    "    "
   ]
  },
  {
   "cell_type": "code",
   "execution_count": 28,
   "id": "87e75175-9345-46ca-9b96-8377f0508060",
   "metadata": {},
   "outputs": [
    {
     "name": "stdin",
     "output_type": "stream",
     "text": [
      " 4\n"
     ]
    },
    {
     "name": "stdout",
     "output_type": "stream",
     "text": [
      "1\n",
      "11\n",
      "22\n",
      "111\n",
      "222\n",
      "333\n",
      "1111\n",
      "2222\n",
      "3333\n",
      "4444\n"
     ]
    }
   ],
   "source": [
    "n=int(input())\n",
    "m=n*n\n",
    "for i in range(1,n+1):\n",
    "    for j in range(1,m):\n",
    "        print(i*str(j))"
   ]
  },
  {
   "cell_type": "code",
   "execution_count": null,
   "id": "d7b4977b-6c6d-47a4-8cad-3cee3a8ace1f",
   "metadata": {},
   "outputs": [],
   "source": []
  }
 ],
 "metadata": {
  "kernelspec": {
   "display_name": "Python 3 (ipykernel)",
   "language": "python",
   "name": "python3"
  },
  "language_info": {
   "codemirror_mode": {
    "name": "ipython",
    "version": 3
   },
   "file_extension": ".py",
   "mimetype": "text/x-python",
   "name": "python",
   "nbconvert_exporter": "python",
   "pygments_lexer": "ipython3",
   "version": "3.11.7"
  }
 },
 "nbformat": 4,
 "nbformat_minor": 5
}
