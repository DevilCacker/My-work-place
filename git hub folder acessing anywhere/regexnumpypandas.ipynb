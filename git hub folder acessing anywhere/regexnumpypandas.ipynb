{
 "cells": [
  {
   "cell_type": "code",
   "execution_count": 13,
   "id": "d0ae8fcc-9834-4ecc-a2e0-63e63b1b00db",
   "metadata": {},
   "outputs": [
    {
     "data": {
      "text/plain": [
       "['gym', 'hello', 'good']"
      ]
     },
     "execution_count": 13,
     "metadata": {},
     "output_type": "execute_result"
    }
   ],
   "source": [
    "def ww(*args):\n",
    "    a=[]\n",
    "    for i in args:\n",
    "        a.append(i)\n",
    "    a.sort()\n",
    "    c=set(a)\n",
    "    d=list(c) \n",
    "    return d\n",
    "ww(\"hello\",\"gym\",\"good\",\"hello\")\n",
    "    "
   ]
  },
  {
   "cell_type": "code",
   "execution_count": 14,
   "id": "415a99d0-24ef-4971-81aa-85d11291d0b2",
   "metadata": {},
   "outputs": [
    {
     "name": "stdout",
     "output_type": "stream",
     "text": [
      "Python:Exercises::PHP:exercises:\n"
     ]
    }
   ],
   "source": [
    "import re \n",
    "a=\"Python Exercises, PHP exercises.\"\n",
    "pp=r' |,|\\.'\n",
    "zz=re.sub(pp,\":\",a)\n",
    "print(zz)"
   ]
  },
  {
   "cell_type": "code",
   "execution_count": 15,
   "id": "44a50371-40bd-431b-a3f6-a25e3b835363",
   "metadata": {},
   "outputs": [
    {
     "data": {
      "text/plain": [
       "['ello', 'aood']"
      ]
     },
     "execution_count": 15,
     "metadata": {},
     "output_type": "execute_result"
    }
   ],
   "source": [
    "def ww(*args):\n",
    "    a=[]\n",
    "    for i in args:\n",
    "        if i[0] == \"a\" or i[0] == \"e\":\n",
    "            a.append(i)\n",
    "    return a\n",
    "ww(\"ello\",\"gym\",\"aood\",\"hello\")"
   ]
  },
  {
   "cell_type": "code",
   "execution_count": 16,
   "id": "58c033db-c041-4cbd-a5e9-1c1711cb5fa0",
   "metadata": {},
   "outputs": [
    {
     "name": "stdout",
     "output_type": "stream",
     "text": [
      "ello\n",
      "gym\n",
      "aood\n",
      "wew\n"
     ]
    }
   ],
   "source": [
    "a=[\"ello\",\"gym\",\"aood\",\"hello\",\"weryruitygfu\",\"rargeyjwdgfh\",\"wew\"]\n",
    "for i in a:\n",
    "    if len(i) <= 4:\n",
    "        print(i)"
   ]
  },
  {
   "cell_type": "code",
   "execution_count": 17,
   "id": "de356d96-283a-48e1-9245-e7e5122a4a2b",
   "metadata": {},
   "outputs": [
    {
     "name": "stdout",
     "output_type": "stream",
     "text": [
      "ello\n",
      "gym\n",
      "aood\n",
      "hello\n",
      "weryruitygfu\n",
      "rargeyjwdgfh\n",
      "wew\n"
     ]
    }
   ],
   "source": [
    "import re \n",
    " \n",
    "for i in a:\n",
    "    print(i)\n",
    "    #pp=r','\n",
    "   # zz=re.sub(pp,\"qq\",a)\n",
    "#print(i)"
   ]
  },
  {
   "cell_type": "code",
   "execution_count": 18,
   "id": "66ae1a4a-2061-46a4-a28a-107d020f2bdc",
   "metadata": {},
   "outputs": [
    {
     "ename": "TypeError",
     "evalue": "expected string or bytes-like object, got 'list'",
     "output_type": "error",
     "traceback": [
      "\u001b[1;31m---------------------------------------------------------------------------\u001b[0m",
      "\u001b[1;31mTypeError\u001b[0m                                 Traceback (most recent call last)",
      "Cell \u001b[1;32mIn[18], line 5\u001b[0m\n\u001b[0;32m      3\u001b[0m \u001b[38;5;28;01mfor\u001b[39;00m i \u001b[38;5;129;01min\u001b[39;00m a:\n\u001b[0;32m      4\u001b[0m     pp\u001b[38;5;241m=\u001b[39m\u001b[38;5;124mr\u001b[39m\u001b[38;5;124m'\u001b[39m\u001b[38;5;124m\\\u001b[39m\u001b[38;5;124m( | \u001b[39m\u001b[38;5;124m\\\u001b[39m\u001b[38;5;124m)\u001b[39m\u001b[38;5;124m'\u001b[39m\n\u001b[1;32m----> 5\u001b[0m     z\u001b[38;5;241m=\u001b[39m\u001b[43mre\u001b[49m\u001b[38;5;241;43m.\u001b[39;49m\u001b[43msub\u001b[49m\u001b[43m(\u001b[49m\u001b[43mpp\u001b[49m\u001b[43m,\u001b[49m\u001b[38;5;124;43m\"\u001b[39;49m\u001b[38;5;124;43m \u001b[39;49m\u001b[38;5;124;43m\"\u001b[39;49m\u001b[43m,\u001b[49m\u001b[43ma\u001b[49m\u001b[43m)\u001b[49m\n\u001b[0;32m      6\u001b[0m     \u001b[38;5;28mprint\u001b[39m(i)\n",
      "File \u001b[1;32m~\\AppData\\Local\\Programs\\Python\\Python311\\Lib\\re\\__init__.py:185\u001b[0m, in \u001b[0;36msub\u001b[1;34m(pattern, repl, string, count, flags)\u001b[0m\n\u001b[0;32m    178\u001b[0m \u001b[38;5;28;01mdef\u001b[39;00m \u001b[38;5;21msub\u001b[39m(pattern, repl, string, count\u001b[38;5;241m=\u001b[39m\u001b[38;5;241m0\u001b[39m, flags\u001b[38;5;241m=\u001b[39m\u001b[38;5;241m0\u001b[39m):\n\u001b[0;32m    179\u001b[0m \u001b[38;5;250m    \u001b[39m\u001b[38;5;124;03m\"\"\"Return the string obtained by replacing the leftmost\u001b[39;00m\n\u001b[0;32m    180\u001b[0m \u001b[38;5;124;03m    non-overlapping occurrences of the pattern in string by the\u001b[39;00m\n\u001b[0;32m    181\u001b[0m \u001b[38;5;124;03m    replacement repl.  repl can be either a string or a callable;\u001b[39;00m\n\u001b[0;32m    182\u001b[0m \u001b[38;5;124;03m    if a string, backslash escapes in it are processed.  If it is\u001b[39;00m\n\u001b[0;32m    183\u001b[0m \u001b[38;5;124;03m    a callable, it's passed the Match object and must return\u001b[39;00m\n\u001b[0;32m    184\u001b[0m \u001b[38;5;124;03m    a replacement string to be used.\"\"\"\u001b[39;00m\n\u001b[1;32m--> 185\u001b[0m     \u001b[38;5;28;01mreturn\u001b[39;00m \u001b[43m_compile\u001b[49m\u001b[43m(\u001b[49m\u001b[43mpattern\u001b[49m\u001b[43m,\u001b[49m\u001b[43m \u001b[49m\u001b[43mflags\u001b[49m\u001b[43m)\u001b[49m\u001b[38;5;241;43m.\u001b[39;49m\u001b[43msub\u001b[49m\u001b[43m(\u001b[49m\u001b[43mrepl\u001b[49m\u001b[43m,\u001b[49m\u001b[43m \u001b[49m\u001b[43mstring\u001b[49m\u001b[43m,\u001b[49m\u001b[43m \u001b[49m\u001b[43mcount\u001b[49m\u001b[43m)\u001b[49m\n",
      "\u001b[1;31mTypeError\u001b[0m: expected string or bytes-like object, got 'list'"
     ]
    }
   ],
   "source": [
    "import re \n",
    "a=[\"example (.com)\", \"hr@fliprobo (.com)\", \"github (.com)\", \"Hello (Data Science World)\", \"Data (Scientist)\"]\n",
    "for i in a:\n",
    "    pp=r'\\( | \\)'\n",
    "    z=re.sub(pp,\" \",a)\n",
    "    print(i)"
   ]
  },
  {
   "cell_type": "code",
   "execution_count": null,
   "id": "76be0e0a-ed8c-4874-9c09-db0b6fb431fb",
   "metadata": {},
   "outputs": [],
   "source": [
    "def nn(a):\n",
    "    print(a)\n",
    "    c=set(a)\n",
    "    print(c)\n",
    "    d=list(c)\n",
    "    d.sort()\n",
    "    return d\n",
    "nn([12,34,4,67,89,0,0])"
   ]
  },
  {
   "cell_type": "code",
   "execution_count": null,
   "id": "c3e84159-6a79-4375-a4e5-42b70cef95b8",
   "metadata": {},
   "outputs": [],
   "source": [
    "import statistics\n",
    "a=[1,3,4,5,4,7,8,9,10,23]\n",
    "print(statistics.median(a))"
   ]
  },
  {
   "cell_type": "code",
   "execution_count": null,
   "id": "52b0f15a-7f19-4357-b909-1156039cf784",
   "metadata": {},
   "outputs": [],
   "source": [
    "import re\n"
   ]
  },
  {
   "cell_type": "code",
   "execution_count": null,
   "id": "0a7a5d7f-b371-4e2f-baae-21b4c1fc47c6",
   "metadata": {},
   "outputs": [],
   "source": [
    "a=\"Python Exercises, PHP exercises PHP\"\n"
   ]
  },
  {
   "cell_type": "code",
   "execution_count": null,
   "id": "44bb74f2-6a9f-4681-9571-06b387d4bfa0",
   "metadata": {},
   "outputs": [],
   "source": [
    "re.search(\"PHP\",a).group()\n"
   ]
  },
  {
   "cell_type": "code",
   "execution_count": null,
   "id": "6b60c8f6-a2cc-42fb-9d94-18dab5f53435",
   "metadata": {},
   "outputs": [],
   "source": [
    "re.findall(\"PHP\",a)"
   ]
  },
  {
   "cell_type": "code",
   "execution_count": null,
   "id": "60c20d6f-f655-481c-bf36-c06c920e35da",
   "metadata": {},
   "outputs": [],
   "source": [
    "re.split(\" \",a)"
   ]
  },
  {
   "cell_type": "code",
   "execution_count": null,
   "id": "9e017acc-0a79-4a16-847a-27943e173fdf",
   "metadata": {},
   "outputs": [],
   "source": [
    "re.split(\"\\.\",a)"
   ]
  },
  {
   "cell_type": "code",
   "execution_count": null,
   "id": "88265f75-46e7-4d2f-b098-fc1b5b9c5bd6",
   "metadata": {},
   "outputs": [],
   "source": [
    "re.sub(\"PHP\",\"php\",a,count=1)"
   ]
  },
  {
   "cell_type": "code",
   "execution_count": null,
   "id": "0f89fb91-4138-4107-a814-13ecb0ec1383",
   "metadata": {},
   "outputs": [],
   "source": []
  },
  {
   "cell_type": "code",
   "execution_count": null,
   "id": "5cf30de4-320f-4788-accf-df9cbd345e7f",
   "metadata": {},
   "outputs": [],
   "source": []
  },
  {
   "cell_type": "code",
   "execution_count": null,
   "id": "7b0fa379-25e8-495d-bc88-65f5d9ada59d",
   "metadata": {},
   "outputs": [],
   "source": [
    "import re \n",
    "z=\"APJ Abdul Kalam was an Indian Aerospace acientist.\"\n",
    "pp=r'[A-Z]{1}[a-z]+|\\bA[a-z]+l'\n",
    "matches=re.findall(pp,z)\n",
    "print(matches)"
   ]
  },
  {
   "cell_type": "code",
   "execution_count": null,
   "id": "16f9e02d-9154-43ab-bf1c-47042271a6a1",
   "metadata": {},
   "outputs": [],
   "source": []
  },
  {
   "cell_type": "code",
   "execution_count": null,
   "id": "9ac9aced-beac-44a0-936b-2d5f8f2addf1",
   "metadata": {},
   "outputs": [],
   "source": [
    "import re\n",
    "z=\"them are 123 and 345 .oraghuhfjhjjrnjnghr jngjhrngjrnjrntgjrnjngjtrnjgnjtr.njrtgnjrtgnjrtgnjnjnjngjrtgnj.rtntrjnnge.\"\n",
    "aa=r'a.e|[A-Za-z]+'\n",
    "bb=re.findall(aa,z)\n",
    "print(bb)"
   ]
  },
  {
   "cell_type": "code",
   "execution_count": null,
   "id": "d07f1bea-686d-45a9-bf67-0115bde02261",
   "metadata": {},
   "outputs": [],
   "source": []
  },
  {
   "cell_type": "code",
   "execution_count": null,
   "id": "00903b37-cfb4-4644-9634-316ef397e60c",
   "metadata": {},
   "outputs": [],
   "source": [
    "a=(\"ello gym jaod hello rerere etet\")\n",
    "pp=r'\\b[a][a-z]+|[e][a-z]+\\b'\n",
    "matches=re.findall(pp,a)\n",
    "matches"
   ]
  },
  {
   "cell_type": "code",
   "execution_count": null,
   "id": "b28d2773-1301-40cc-921b-c19795997bd3",
   "metadata": {},
   "outputs": [],
   "source": [
    "\n",
    "def mm(a):\n",
    "    pp=r'\\b\\w{4}+\\b'\n",
    "    matches=re.findall(pp,a)\n",
    "    return matches\n",
    "a=\"ello gym aood hello weryruitygfu rargeyjwdgfh wew\"\n",
    "mm(a)    "
   ]
  },
  {
   "cell_type": "code",
   "execution_count": null,
   "id": "5003e4f2-7782-497d-bbac-887321422a57",
   "metadata": {},
   "outputs": [],
   "source": [
    "import re \n",
    "a=[\"example (.com)\", \"hr@fliprobo (.com)\", \"github (.com)\", \"Hello (Data Science World)\", \"Data (Scientist)\"]\n",
    "for i in a:\n",
    "    #print(i)nmnmn\n",
    "    z=re.sub(pp,\"\",i)\n",
    "    print(z)"
   ]
  },
  {
   "cell_type": "code",
   "execution_count": null,
   "id": "383673d6-f8ba-4b52-a07e-438e841917fc",
   "metadata": {},
   "outputs": [],
   "source": [
    "import re\n",
    "a=\"Importance5Of6RegularExpressions1In3Python\"\n",
    "pp=r'(\\d)'\n",
    "matches=re.sub(pp,r' \\1 ',a)\n",
    "matches"
   ]
  },
  {
   "cell_type": "code",
   "execution_count": null,
   "id": "1399a020-1001-4ac8-be74-cca6e1df8e06",
   "metadata": {},
   "outputs": [],
   "source": [
    "a=\"ImportanceOfRegularExpressionsInPython\"\n",
    "b=[]\n",
    "for i in a:\n",
    "    #pp=r'[A-Z][a-z]'\n",
    "    if i == pp:\n",
    "        print(i)\n",
    "        b.append(i)\n",
    "print(b)"
   ]
  },
  {
   "cell_type": "code",
   "execution_count": null,
   "id": "b3f5949b-a204-4f87-bb77-8489da28bec5",
   "metadata": {},
   "outputs": [],
   "source": [
    "import re\n",
    "a='My marks in each semester are: 947, 896, 926, 524, 734, 950, 642'\n",
    "pp=r'\\d{3}+'\n",
    "matches=re.findall(pp,a)\n",
    "print(matches)"
   ]
  },
  {
   "cell_type": "code",
   "execution_count": null,
   "id": "4a519a51-897a-4264-aa3b-dad5247ee8c4",
   "metadata": {},
   "outputs": [],
   "source": [
    "import re\n",
    "target_string = 'My marks in each semester are: 947, 896, 926, 524, 734, 950, 642'\n",
    "pattern = r'\\d+'\n",
    "matches = re.findall(pattern, target_string)\n",
    "b=0\n",
    "for i in matches :\n",
    "    if i == str(b):\n",
    "        print(i)\n",
    "        q.append(i)\n",
    "        b=i\n",
    "print(b)"
   ]
  },
  {
   "cell_type": "code",
   "execution_count": null,
   "id": "88937eaf-e269-4ddd-9dda-0e9cce8ecb26",
   "metadata": {},
   "outputs": [],
   "source": [
    "for i in match:\n",
    "    if int(i) >= c:\n",
    "        print(i)\n",
    "        b.append(str(i))\n",
    "        c+=int(i)\n",
    "        print(c)\n",
    "        \n",
    "        print(b)"
   ]
  },
  {
   "cell_type": "code",
   "execution_count": null,
   "id": "616722f4-46d8-4ed1-a303-bc7700a85a19",
   "metadata": {},
   "outputs": [],
   "source": [
    "q=[]\n",
    "b=0\n",
    "for i in range(1,10):\n",
    "    if i>= b:\n",
    "        q.append(i)\n",
    "        b=i\n",
    "print(b)\n",
    "    "
   ]
  },
  {
   "cell_type": "code",
   "execution_count": null,
   "id": "5255dc2c-a1e2-4da9-98c9-b1f26675ba57",
   "metadata": {},
   "outputs": [],
   "source": [
    "import re\n",
    "a = 'My marks in each semester are: 947, 896, 926, 524, 734, 950, 642'\n",
    "pattern = r'\\d+'\n",
    "m = re.findall(pattern, a)\n",
    "print(max(m))"
   ]
  },
  {
   "cell_type": "code",
   "execution_count": null,
   "id": "ed6951b0-40fc-44d7-b2d4-a0485e7ff49c",
   "metadata": {},
   "outputs": [],
   "source": [
    "a=\"Hello hello world world\"\n",
    "pp=r'\\w+'\n",
    "matches = re.findall(pp, a)\n",
    "zz=set(matches)\n",
    "print(zz)"
   ]
  },
  {
   "cell_type": "code",
   "execution_count": null,
   "id": "b0bd3c20-f1b8-41fa-8b0a-e8af7d662544",
   "metadata": {},
   "outputs": [],
   "source": [
    "a=\"Hello hello world world\"\n",
    "pp=r'\\b[A-Z][a-z]+\\b|[a-z]+'\n",
    "matches = re.findall(pp, a)\n",
    "zz=set(matches)\n",
    "print(zz)"
   ]
  },
  {
   "cell_type": "code",
   "execution_count": null,
   "id": "5fe1fe5a-7032-41aa-8f15-9c8090d8f035",
   "metadata": {},
   "outputs": [],
   "source": [
    "import re\n",
    "a=\"ImportanceOfRegularExpressionsInPython\"\n",
    "pp=r'[A-Z][a-z]+|\\b[a-z]+\\b'\n",
    "match=re.findall(pp,a)\n",
    "for i in match:\n",
    "    e=3\n",
    "    b=i\n",
    "    print(b)\n",
    "\n"
   ]
  },
  {
   "cell_type": "code",
   "execution_count": null,
   "id": "34007017-b2e2-489b-8685-37c4af57a61c",
   "metadata": {},
   "outputs": [],
   "source": [
    "for i in range(10):\n",
    "    print(\"fuck \"*i)"
   ]
  },
  {
   "cell_type": "code",
   "execution_count": null,
   "id": "4e184481-8856-4771-8065-6776785fdf9c",
   "metadata": {},
   "outputs": [],
   "source": [
    "a=[1,2,3,4,5,6,7,8,9,0]\n",
    "b=[1,3,6,7,9,0]\n",
    "missing=[]\n",
    "for x in a:\n",
    "    if x not in b:\n",
    "    \tmissing.append(x)\n",
    "print(f'the missing numbers in b compared to A is {missing}')"
   ]
  },
  {
   "cell_type": "code",
   "execution_count": null,
   "id": "f601bd6a-c08a-45e7-9c31-630d434042d5",
   "metadata": {},
   "outputs": [],
   "source": [
    " 1\n",
    "import re\n",
    "a=\"pythonisgood\"\n",
    "pp=r'\\W'\n",
    "matches=re.findall(pp,a)\n",
    "#print(matches)\n",
    "zz=len(matches)\n",
    "#print(zz)\n",
    "if zz==0:\n",
    "    print(\"good string no space any expression occured\")\n",
    "else:\n",
    "    print(\"bad string space any expression occured\")\n",
    "    \n"
   ]
  },
  {
   "cell_type": "code",
   "execution_count": null,
   "id": "d7dd232f-b37d-4d94-b98d-64968f1c79d9",
   "metadata": {},
   "outputs": [],
   "source": [
    "2\n",
    "a=\"9python is 7good\"\n",
    "pp=r'[0-9]\\w+'\n",
    "matches=re.findall(pp,a)\n",
    "print(matches)"
   ]
  },
  {
   "cell_type": "code",
   "execution_count": null,
   "id": "19efcbfd-a365-4840-81f6-7c55b578de83",
   "metadata": {},
   "outputs": [],
   "source": [
    "4\n",
    "a=' On August 15th 1947 that India was declared independent from British colonialism, and the October 10th 1999  reins of control were handed over to the leaders of the Country'\n",
    "pp=r'\\b[A-Z][a-z]+ [0-9]+[a-z]+\\b|\\d+'\n",
    "matches=re.findall(pp,a)\n",
    "print(matches)"
   ]
  },
  {
   "cell_type": "code",
   "execution_count": null,
   "id": "66df7e8f-67d6-4a9d-9b82-0f5ef1898e23",
   "metadata": {},
   "outputs": [],
   "source": [
    "a= \"example(.com)\", \"hr@fliprobo(.com)\", \"github(.com)\", \"Hello(Data Science World)\", \"Data(Scientist)\"\n",
    "for i in a:\n",
    "    pp=r'\\(|\\)|\\.\\w+'\n",
    "    matches=re.sub(pp,'',i)\n",
    "    print(matches)"
   ]
  },
  {
   "cell_type": "code",
   "execution_count": null,
   "id": "f8065251-047d-47c1-b380-292ea4f9e322",
   "metadata": {},
   "outputs": [],
   "source": [
    "5\n",
    "a= \"example(.com)\", \"hr@fliprobo(.com)\", \"github(.com)\", \"Hello(Data Science World)\", \"Data(Scientist)\"\n",
    "for i in a:\n",
    "    pp=r'\\(.?[\\w\\s]*\\)'\n",
    "    matches=re.sub(pp,'',i)\n",
    "    print(matches)"
   ]
  },
  {
   "cell_type": "code",
   "execution_count": null,
   "id": "ff2c8a93-de79-4c25-ad1a-08690b81ec56",
   "metadata": {},
   "outputs": [],
   "source": [
    "a=\"01.12 0132.123 2.31875 145.8 3.01 27.25 0.25\"\n",
    "#lst=lst=list(map(str,a.split()))\n",
    "#print(lst)\n",
    "pp=r'\\d{2}.\\d{2}'\n",
    "matches=re.findall(pp,a)\n",
    "#print(matches)\n",
    "for i in lst:\n",
    "    print(i)\n",
    "    pp= '\\d{2}.\\d{2}'\n",
    "    matches=re.findall(pp,i)\n",
    "    #print(matches)\n"
   ]
  },
  {
   "cell_type": "code",
   "execution_count": null,
   "id": "af6c6c28-b2b7-4a45-ac08-771bbf5d5da4",
   "metadata": {},
   "outputs": [],
   "source": [
    "14\n",
    "a=\"The following example creates an ArrayList with a capacity of 50 elements. 4 elements are then added to the ArrayList and the ArrayList is trimmed accordingly.\"\n",
    "lst=list(map(str,a.split()))\n",
    "for i in lst:\n",
    "    if len(i)>=2 and len(i)<=4:\n",
    "        continue\n",
    "    else:\n",
    "        print(i,end=\" \")\n"
   ]
  },
  {
   "cell_type": "code",
   "execution_count": null,
   "id": "9a5c1d6a-96bf-4950-a20c-262cea373a64",
   "metadata": {},
   "outputs": [],
   "source": [
    "11\n",
    "a=' \"\"\"RT @kapil_kausik: #Doltiwal I mean #xyzabc is \"hurt\" by #Demonetization as the same has rendered USELESS <ed><U+00A0><U+00BD><ed><U+00B1><U+0089> \"acquired funds\" No wo\"\"\".'\n",
    "pp=r'\\#[[A-Za-z]+'\n",
    "matches=re.findall(pp,a)\n",
    "print(matches)"
   ]
  },
  {
   "cell_type": "code",
   "execution_count": null,
   "id": "445c1447-6a56-49ed-93e7-0ce2e8ae524b",
   "metadata": {},
   "outputs": [],
   "source": [
    "12\n",
    "a= \"@Jags123456 Bharat band on 28??<ed><U+00A0><U+00BD><ed><U+00B8><U+0082>Those who  are protesting #demonetization  are all different party leaders\"\n",
    "pp=r'\\<U.....\\>'\n",
    "matches=re.sub(pp,\"\",a)\n",
    "print(matches)"
   ]
  },
  {
   "cell_type": "code",
   "execution_count": null,
   "id": "3ff806b1-d163-4f8b-b812-11939c0b3304",
   "metadata": {},
   "outputs": [],
   "source": [
    "13\n",
    "a=\"Ron was born on 12-09-1992 and he was admitted to school 15-12-1999.\"\n",
    "pp=r'[0-9]+'\n",
    "matches=re.findall(pp,a)\n",
    "print(matches)\n"
   ]
  },
  {
   "cell_type": "code",
   "execution_count": null,
   "id": "42228c42-8fbc-4300-95ce-e3b735b9c522",
   "metadata": {},
   "outputs": [],
   "source": [
    "15\n",
    "def mm(a):\n",
    "    b= 'The quick brown fox jumps over the lazy dog.'\n",
    "    pp=r'fox'\n",
    "    matches=re.search(pp,b)\n",
    "    match=re.findall(pp,b)\n",
    "    print(match)\n",
    "    return matches\n",
    "#b=input(\"enter the word==\")\n",
    "mm(a)"
   ]
  },
  {
   "cell_type": "code",
   "execution_count": null,
   "id": "c48c9596-b013-4c62-8050-cd9b7cc4558e",
   "metadata": {},
   "outputs": [],
   "source": [
    "a= 'The quick brown fox jumps over the lazy fox'\n",
    "b='fox'\n",
    "lst=list(map(str,a.split()))\n",
    "count=0\n",
    "even_m=0\n",
    "for i in lst :\n",
    "    if i in b:\n",
    "        print(i)\n",
    "    else:\n",
    "        even_m+=1\n",
    "print(count,even_m)"
   ]
  },
  {
   "cell_type": "code",
   "execution_count": null,
   "id": "857e96f4-157e-48ab-a096-724a3535a92a",
   "metadata": {},
   "outputs": [],
   "source": [
    "import re\n",
    "def text_match(text):\n",
    "        patterns = '^a(b*)\\w'\n",
    "        if re.search(patterns,  text):\n",
    "                return 'Found a match!'\n",
    "        else:\n",
    "                return('Not matched!')\n",
    "print(text_match(\"a123\"))\n",
    "print(text_match(\"abc\"))\n",
    "print(text_match(\"a\"))\n",
    "print(text_match(\"ab\"))\n",
    "print(text_match(\"abb\"))\n"
   ]
  },
  {
   "cell_type": "code",
   "execution_count": null,
   "id": "7901b338-0e1f-4355-80f2-12c1f1f80c3a",
   "metadata": {},
   "outputs": [],
   "source": [
    "a='The quick brown fox jumps over the lazy fox'\n",
    "def zz(a,pp):\n",
    "    if re.findall(pp,a):\n",
    "        print(\"match\")\n",
    "    else:\n",
    "        print(\"not match\")\n",
    "a='The quick brown fox jumps over the lazy fox'\n",
    "pp='fox'\n",
    "zz(a,pp)\n",
    "#print(re.findall(pp,a))"
   ]
  },
  {
   "cell_type": "code",
   "execution_count": null,
   "id": "8661e3e0-3d3b-4d38-b254-e390d0bcea30",
   "metadata": {},
   "outputs": [],
   "source": [
    "a=\"12.0090.07890\"\n",
    "pp=r'\\.0*'\n",
    "matches = re.sub(pp,r'.',a)\n",
    "\n",
    "print(matches)"
   ]
  },
  {
   "cell_type": "code",
   "execution_count": null,
   "id": "265c0ad6-caa9-41b2-bfc3-a3d180e43a9d",
   "metadata": {},
   "outputs": [],
   "source": [
    "a=' On August 15th 1947 that India was declared independent from British colonialism, and the October 10th 1999  reins of control were handed over to the leaders of the Country'\n",
    "pp=r'\\w+ \\d{2}\\w+ \\d+'\n",
    "pr=r'A[\\w\\s]+7'\n",
    "matches=re.findall(pp,a)\n",
    "matche=re.findall(pr,a)\n",
    "print(matches)\n",
    "print(matche)"
   ]
  },
  {
   "cell_type": "code",
   "execution_count": null,
   "id": "ae8e20aa-73cc-419c-86bd-d49d71079dae",
   "metadata": {},
   "outputs": [],
   "source": [
    "a=\"python is good is\"\n",
    "pp=r'is'\n",
    "matches = re.search(pp,a)\n",
    "print(matches)"
   ]
  },
  {
   "cell_type": "code",
   "execution_count": null,
   "id": "8215494f-3eaf-4c11-b4a7-46f5c2489067",
   "metadata": {},
   "outputs": [],
   "source": [
    "a='2015-02-12'\n",
    "pp=r'(\\d+)(-\\d+-)(\\d+)'\n",
    "matches = re.sub(pp,r'\\3\\2\\1',a)\n",
    "print(matches)"
   ]
  },
  {
   "cell_type": "code",
   "execution_count": null,
   "id": "ea76f288-2438-49ef-90dd-3ec49b136719",
   "metadata": {},
   "outputs": [],
   "source": [
    "a=\"python9is0good5is\"\n",
    "pp=r'(\\d)'\n",
    "matches = re.sub(pp,\" \\1 \",a)\n",
    "print(matches)"
   ]
  },
  {
   "cell_type": "code",
   "execution_count": null,
   "id": "83a5bf06-7c20-434c-baf9-d8aef8795424",
   "metadata": {},
   "outputs": [],
   "source": [
    "a=\"01.12 0132.123 2.31875 145.8 3.01 27.25 0.25\"\n",
    "pp=r'\\b\\d+\\.\\d{1}\\b|\\b\\d+\\.\\d{2}\\b'\n",
    "matches=re.findall(pp,a)\n",
    "matches"
   ]
  },
  {
   "cell_type": "code",
   "execution_count": null,
   "id": "4e88e74d-8027-499b-966b-73955ab41cb2",
   "metadata": {},
   "outputs": [],
   "source": [
    "import re\n",
    "a=\"The following example creates an ArrayList with a capacity of 50 elements. 4 elements are then added to the ArrayList and the ArrayList is trimmed accordingly.\"\n",
    "pp=r'^\\d+|\\d+$'\n",
    "march=re.search(pp,a)\n",
    "march"
   ]
  },
  {
   "cell_type": "code",
   "execution_count": null,
   "id": "1baf0722-0f99-4843-8067-d6c4cbac7fb5",
   "metadata": {},
   "outputs": [],
   "source": [
    "a=\"The following example creates an ArrayList with a capacity of 50 elements. 4 elements are then added to the ArrayList and the ArrayList is trimmed accordingly.\"\n",
    "b=\"The following example creates an ArrayList with a capacity of 50 elements. 4 elements\"\n",
    "pp1=r'\\w+'\n",
    "pp2=r'\\w+'\n",
    "match=re.findall(pp1,a)\n",
    "match2=re.findall(pp2,b)\n",
    "c=[]\n",
    "for i in match:\n",
    "    if i in match2:\n",
    "        c.append(i)\n",
    "print(c)"
   ]
  },
  {
   "cell_type": "code",
   "execution_count": null,
   "id": "0a7f301a-949b-4404-b521-274c4f17f982",
   "metadata": {},
   "outputs": [],
   "source": []
  },
  {
   "cell_type": "code",
   "execution_count": null,
   "id": "0820e6da-912b-4c77-8f83-65501ae94c48",
   "metadata": {},
   "outputs": [],
   "source": [
    "import re\n",
    "a=\"The following example creates an ArrayList with a capacity of 50 elements. 4 elements are then added to the ArrayList and the ArrayList is trimmed accordingly.\"\n",
    "b=\"The following example creates an ArrayList with a capacity of 50 elements. 4 elements\"\n",
    "pp1=r'\\w+'\n",
    "pp2=r'\\w+'\n",
    "match=re.findall(pp1,a)\n",
    "match2=re.findall(pp2,b)\n",
    "c=[]\n",
    "for i in match:\n",
    "    if i not in match2:\n",
    "        #print(i)\n",
    "        c.append(i)\n",
    "print(c)"
   ]
  },
  {
   "cell_type": "code",
   "execution_count": null,
   "id": "97bb90bc-cbd0-40f8-a8d6-b73c1ee59bad",
   "metadata": {},
   "outputs": [],
   "source": [
    "def uuu(a):\n",
    "    b=sum(a)\n",
    "    d=len(a)\n",
    "    e=b//d\n",
    "    print(e)\n",
    "a=[10,20,30,40,50]\n",
    "uuu(a)\n"
   ]
  },
  {
   "cell_type": "code",
   "execution_count": null,
   "id": "9094ecf7-f6be-4c10-b578-c822c1bd4fcf",
   "metadata": {},
   "outputs": [],
   "source": [
    "def mmm(a,b,c):\n",
    "    if a==b and b==c and c==a:\n",
    "        return \"same\"\n",
    "    else:\n",
    "        return \"not same\"\n",
    "a=int(input(\"enter value 1=\"))\n",
    "b=int(input(\"enter value 1=\"))\n",
    "c=int(input(\"enter value 1=\"))\n",
    "mmm(a,b,c)"
   ]
  },
  {
   "cell_type": "code",
   "execution_count": null,
   "id": "dad14fae-df7f-4dcc-a936-409f7b66566c",
   "metadata": {},
   "outputs": [],
   "source": [
    "a = [1, 2, 1, 1, 3, 4, 3, 3, 5]\n",
    "b=set(a)\n",
    "print(b)"
   ]
  },
  {
   "cell_type": "code",
   "execution_count": null,
   "id": "89502aba-cde2-4228-94ee-8266962b977b",
   "metadata": {},
   "outputs": [],
   "source": [
    "a=['mmm','ddd','nnn']\n",
    "a.sort()\n",
    "g=[]\n",
    "for i in a:\n",
    "    l=i[0]\n",
    "    g.append(l)\n",
    "print(g)"
   ]
  },
  {
   "cell_type": "code",
   "execution_count": null,
   "id": "633970ba-415b-4f9a-a0dc-a44878344f5f",
   "metadata": {},
   "outputs": [],
   "source": [
    "a=\"The following example creates an ArrayList with a capacity of 50345 elements. 4 elements are then added to the ArrayList and the ArrayList is trimmed accordingly.\"\n",
    "pp=r'[a-z]*\\s\\d{2,4}'\n",
    "matches=re.findall(pp,a)\n",
    "print(matches)"
   ]
  },
  {
   "cell_type": "code",
   "execution_count": null,
   "id": "b550ffa1-3b23-44a0-b7d8-afd31731b582",
   "metadata": {},
   "outputs": [],
   "source": [
    "data=[]\n",
    "while True :\n",
    "    n=input(\"enter\")\n",
    "    data.append(n)\n",
    "    u=input(\"enter y//n to enter anoter name==\")\n",
    "    if u.casefold() == \"n\" :\n",
    "        break\n",
    "for i in data:\n",
    "    print(i)"
   ]
  },
  {
   "cell_type": "code",
   "execution_count": null,
   "id": "89e154b2-fd17-499d-946a-22514d845bdb",
   "metadata": {},
   "outputs": [],
   "source": [
    "def pp(*a):\n",
    "    print(*a)\n",
    "a=1,2,3,4,5\n",
    "pp(a)"
   ]
  },
  {
   "cell_type": "code",
   "execution_count": null,
   "id": "35e4ce0a-8588-48a0-afac-97bd48030771",
   "metadata": {},
   "outputs": [],
   "source": [
    "n=f_1()"
   ]
  },
  {
   "cell_type": "code",
   "execution_count": null,
   "id": "df583f9a-2a10-48df-b2de-9a95c8a06b99",
   "metadata": {},
   "outputs": [],
   "source": [
    "class f_2():\n",
    "    def p(self):\n",
    "        return n"
   ]
  },
  {
   "cell_type": "code",
   "execution_count": null,
   "id": "20ea11fa-4c29-4dbf-9dfe-a69c094a7624",
   "metadata": {},
   "outputs": [],
   "source": [
    "class f_1(f_2):\n",
    "    def gather(self):\n",
    "        n=input(\"enter the number=\")\n",
    "        return n\n",
    "        "
   ]
  },
  {
   "cell_type": "code",
   "execution_count": null,
   "id": "28f33ec9-9555-4dee-be89-9735eaa7044d",
   "metadata": {},
   "outputs": [],
   "source": [
    "n.gather()\n"
   ]
  },
  {
   "cell_type": "code",
   "execution_count": null,
   "id": "10449b16-b6f0-4692-8237-1bf7fd504921",
   "metadata": {},
   "outputs": [],
   "source": [
    "n.p()"
   ]
  },
  {
   "cell_type": "code",
   "execution_count": null,
   "id": "0a0254aa-9d91-4e1a-b900-bf65b2cfe56a",
   "metadata": {},
   "outputs": [],
   "source": [
    "import re\n",
    "a=\"01.12 0132.123 2.31875 145.8 3.01 27.25 0.25\"\n",
    "pp=r'\\b\\d{1,2}\\.\\d{2,3}\\b'\n",
    "print(re.findall(pp,a))"
   ]
  },
  {
   "cell_type": "code",
   "execution_count": null,
   "id": "65592817-c4f6-4a77-826d-6dd5f8b6cde4",
   "metadata": {},
   "outputs": [],
   "source": [
    "def ww(*args):\n",
    "    args=[]\n",
    "    for i in a:\n",
    "        if i[0] == \"a\" or i[0] == \"e\":\n",
    "            a.append(i)\n",
    "    return a\n",
    "ww(\"ello\",\"gym\",\"aood\",\"hello\")"
   ]
  },
  {
   "cell_type": "code",
   "execution_count": null,
   "id": "bde21796-36ab-4237-8b68-0df60443460f",
   "metadata": {},
   "outputs": [],
   "source": [
    "grocery_list=[]\n",
    "grocery_set=set(grocery_list)\n",
    "while True :\n",
    "    grocery_name=input(\"enter the grocery name=\")\n",
    "    #quantity=int(input(\"enter the grocery name=\"))\n",
    "    grocery_list.append(grocery_name)\n",
    "    list_ending=input(\"enter y//n to enter anoter name==\")\n",
    "    if list_ending.casefold() == \"n\" :\n",
    "        break\n",
    "print(grocery_set)\n",
    "print(grocery_list)"
   ]
  },
  {
   "cell_type": "code",
   "execution_count": null,
   "id": "43345b94-5145-4fe8-928d-6a6435ef597d",
   "metadata": {},
   "outputs": [],
   "source": [
    "data=[]\n",
    "while True :\n",
    "    n=input(\"enter\")\n",
    "    data.append(n)\n",
    "    u=input(\"enter y//n to enter anoter name==\")\n",
    "    if u.casefold() == \"n\" :\n",
    "        break\n",
    "for i in data:\n",
    "    print(i)"
   ]
  },
  {
   "cell_type": "code",
   "execution_count": null,
   "id": "fa6b3827-9ccf-4445-a277-c8783e6d6606",
   "metadata": {},
   "outputs": [],
   "source": [
    "my_list = [5, 2, 2,2, 3, 4, 5, 5]\n",
    "my_set = set()\n",
    "for item in my_list:\n",
    "    my_set.add(item)\n",
    "    print(*my_set)  # {1, 2, 3, 4, 5}"
   ]
  },
  {
   "cell_type": "code",
   "execution_count": null,
   "id": "c39b5785-4b09-405b-89a0-9745687774da",
   "metadata": {},
   "outputs": [],
   "source": [
    "class r1():\n",
    "    def n1(self):\n",
    "        b=int(input())\n",
    "        return b\n",
    "    def n2(self):\n",
    "        a=int(input(\"enter++\"))\n",
    "        b=int(input(\"enter++\"))\n",
    "        c=a + b\n",
    "        return c\n",
    "    def n3(*self):\n",
    "        d=[]\n",
    "        for i in range(1,20):\n",
    "            i+=3\n",
    "            d.append(i)\n",
    "        return d \n",
    "class r_total(r1):\n",
    "    def n5(self):\n",
    "        print(\"working\")\n"
   ]
  },
  {
   "cell_type": "code",
   "execution_count": null,
   "id": "f4b46796-7343-4d33-99e0-7f6aba08b0a9",
   "metadata": {},
   "outputs": [],
   "source": [
    "obj=r_total()"
   ]
  },
  {
   "cell_type": "code",
   "execution_count": null,
   "id": "43b4f6fb-2230-4fea-b16b-19b069f46200",
   "metadata": {},
   "outputs": [],
   "source": [
    "obj.n2()\n"
   ]
  },
  {
   "cell_type": "code",
   "execution_count": null,
   "id": "fac0f3a5-0c12-4d96-a5b4-9cf62cd5fb22",
   "metadata": {},
   "outputs": [],
   "source": [
    "b"
   ]
  },
  {
   "cell_type": "code",
   "execution_count": 2,
   "id": "2c2937dd-dbd2-480a-bc1a-b2702754a386",
   "metadata": {},
   "outputs": [
    {
     "name": "stdout",
     "output_type": "stream",
     "text": [
      "A\n",
      "b\n",
      "c\n",
      "1\n",
      "2\n",
      "3\n",
      "g\n",
      "u\n",
      "h\n",
      "y\n",
      "5\n",
      "6\n",
      "5\n",
      "6\n",
      "1\n"
     ]
    }
   ],
   "source": [
    "a='Abc123guhy5656'\n",
    "bll=0\n",
    "vhh=0\n",
    "for i in a:\n",
    "    print(i)\n",
    "    try:\n",
    "        int(i)\n",
    "    except:\n",
    "        bll += 1\n",
    "    else:\n",
    "        vhh =+ 1\n",
    "#print(bll)\n",
    "print(vhh)"
   ]
  },
  {
   "cell_type": "code",
   "execution_count": null,
   "id": "98d7d278-adde-4715-ae1d-36f13d7aea09",
   "metadata": {},
   "outputs": [],
   "source": [
    "class rr1():\n",
    "    def e1(self):\n",
    "        m=2\n",
    "        return m\n",
    "    def e2(self):\n",
    "        self.m=n\n",
    "        print(n)\n"
   ]
  },
  {
   "cell_type": "code",
   "execution_count": null,
   "id": "e982a856-ce3b-48a4-9763-2b20a1c4957a",
   "metadata": {},
   "outputs": [],
   "source": [
    "class ff(rr1):\n",
    "    e1()\n",
    "    e2()\n",
    "obj=ff()\n",
    "print(obj)"
   ]
  },
  {
   "cell_type": "code",
   "execution_count": null,
   "id": "5c4f2f73-4616-49eb-986f-172416be94fb",
   "metadata": {},
   "outputs": [],
   "source": [
    "def e1():\n",
    "    m=2\n",
    "    return m\n",
    "def e2(e1):\n",
    "    print(e1)\n",
    "e2(e1())\n",
    "e1()"
   ]
  },
  {
   "cell_type": "code",
   "execution_count": null,
   "id": "2b8ba1d7-ef89-45db-93a6-00559f8d1801",
   "metadata": {},
   "outputs": [],
   "source": [
    "class rr1():\n",
    "    def e1(self):\n",
    "        m=2\n",
    "        return m\n",
    "    def e2(e1):\n",
    "        print(e1)\n",
    "        e2(e1())\n",
    "\n",
    "class ff(rr1):\n",
    "    e1( )\n",
    "    e2(e1())\n",
    "obj=ff()\n",
    "print(obj)"
   ]
  },
  {
   "cell_type": "code",
   "execution_count": 1,
   "id": "f673da2c-e5e4-40e8-85b7-e6e0e38a18a8",
   "metadata": {},
   "outputs": [],
   "source": [
    "import numpy as np"
   ]
  },
  {
   "cell_type": "code",
   "execution_count": 28,
   "id": "d0f19229-422a-4587-8b13-526dbb6edbbc",
   "metadata": {},
   "outputs": [],
   "source": [
    "d=np.array([\"enter\",\"a\",\"frst\",\"n\"])"
   ]
  },
  {
   "cell_type": "code",
   "execution_count": 2,
   "id": "f885d96c-2c54-4223-8bfb-fb6c482c40a4",
   "metadata": {},
   "outputs": [],
   "source": [
    "d=np.array([1,2,3])"
   ]
  },
  {
   "cell_type": "code",
   "execution_count": 13,
   "id": "81fa2c8d-6cab-49c2-8d87-6f4dce506121",
   "metadata": {},
   "outputs": [
    {
     "name": "stdout",
     "output_type": "stream",
     "text": [
      "<class 'numpy.ndarray'>\n"
     ]
    }
   ],
   "source": [
    "print(type(d))"
   ]
  },
  {
   "cell_type": "code",
   "execution_count": 29,
   "id": "1423e3c1-c29e-410a-9a05-e2c077eac7ce",
   "metadata": {},
   "outputs": [
    {
     "data": {
      "text/plain": [
       "4"
      ]
     },
     "execution_count": 29,
     "metadata": {},
     "output_type": "execute_result"
    }
   ],
   "source": [
    "d.size"
   ]
  },
  {
   "cell_type": "code",
   "execution_count": 35,
   "id": "4aafa499-9ea1-4388-b46a-2cf05c5bc91c",
   "metadata": {},
   "outputs": [],
   "source": [
    "d.sort()"
   ]
  },
  {
   "cell_type": "code",
   "execution_count": 36,
   "id": "3885060e-a07a-4481-9765-b9bcbd55e81d",
   "metadata": {},
   "outputs": [
    {
     "data": {
      "text/plain": [
       "array(['a', 'enter', 'frst', 'n'], dtype='<U5')"
      ]
     },
     "execution_count": 36,
     "metadata": {},
     "output_type": "execute_result"
    }
   ],
   "source": [
    "d"
   ]
  },
  {
   "cell_type": "code",
   "execution_count": 33,
   "id": "121c2816-f65e-4192-9c4d-6331eb0cfe6e",
   "metadata": {},
   "outputs": [
    {
     "name": "stdout",
     "output_type": "stream",
     "text": [
      "a\n"
     ]
    }
   ],
   "source": [
    "print(d[0])"
   ]
  },
  {
   "cell_type": "code",
   "execution_count": 37,
   "id": "65046c03-12ff-455e-b0b0-989731624bcd",
   "metadata": {},
   "outputs": [],
   "source": [
    "f=np.array([[1,2,4],[3,5,0]])"
   ]
  },
  {
   "cell_type": "code",
   "execution_count": 40,
   "id": "58a6dcbc-8747-44fa-81cc-9ffe3f1580a0",
   "metadata": {},
   "outputs": [
    {
     "data": {
      "text/plain": [
       "False"
      ]
     },
     "execution_count": 40,
     "metadata": {},
     "output_type": "execute_result"
    }
   ],
   "source": [
    "f.all()"
   ]
  },
  {
   "cell_type": "code",
   "execution_count": null,
   "id": "37c8d1d6-fecc-43d3-9a1f-a2319187c6d5",
   "metadata": {},
   "outputs": [],
   "source": [
    "f.reshape(3,2)"
   ]
  },
  {
   "cell_type": "code",
   "execution_count": null,
   "id": "658231c4-3b52-4bb8-8d82-d0fcf14d41df",
   "metadata": {},
   "outputs": [],
   "source": [
    "v=np.arange(20)"
   ]
  },
  {
   "cell_type": "code",
   "execution_count": null,
   "id": "efadd8e7-817f-4e30-adac-b4c8fa6b4681",
   "metadata": {},
   "outputs": [],
   "source": [
    "g=v.reshape(5,4)"
   ]
  },
  {
   "cell_type": "code",
   "execution_count": null,
   "id": "a4b968ec-93cb-43c3-977c-5347214112ec",
   "metadata": {},
   "outputs": [],
   "source": [
    "print(g)"
   ]
  },
  {
   "cell_type": "code",
   "execution_count": 41,
   "id": "05bb785c-c223-44b7-8cde-3ff2eeee0154",
   "metadata": {},
   "outputs": [],
   "source": [
    "d=np.array([1,2,3])\n",
    "e=np.array([1,2,3])\n",
    "c=d+e"
   ]
  },
  {
   "cell_type": "code",
   "execution_count": 42,
   "id": "03e8384b-96a4-49d3-9d0c-6bf9f30cb9d3",
   "metadata": {},
   "outputs": [
    {
     "data": {
      "text/plain": [
       "array([2, 4, 6])"
      ]
     },
     "execution_count": 42,
     "metadata": {},
     "output_type": "execute_result"
    }
   ],
   "source": [
    "c"
   ]
  },
  {
   "cell_type": "code",
   "execution_count": 7,
   "id": "260e97d5-2a11-4fda-b0d4-e2dc851b88fa",
   "metadata": {},
   "outputs": [
    {
     "name": "stdin",
     "output_type": "stream",
     "text": [
      "enter a frst num =  20\n",
      "enter a symbol num =  /\n",
      "enter a sec num =  45\n"
     ]
    },
    {
     "name": "stdout",
     "output_type": "stream",
     "text": [
      "0.4444444444444444\n"
     ]
    }
   ],
   "source": [
    "def add(a,b):\n",
    "    return a+b\n",
    "def sub(a,b):\n",
    "    return a-b\n",
    "def div(a,b):\n",
    "    return a/b\n",
    "def mul(a,b):\n",
    "    return a*b\n",
    "a=int(input(\"enter a frst num = \"))\n",
    "s=input(\"enter a symbol num = \")\n",
    "b=int(input(\"enter a sec num = \"))\n",
    "if s== '+':\n",
    "    print(add(a,b))\n",
    "elif s== '-':\n",
    "    print(sub(a,b))\n",
    "elif s== '/':\n",
    "    print(div(a,b))\n",
    "elif s== '*':\n",
    "    print(mul(a,b))\n",
    "else:\n",
    "    print(\"****** invalid symbol operation *****\")\n",
    "      \n",
    "    "
   ]
  },
  {
   "cell_type": "code",
   "execution_count": null,
   "id": "4f0455f2-7a88-4e9b-9841-787e0ce563b0",
   "metadata": {},
   "outputs": [],
   "source": []
  },
  {
   "cell_type": "code",
   "execution_count": null,
   "id": "1eb2d728-2dff-4a17-b99d-c1f3feb33ec0",
   "metadata": {},
   "outputs": [],
   "source": []
  },
  {
   "cell_type": "code",
   "execution_count": null,
   "id": "a376a26f-fe10-4634-8c4f-e960c6323900",
   "metadata": {},
   "outputs": [],
   "source": []
  },
  {
   "cell_type": "code",
   "execution_count": null,
   "id": "5f76e5ce-20d3-4a38-ab50-f4bb9e09f190",
   "metadata": {},
   "outputs": [],
   "source": []
  },
  {
   "cell_type": "code",
   "execution_count": null,
   "id": "f65712e7-e7a7-4d65-80c1-63fe167c11ea",
   "metadata": {},
   "outputs": [],
   "source": []
  },
  {
   "cell_type": "code",
   "execution_count": null,
   "id": "9bbf8db4-82ff-4b42-bbb3-90738c97dd9f",
   "metadata": {},
   "outputs": [],
   "source": []
  },
  {
   "cell_type": "code",
   "execution_count": null,
   "id": "bcb4ea9d-e62f-4d1b-a307-93c4ce13e9ed",
   "metadata": {},
   "outputs": [],
   "source": []
  },
  {
   "cell_type": "code",
   "execution_count": null,
   "id": "558cc32f-5606-498c-8f5e-85c172f2310b",
   "metadata": {},
   "outputs": [],
   "source": []
  },
  {
   "cell_type": "code",
   "execution_count": null,
   "id": "1b44ff85-313a-4196-8ff9-d20d1b96387b",
   "metadata": {},
   "outputs": [],
   "source": [
    "c"
   ]
  },
  {
   "cell_type": "code",
   "execution_count": null,
   "id": "9a48abc4-e560-417a-988c-019848e2c956",
   "metadata": {},
   "outputs": [],
   "source": [
    "j=c**2"
   ]
  },
  {
   "cell_type": "code",
   "execution_count": null,
   "id": "c9a13faf-37e1-4b45-80a6-9f66071a60b5",
   "metadata": {},
   "outputs": [],
   "source": [
    "np.sqrt(j)"
   ]
  },
  {
   "cell_type": "markdown",
   "id": "804a6d38-7d64-4d31-830b-d1dc1a93d892",
   "metadata": {},
   "source": [
    "to store multiple in orangized way"
   ]
  },
  {
   "cell_type": "code",
   "execution_count": null,
   "id": "4c02ca2e-9cb0-4519-a1cf-e3c7022140a8",
   "metadata": {},
   "outputs": [],
   "source": [
    "import pandas as pd\n",
    "r=pd.Series([1,2,3,4,5,6,7,8,9,0])\n",
    "print(r)"
   ]
  },
  {
   "cell_type": "code",
   "execution_count": null,
   "id": "68d5d2e6-0d0c-4fb1-a56d-b4fe21e37f4e",
   "metadata": {},
   "outputs": [],
   "source": [
    "r=pd.Series([1,2,3,4,5,6,7,8,9,10], index= [10,20,30,40,50,60,50,80,90,100])\n",
    "r"
   ]
  },
  {
   "cell_type": "code",
   "execution_count": null,
   "id": "6fc68ac8-c6bf-42cf-8526-915c745c1afa",
   "metadata": {},
   "outputs": [],
   "source": [
    "r=pd.DataFrame([1,2,3,4,5,6,7,8,9,10])\n",
    "print(r)"
   ]
  },
  {
   "cell_type": "code",
   "execution_count": null,
   "id": "e3f1b4b4-14ae-4cd7-9132-d263b121e8a6",
   "metadata": {},
   "outputs": [],
   "source": [
    "d=np.array([25,67,89,56,9090,78])"
   ]
  },
  {
   "cell_type": "code",
   "execution_count": null,
   "id": "55ce077f-0d55-428a-9325-534b7525955f",
   "metadata": {},
   "outputs": [],
   "source": [
    "t=pd.Series(d)\n",
    "print(t)"
   ]
  },
  {
   "cell_type": "code",
   "execution_count": null,
   "id": "c63e52c2-d2ad-4e0d-b151-08a60de664ba",
   "metadata": {},
   "outputs": [],
   "source": [
    "dic={'ww':23,'mm':45}\n",
    "t=pd.DataFrame(dic)\n",
    "print(t)"
   ]
  },
  {
   "cell_type": "markdown",
   "id": "6148a8f4-e2a8-4835-860b-4414157a1b2a",
   "metadata": {},
   "source": [
    "data frame"
   ]
  },
  {
   "cell_type": "code",
   "execution_count": null,
   "id": "8c3f0b9b-55af-4da1-8c7a-bbfec9d6ac26",
   "metadata": {},
   "outputs": [],
   "source": [
    "a=[['ww',22],['ee',144],['0', 0],['rr', 34]]\n",
    "t=pd.DataFrame(a,columns=['name','num'])\n",
    "print(t)"
   ]
  },
  {
   "cell_type": "code",
   "execution_count": null,
   "id": "dc100aec-4a55-40ba-9e7c-e4636f3ad1cb",
   "metadata": {},
   "outputs": [],
   "source": [
    "a={'ww': 22, 'ee': 144, '0': 0, 'rr': 34}"
   ]
  },
  {
   "cell_type": "code",
   "execution_count": null,
   "id": "d5d06a04-1866-45e3-ac9d-ee20adf41295",
   "metadata": {},
   "outputs": [],
   "source": [
    "a"
   ]
  },
  {
   "cell_type": "code",
   "execution_count": null,
   "id": "e75f2d54-c0fd-4111-85b9-528ceecbc06d",
   "metadata": {},
   "outputs": [],
   "source": [
    "b=pd.DataFrame(a,columns=['name','num'])\n",
    "print(b)"
   ]
  },
  {
   "cell_type": "code",
   "execution_count": null,
   "id": "772a5283-9543-422c-92a4-b365d93cf203",
   "metadata": {},
   "outputs": [],
   "source": [
    "a=[['ww',22],['ee',144],['0', 0],['rr', 34]]\n",
    "t=pd.DataFrame(a,columns=['name','num'], index=[11,56,90,45])\n",
    "print(t)"
   ]
  },
  {
   "cell_type": "code",
   "execution_count": null,
   "id": "40bc664a-85c3-4876-8205-f36d5590fcd3",
   "metadata": {},
   "outputs": [],
   "source": [
    "a=['ee', 1, 'rr', 1, 'tt',57]"
   ]
  },
  {
   "cell_type": "code",
   "execution_count": null,
   "id": "0ffdd091-ee2d-4eb4-9f92-9fbd671d037c",
   "metadata": {},
   "outputs": [],
   "source": [
    "t=pd.Series(a)"
   ]
  },
  {
   "cell_type": "code",
   "execution_count": null,
   "id": "f5938201-c009-4637-98dd-83ed489d7205",
   "metadata": {},
   "outputs": [],
   "source": [
    "t"
   ]
  },
  {
   "cell_type": "code",
   "execution_count": null,
   "id": "314b25b1-47ec-4a6b-b464-fad564db387d",
   "metadata": {},
   "outputs": [],
   "source": [
    "# Python program to rearrange an array in minimum\n",
    "# maximum form\n",
    "\n",
    "# Function to rearrange the array elements alternately\n",
    "def rearrange(arr):\n",
    "    n = len(arr)\n",
    "    temp = [0] * n\n",
    "\n",
    "    # Indexes of smallest and largest elements\n",
    "    small, large = 0, n - 1\n",
    "\n",
    "    # To indicate whether we need to copy remaining\n",
    "    # largest or remaining smallest at next position\n",
    "    flag = True\n",
    "\n",
    "    # Store result in temp[]\n",
    "    for i in range(n):\n",
    "        if flag:\n",
    "            temp[i] = arr[large]\n",
    "            large -= 1\n",
    "        else:\n",
    "            temp[i] = arr[small]\n",
    "            small += 1\n",
    "        flag = not flag\n",
    "\n",
    "    # Copy temp[] to arr[]\n",
    "    for i in range(n):\n",
    "        arr[i] = temp[i]\n",
    "\n",
    "\n",
    "# Driver code\n",
    "arr = [5, 2, 7, 8, -2,25, 25]\n",
    "n = len(arr)\n",
    "\n",
    "print(\"Original Array\")\n",
    "for x in arr:\n",
    "    print(x, end=\" \")\n",
    "\n",
    "rearrange(arr)\n",
    "\n",
    "print(\"\\nModified Array\")\n",
    "for x in arr:\n",
    "    print(x)#end=\" \")\n"
   ]
  },
  {
   "cell_type": "code",
   "execution_count": null,
   "id": "efb24297-8e6b-4267-8352-52771731e2e7",
   "metadata": {},
   "outputs": [],
   "source": [
    "def meandering_order(arr):\n",
    "    # Sort the array in ascending order\n",
    "    arr.sort()\n",
    "    \n",
    "    # Initialize two pointers\n",
    "    low = 0\n",
    "    high = len(arr) - 1\n",
    "    \n",
    "    # Create an empty list to store the result\n",
    "    result = []\n",
    "    \n",
    "    # Alternate between the largest and smallest elements\n",
    "    while low <= high:\n",
    "        if high >= low:\n",
    "            result.append(arr[high])  # Pick largest element\n",
    "            high -= 1\n",
    "        if high >= low:\n",
    "            result.append(arr[low])   # Pick smallest element\n",
    "            low += 1\n",
    "        #print(result)\n",
    "    return result\n",
    "\n",
    "# Example usage\n",
    "arr = []\n",
    "n=int(input(\"enter\"))\n",
    "for i in range(n):\n",
    "    a=int(input(\"enter inputs\"))\n",
    "    arr.append(a)\n",
    "d=meandering_order(arr)\n",
    "for i in d:\n",
    "    print(i)\n",
    "#print(*meandering_order(arr))\n",
    "#arr = [5, 2, 7, 8, -2,25, 25]"
   ]
  },
  {
   "cell_type": "code",
   "execution_count": null,
   "id": "2a952521-158a-456e-8410-c1c2a78a6b76",
   "metadata": {},
   "outputs": [],
   "source": [
    "def meandering_order(arr):\n",
    "    # Sort the array in ascending order\n",
    "    arr.sort()\n",
    "    \n",
    "    # Initialize two pointers\n",
    "    low = 0\n",
    "    high = len(arr) - 1\n",
    "    \n",
    "    # Create an empty list to store the result\n",
    "    result = []\n",
    "    \n",
    "    # Alternate between the largest and smallest elements\n",
    "    while low <= high:\n",
    "        result.append(arr[high])  # Pick largest element\n",
    "        high -= 1\n",
    "        \n",
    "        if low <= high:\n",
    "            result.append(arr[low])  # Pick smallest element\n",
    "            low += 1\n",
    "    return result\n",
    "\n",
    "# Example usage\n",
    "arr = [5, 2, 7, 8, -2,25, 25]\n",
    "result = meandering_order(arr)  # Instead of printing, just assign the result to a variable\n"
   ]
  },
  {
   "cell_type": "code",
   "execution_count": null,
   "id": "e38bc46a-71a2-4da2-96e7-e1976dbc7d33",
   "metadata": {},
   "outputs": [],
   "source": [
    "pd.DataFrame?\n"
   ]
  },
  {
   "cell_type": "code",
   "execution_count": null,
   "id": "a89c8de5-3ef9-472f-835b-9aa13d981ffb",
   "metadata": {},
   "outputs": [],
   "source": [
    "import pandas as pd\n",
    "\n",
    "data = {['www', 34], ['eee', 5678], ['rrr', 7890], ['0', 0]}\n",
    "new = pd.DataFrame.from_dict(data,index=['name','num'])\n",
    "\n",
    "print(new)\n"
   ]
  },
  {
   "cell_type": "code",
   "execution_count": 19,
   "id": "afd8650c-5161-477c-bea0-8eccb7c0ac2d",
   "metadata": {},
   "outputs": [
    {
     "data": {
      "text/html": [
       "<div>\n",
       "<style scoped>\n",
       "    .dataframe tbody tr th:only-of-type {\n",
       "        vertical-align: middle;\n",
       "    }\n",
       "\n",
       "    .dataframe tbody tr th {\n",
       "        vertical-align: top;\n",
       "    }\n",
       "\n",
       "    .dataframe thead th {\n",
       "        text-align: right;\n",
       "    }\n",
       "</style>\n",
       "<table border=\"1\" class=\"dataframe\">\n",
       "  <thead>\n",
       "    <tr style=\"text-align: right;\">\n",
       "      <th></th>\n",
       "      <th>area</th>\n",
       "      <th>rainfall</th>\n",
       "      <th>temperature</th>\n",
       "    </tr>\n",
       "  </thead>\n",
       "  <tbody>\n",
       "    <tr>\n",
       "      <th>0</th>\n",
       "      <td>new-hills</td>\n",
       "      <td>100</td>\n",
       "      <td>20</td>\n",
       "    </tr>\n",
       "    <tr>\n",
       "      <th>1</th>\n",
       "      <td>cape-town</td>\n",
       "      <td>70</td>\n",
       "      <td>25</td>\n",
       "    </tr>\n",
       "    <tr>\n",
       "      <th>2</th>\n",
       "      <td>mumbai</td>\n",
       "      <td>200</td>\n",
       "      <td>39</td>\n",
       "    </tr>\n",
       "  </tbody>\n",
       "</table>\n",
       "</div>"
      ],
      "text/plain": [
       "        area  rainfall  temperature\n",
       "0  new-hills       100           20\n",
       "1  cape-town        70           25\n",
       "2     mumbai       200           39"
      ]
     },
     "execution_count": 19,
     "metadata": {},
     "output_type": "execute_result"
    }
   ],
   "source": [
    "import pandas as pd\n",
    "\n",
    "data = [{'area': 'new-hills', 'rainfall': 100, 'temperature': 20},\n",
    "\t\t{'area': 'cape-town', 'rainfall': 70, 'temperature': 25},\n",
    "\t\t{'area': 'mumbai', 'rainfall': 200, 'temperature': 39}]\n",
    "\n",
    "df = pd.DataFrame.from_dict(data)\n",
    "\n",
    "df\n"
   ]
  },
  {
   "cell_type": "code",
   "execution_count": null,
   "id": "79884436-cea3-4715-ac09-48d6e0161d41",
   "metadata": {},
   "outputs": [],
   "source": [
    "df."
   ]
  },
  {
   "cell_type": "code",
   "execution_count": null,
   "id": "e9683c5d-87cd-4f91-8c78-4a848863016b",
   "metadata": {},
   "outputs": [],
   "source": []
  },
  {
   "cell_type": "code",
   "execution_count": null,
   "id": "f7186b86-e1e4-4056-bac0-39b94810c639",
   "metadata": {},
   "outputs": [],
   "source": [
    "\n",
    "an email marketing platform wants to analysis user engament but generate a report that shows the total no of emails sent ,the total number emails opened,the open date for each campain"
   ]
  },
  {
   "cell_type": "code",
   "execution_count": 34,
   "id": "22930252-50f3-4e62-a8cf-4ca92fe682f0",
   "metadata": {},
   "outputs": [
    {
     "name": "stdout",
     "output_type": "stream",
     "text": [
      "\"Python\", \"Java\", \"c#\", \"c++\", \"VB.NET\"\n"
     ]
    }
   ],
   "source": [
    "import re\n",
    "a='\"Python\", \"Java\", \"c#\", \"c++\" and  \"VB.NET\"'\n",
    "pp=r' and\\s'\n",
    "print(re.sub(pp,r\",\",a))"
   ]
  },
  {
   "cell_type": "code",
   "execution_count": 30,
   "id": "87ec57ff-d9e9-4747-a41f-243bc49caa03",
   "metadata": {},
   "outputs": [
    {
     "name": "stdin",
     "output_type": "stream",
     "text": [
      "enter the limits =  100\n"
     ]
    },
    {
     "name": "stdout",
     "output_type": "stream",
     "text": [
      "28\n",
      "56\n",
      "84\n"
     ]
    }
   ],
   "source": [
    "def find_4_and_7(num):\n",
    "    for i in range(1,num+1):\n",
    "        if i%4==0 and i%7==0:\n",
    "            print(i)\n",
    "num=int(input(\"enter the limits = \"))\n",
    "find_4_and_7(num)"
   ]
  },
  {
   "cell_type": "code",
   "execution_count": 2,
   "id": "bd280f19-bd6a-4821-9245-1fb3cd6f85d1",
   "metadata": {},
   "outputs": [
    {
     "name": "stdout",
     "output_type": "stream",
     "text": [
      "['https://w3resource.com', 'http://github.com']\n"
     ]
    }
   ],
   "source": [
    "#My address is 21 4 RTS food street, pincode: 60 90 89\n",
    "import re\n",
    "a= '<p>Contents :</p><a href=\"https://w3resource.com\">Python Examples</a><a href=\"http://github.com\">Even More Examples</a>'\n",
    "pp=r\"\\w+://\\w+.\\w+\"\n",
    "print(re.findall(pp,a))"
   ]
  },
  {
   "cell_type": "code",
   "execution_count": 16,
   "id": "7cf71603-c8e4-48c5-955a-b6e8238bcd0c",
   "metadata": {},
   "outputs": [
    {
     "name": "stdout",
     "output_type": "stream",
     "text": [
      "an_email_marketing_platform_wants_to_analysis_user_engament_but_generate_a_report_that_shows_the_total_no_of_emails_sent_,the_total_number_emails_opened,the_open_date_for_each_campain\n",
      "an email marketing platform wants to analysis user engament but generate a report that shows the total no of emails sent ,the total number emails opened,the open date for each campain\n"
     ]
    }
   ],
   "source": [
    "a='an email marketing platform wants to analysis user engament but generate a report that shows the total no of emails sent ,the total number emails opened,the open date for each campain'\n",
    "#a='\"Python\", \"Java\", \"c#\", \"c++\" and  \"VB.NET\"'\n",
    "pp=r'\\s'\n",
    "match=re.sub(pp,\"_\",a)\n",
    "print(match)\n",
    "\n",
    "pp=r'\\_'\n",
    "match2=re.sub(pp,\" \",match)\n",
    "print(match2)\n"
   ]
  },
  {
   "cell_type": "code",
   "execution_count": 59,
   "id": "7b995a5c-8aaa-4f74-a7e2-d2d99a2ea5e7",
   "metadata": {},
   "outputs": [
    {
     "name": "stdout",
     "output_type": "stream",
     "text": [
      "['ane', 'Mail', 'Marketingplat', 'Form', 'Wants', 'To', 'date', 'for', 'each', 'campain']\n"
     ]
    }
   ],
   "source": [
    "a='aneMailMarketingplatFormWantsTo date for each campain'\n",
    "pp=r'[A-z][a-z]+'\n",
    "print(re.findall(pp,a))"
   ]
  },
  {
   "cell_type": "code",
   "execution_count": 5,
   "id": "8701660f-43ab-454e-8fda-827690b6c167",
   "metadata": {},
   "outputs": [
    {
     "name": "stdout",
     "output_type": "stream",
     "text": [
      "[('21', '4'), ('60', '9'), ('0', '8')]\n",
      "My address is 214 RTS food street, pincode: 609089\n"
     ]
    }
   ],
   "source": [
    "a='My address is 21 4 RTS food street, pincode: 60 90 89'\n",
    "pp=r'(\\d+)\\s+(\\d)'\n",
    "print(re.findall(pp,a))\n",
    "print(re.sub(pp,r'\\1\\2',a))"
   ]
  },
  {
   "cell_type": "code",
   "execution_count": 35,
   "id": "994ce3de-0176-4531-b0aa-409b5cbb8f82",
   "metadata": {},
   "outputs": [
    {
     "name": "stdout",
     "output_type": "stream",
     "text": [
      "ane Mail Marketingplat Form Wants Todatefore Kchcampain\n",
      "['M', 'M', 'F', 'W', 'T', 'K']\n"
     ]
    }
   ],
   "source": [
    "a='aneMailMarketingplatFormWantsTodateforeKchcampain'\n",
    "pp=r'([A-Z])'\n",
    "print(re.sub(pp,r\" \\1\",a))\n",
    "print(re.findall(pp,a))"
   ]
  },
  {
   "cell_type": "code",
   "execution_count": 100,
   "id": "22381d13-8ede-46f4-b09c-22cba24932f8",
   "metadata": {},
   "outputs": [
    {
     "name": "stdout",
     "output_type": "stream",
     "text": [
      "    0\n",
      "0  10\n",
      "1  20\n",
      "2  30\n",
      "3  40\n"
     ]
    }
   ],
   "source": [
    "import pandas as pd\n",
    "import numpy as np\n",
    "arr=np.array([10,20,30,40])\n",
    "df=pd.DataFrame(arr)\n",
    "print(df)"
   ]
  },
  {
   "cell_type": "code",
   "execution_count": 28,
   "id": "1940ec8d-3d9a-4946-a749-10b3407127e4",
   "metadata": {},
   "outputs": [
    {
     "name": "stdout",
     "output_type": "stream",
     "text": [
      "Python Is Python\n"
     ]
    }
   ],
   "source": [
    "a='PythonIsPython'\n",
    "#pp=r'(?<!^)'\n",
    "pp=r'(?<!^)(?=[A-Z])'\n",
    "print(re.sub(pp,r\" \",a))"
   ]
  },
  {
   "cell_type": "code",
   "execution_count": 41,
   "id": "5d843638-577b-4f7b-95d5-6305ceb0a63c",
   "metadata": {},
   "outputs": [
    {
     "name": "stdin",
     "output_type": "stream",
     "text": [
      "enter btw '14'= 14\n"
     ]
    },
    {
     "data": {
      "text/plain": [
       "'PythonIsPython'"
      ]
     },
     "execution_count": 41,
     "metadata": {},
     "output_type": "execute_result"
    }
   ],
   "source": [
    "def slicing_pattern(a,n):\n",
    "    c=a[0:n]\n",
    "    return c\n",
    "a='PythonIsPython'\n",
    "n=int(input(\"enter btw '14'=\"))\n",
    "slicing_pattern(a,n)"
   ]
  },
  {
   "cell_type": "code",
   "execution_count": 1,
   "id": "6f5fe6d2-f186-40ac-9670-166aeb6bc819",
   "metadata": {},
   "outputs": [],
   "source": [
    "import numpy as np \n",
    "import pandas as pd"
   ]
  },
  {
   "cell_type": "code",
   "execution_count": 8,
   "id": "b8caa840-62c2-4541-9c43-c85709aa7666",
   "metadata": {},
   "outputs": [],
   "source": [
    "df1=pd.read_csv(r\"C:\\Users\\ykmi1\\Downloads\\Companies Details.csv\")"
   ]
  },
  {
   "cell_type": "code",
   "execution_count": 11,
   "id": "db8939c5-1ed1-40fc-b988-e4975b16eb31",
   "metadata": {},
   "outputs": [
    {
     "data": {
      "text/html": [
       "<div>\n",
       "<style scoped>\n",
       "    .dataframe tbody tr th:only-of-type {\n",
       "        vertical-align: middle;\n",
       "    }\n",
       "\n",
       "    .dataframe tbody tr th {\n",
       "        vertical-align: top;\n",
       "    }\n",
       "\n",
       "    .dataframe thead th {\n",
       "        text-align: right;\n",
       "    }\n",
       "</style>\n",
       "<table border=\"1\" class=\"dataframe\">\n",
       "  <thead>\n",
       "    <tr style=\"text-align: right;\">\n",
       "      <th></th>\n",
       "      <th>Role</th>\n",
       "      <th>Company</th>\n",
       "      <th>Location</th>\n",
       "      <th>Mail ID</th>\n",
       "      <th>Contact No</th>\n",
       "    </tr>\n",
       "  </thead>\n",
       "  <tbody>\n",
       "    <tr>\n",
       "      <th>6</th>\n",
       "      <td>Analy</td>\n",
       "      <td>Thought works</td>\n",
       "      <td>Tharamani, Chennai</td>\n",
       "      <td>au@thoughtworks.com</td>\n",
       "      <td>61 73129 4506 , 04449018400</td>\n",
       "    </tr>\n",
       "    <tr>\n",
       "      <th>45</th>\n",
       "      <td>DS&amp;DA</td>\n",
       "      <td>Accenture</td>\n",
       "      <td>Sholinganallur, Chennai</td>\n",
       "      <td>John.Smith@accenture.com , deepshikha.agrawal@...</td>\n",
       "      <td>044 4078 2183 , +914442670000 , 4442670001</td>\n",
       "    </tr>\n",
       "    <tr>\n",
       "      <th>33</th>\n",
       "      <td>DA&amp;Vis</td>\n",
       "      <td>Capgemini</td>\n",
       "      <td>Karapakkam, Chennai</td>\n",
       "      <td>fresherhiring.in@capgemini.com</td>\n",
       "      <td>044-6749 2000</td>\n",
       "    </tr>\n",
       "    <tr>\n",
       "      <th>54</th>\n",
       "      <td>PY</td>\n",
       "      <td>Spiro Prime Tech Services</td>\n",
       "      <td>T. Nagar, Chennai</td>\n",
       "      <td>spiroprojects@gmail.com</td>\n",
       "      <td>9791 044 044 , 9962 067 067</td>\n",
       "    </tr>\n",
       "  </tbody>\n",
       "</table>\n",
       "</div>"
      ],
      "text/plain": [
       "      Role                    Company                 Location  \\\n",
       "6    Analy              Thought works       Tharamani, Chennai   \n",
       "45   DS&DA                  Accenture  Sholinganallur, Chennai   \n",
       "33  DA&Vis                  Capgemini      Karapakkam, Chennai   \n",
       "54      PY  Spiro Prime Tech Services        T. Nagar, Chennai   \n",
       "\n",
       "                                              Mail ID  \\\n",
       "6                                 au@thoughtworks.com   \n",
       "45  John.Smith@accenture.com , deepshikha.agrawal@...   \n",
       "33                     fresherhiring.in@capgemini.com   \n",
       "54                            spiroprojects@gmail.com   \n",
       "\n",
       "                                    Contact No  \n",
       "6                  61 73129 4506 , 04449018400  \n",
       "45  044 4078 2183 , +914442670000 , 4442670001  \n",
       "33                               044-6749 2000  \n",
       "54                 9791 044 044 , 9962 067 067  "
      ]
     },
     "execution_count": 11,
     "metadata": {},
     "output_type": "execute_result"
    }
   ],
   "source": [
    "df1.sample(4)"
   ]
  },
  {
   "cell_type": "code",
   "execution_count": 6,
   "id": "37c6ac9f-f2cb-44b6-9dd1-09bd154b2143",
   "metadata": {},
   "outputs": [],
   "source": [
    "df=pd.read_csv(\"C:\\\\Users\\\\ykmi1\\\\Downloads\\\\Companies Details.csv\")"
   ]
  },
  {
   "cell_type": "code",
   "execution_count": 12,
   "id": "d6214618-3d2a-433d-8c0a-9b4f70422b79",
   "metadata": {},
   "outputs": [
    {
     "data": {
      "text/plain": [
       "(60, 5)"
      ]
     },
     "execution_count": 12,
     "metadata": {},
     "output_type": "execute_result"
    }
   ],
   "source": [
    "df.shape"
   ]
  },
  {
   "cell_type": "markdown",
   "id": "72d576ec-df79-4d78-861a-06c2df229c71",
   "metadata": {},
   "source": [
    "axis=0 rows\n",
    "axis=1 columns"
   ]
  },
  {
   "cell_type": "code",
   "execution_count": 13,
   "id": "6c18de61-e842-4147-86bf-40ebb1566b66",
   "metadata": {},
   "outputs": [
    {
     "data": {
      "text/plain": [
       "Index(['Role', 'Company', 'Location', 'Mail ID', 'Contact No'], dtype='object')"
      ]
     },
     "execution_count": 13,
     "metadata": {},
     "output_type": "execute_result"
    }
   ],
   "source": [
    "df.columns"
   ]
  },
  {
   "cell_type": "code",
   "execution_count": 14,
   "id": "53ca6284-78e4-44db-a454-e028dc8ed1fa",
   "metadata": {},
   "outputs": [
    {
     "data": {
      "text/plain": [
       "Role          object\n",
       "Company       object\n",
       "Location      object\n",
       "Mail ID       object\n",
       "Contact No    object\n",
       "dtype: object"
      ]
     },
     "execution_count": 14,
     "metadata": {},
     "output_type": "execute_result"
    }
   ],
   "source": [
    "df.dtypes"
   ]
  },
  {
   "cell_type": "code",
   "execution_count": 15,
   "id": "cd2f7664-3467-4e31-bfb6-1ac66d88bfbf",
   "metadata": {},
   "outputs": [
    {
     "name": "stdout",
     "output_type": "stream",
     "text": [
      "<class 'pandas.core.frame.DataFrame'>\n",
      "RangeIndex: 60 entries, 0 to 59\n",
      "Data columns (total 5 columns):\n",
      " #   Column      Non-Null Count  Dtype \n",
      "---  ------      --------------  ----- \n",
      " 0   Role        60 non-null     object\n",
      " 1   Company     60 non-null     object\n",
      " 2   Location    59 non-null     object\n",
      " 3   Mail ID     59 non-null     object\n",
      " 4   Contact No  57 non-null     object\n",
      "dtypes: object(5)\n",
      "memory usage: 2.5+ KB\n"
     ]
    }
   ],
   "source": [
    "df.info()"
   ]
  },
  {
   "cell_type": "code",
   "execution_count": null,
   "id": "d8a0fafb-4922-4294-92c6-026d552408c5",
   "metadata": {},
   "outputs": [],
   "source": []
  }
 ],
 "metadata": {
  "kernelspec": {
   "display_name": "Python 3 (ipykernel)",
   "language": "python",
   "name": "python3"
  },
  "language_info": {
   "codemirror_mode": {
    "name": "ipython",
    "version": 3
   },
   "file_extension": ".py",
   "mimetype": "text/x-python",
   "name": "python",
   "nbconvert_exporter": "python",
   "pygments_lexer": "ipython3",
   "version": "3.11.7"
  }
 },
 "nbformat": 4,
 "nbformat_minor": 5
}
