{
 "cells": [
  {
   "cell_type": "code",
   "execution_count": 1,
   "id": "4b1468d7-568d-48c2-8914-724f175f4392",
   "metadata": {},
   "outputs": [
    {
     "name": "stdout",
     "output_type": "stream",
     "text": [
      "COMPREHENON\n"
     ]
    }
   ],
   "source": [
    "a=\"comprehenon\"\n",
    "print(a.upper())"
   ]
  },
  {
   "cell_type": "code",
   "execution_count": 2,
   "id": "3b28872c-f5f3-411b-96a6-3a19b6dd30a9",
   "metadata": {},
   "outputs": [
    {
     "name": "stdout",
     "output_type": "stream",
     "text": [
      "dict_comprehenon\n",
      "{1: 1, 2: 4, 3: 9, 4: 16, 5: 25, 6: 36, 7: 49, 8: 64, 9: 81}\n",
      "dict_comprehenon\n"
     ]
    }
   ],
   "source": [
    "print(\"dict_comprehenon\")\n",
    "my_dict = {i: i**2 for i in range(1, 10)}\n",
    "print(my_dict)\n",
    "print(\"dict_comprehenon\")"
   ]
  },
  {
   "cell_type": "code",
   "execution_count": 1,
   "id": "6395c45a-3f59-4605-aec3-d7238f387fe4",
   "metadata": {},
   "outputs": [
    {
     "name": "stdout",
     "output_type": "stream",
     "text": [
      "list_comprehenon\n",
      "[1, 4, 9, 16, 25, 36, 49, 64, 81]\n",
      "dict_comprehenon\n"
     ]
    }
   ],
   "source": [
    "print(\"list_comprehenon\")\n",
    "my_dict = [ i**2 for i in range(1, 10)]\n",
    "print(my_dict)\n",
    "print(\"dict_comprehenon\")"
   ]
  },
  {
   "cell_type": "code",
   "execution_count": 9,
   "id": "21e6e75a-d67b-451c-aaaf-a5ca2bfff4c7",
   "metadata": {},
   "outputs": [
    {
     "name": "stdout",
     "output_type": "stream",
     "text": [
      "tuple_comprehenon it only store in generators to view that by using for loop\n",
      "<generator object <genexpr> at 0x000001FE113E7850>\n",
      "dict_comprehenon\n",
      "1\n",
      "4\n",
      "9\n",
      "16\n",
      "25\n",
      "36\n",
      "49\n",
      "64\n",
      "81\n"
     ]
    }
   ],
   "source": [
    "print(\"tuple_comprehenon it only store in generators to view that by using for loop\")\n",
    "my_dict2 = ( i**2 for i in range(1, 10))\n",
    "print(my_dict2)its only print location of generators\n",
    "print(\"dict_comprehenon\")\n",
    "for i in my_dict2:\n",
    "    print(i)"
   ]
  },
  {
   "cell_type": "code",
   "execution_count": null,
   "id": "bd397ed1-cb4f-40f3-bee8-34d20601f726",
   "metadata": {},
   "outputs": [],
   "source": []
  },
  {
   "cell_type": "code",
   "execution_count": null,
   "id": "b12cd864-3aab-4ad6-af5b-406f7f0bbd12",
   "metadata": {},
   "outputs": [],
   "source": []
  }
 ],
 "metadata": {
  "kernelspec": {
   "display_name": "Python 3 (ipykernel)",
   "language": "python",
   "name": "python3"
  },
  "language_info": {
   "codemirror_mode": {
    "name": "ipython",
    "version": 3
   },
   "file_extension": ".py",
   "mimetype": "text/x-python",
   "name": "python",
   "nbconvert_exporter": "python",
   "pygments_lexer": "ipython3",
   "version": "3.11.7"
  }
 },
 "nbformat": 4,
 "nbformat_minor": 5
}
