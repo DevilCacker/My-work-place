{
 "cells": [
  {
   "cell_type": "code",
   "execution_count": 33,
   "id": "fb3a23bf-7b2a-455c-82ff-73d0813a8857",
   "metadata": {},
   "outputs": [
    {
     "name": "stdin",
     "output_type": "stream",
     "text": [
      "enter ur list =  rice 56\n",
      "enter ur list =  0\n"
     ]
    },
    {
     "name": "stdout",
     "output_type": "stream",
     "text": [
      "{'rice': 34, 'white': 56}\n"
     ]
    }
   ],
   "source": [
    "import re \n",
    "d={'rice':34,'white':56}\n",
    "while True:\n",
    "    a=input(\"enter ur list = \")\n",
    "    if a == \"0\":\n",
    "        break\n",
    "    pp=r'[A-Za-z][a-z]+|\\d+'\n",
    "    matches=re.findall(pp,a)\n",
    "    if matches[0] in d.items():\n",
    "        print(matches[0])\n",
    "        d[matches[0]]=matches[1]+v\n",
    "    \n",
    "print(d)"
   ]
  },
  {
   "cell_type": "code",
   "execution_count": 25,
   "id": "db2f6caa-202c-420e-b569-e520bb8a4dc7",
   "metadata": {},
   "outputs": [
    {
     "name": "stdin",
     "output_type": "stream",
     "text": [
      "enter ur list =  ghu89\n"
     ]
    },
    {
     "name": "stdout",
     "output_type": "stream",
     "text": [
      "ghu 89\n"
     ]
    }
   ],
   "source": [
    "d={'rice':34,'white':56}\n",
    "a=input(\"enter ur list = \")\n",
    "pp=r'[A-Za-z][a-z]+|\\d+'\n",
    "matches=re.findall(pp,a)\n",
    "print(matches[0],matches[1])\n",
    "#if matches in d.items():\n",
    "   # d[matches]=matches[1]+v"
   ]
  },
  {
   "cell_type": "code",
   "execution_count": null,
   "id": "16bb7770-72a1-4d0b-b1d7-ad7783550fcc",
   "metadata": {},
   "outputs": [],
   "source": []
  },
  {
   "cell_type": "code",
   "execution_count": null,
   "id": "f32f0ab6-b5d5-4590-a7af-ab8798ee0cd5",
   "metadata": {},
   "outputs": [],
   "source": []
  },
  {
   "cell_type": "code",
   "execution_count": null,
   "id": "180ee142-6f97-4384-b264-a7d3d4c4cb15",
   "metadata": {},
   "outputs": [],
   "source": []
  }
 ],
 "metadata": {
  "kernelspec": {
   "display_name": "Python 3 (ipykernel)",
   "language": "python",
   "name": "python3"
  },
  "language_info": {
   "codemirror_mode": {
    "name": "ipython",
    "version": 3
   },
   "file_extension": ".py",
   "mimetype": "text/x-python",
   "name": "python",
   "nbconvert_exporter": "python",
   "pygments_lexer": "ipython3",
   "version": "3.11.7"
  }
 },
 "nbformat": 4,
 "nbformat_minor": 5
}
